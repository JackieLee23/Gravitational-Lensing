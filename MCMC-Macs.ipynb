{
 "cells": [
  {
   "cell_type": "code",
   "execution_count": 2,
   "id": "3e58e146",
   "metadata": {},
   "outputs": [
    {
     "name": "stdout",
     "output_type": "stream",
     "text": [
      "Read image data from file Files/m0416_images_0.5.dat\n",
      "Read halo data from file Files/m0416halo.dat\n",
      "Read deflection data from file Files/m0416_def1-los.pkl\n"
     ]
    }
   ],
   "source": [
    "#import Pool\n",
    "from multiprocessing import Pool\n",
    "import RunParallelMacs as rpm\n"
   ]
  },
  {
   "cell_type": "code",
   "execution_count": 4,
   "id": "85af0dfa",
   "metadata": {},
   "outputs": [],
   "source": [
    "if __name__ == '__main__':\n",
    "    #Assuming you want to use 3 processors\n",
    "    num_processors = 4\n",
    "    #Create a pool of processors\n",
    "    p=Pool(processes = num_processors)\n",
    "\n",
    "    #get them to work in parallel\n",
    "    ret = p.map(rpm.runMC,[i for i in range(4)])\n"
   ]
  }
 ],
 "metadata": {
  "kernelspec": {
   "display_name": "Python 3",
   "language": "python",
   "name": "python3"
  },
  "language_info": {
   "codemirror_mode": {
    "name": "ipython",
    "version": 3
   },
   "file_extension": ".py",
   "mimetype": "text/x-python",
   "name": "python",
   "nbconvert_exporter": "python",
   "pygments_lexer": "ipython3",
   "version": "3.8.8"
  }
 },
 "nbformat": 4,
 "nbformat_minor": 5
}
