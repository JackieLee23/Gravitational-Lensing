{
 "cells": [
  {
   "cell_type": "code",
   "execution_count": 1,
   "id": "fcca1292",
   "metadata": {},
   "outputs": [],
   "source": [
    "import numpy as np\n",
    "import matplotlib.pyplot as plt\n",
    "import matplotlib.cm as cm\n",
    "import matplotlib.gridspec as gridspec\n",
    "import matplotlib.patches as mpatches\n",
    "import matplotlib.colors as colors\n",
    "from matplotlib.patches import Ellipse\n",
    "%matplotlib inline\n",
    "import math\n",
    "import fitClus2D as fc\n",
    "from scipy.stats import sigmaclip\n",
    "from sklearn.neighbors import KNeighborsClassifier, RadiusNeighborsClassifier\n",
    "\n",
    "import astropy\n",
    "from astropy.stats import sigma_clip\n",
    "from astropy.io import fits\n",
    "from astropy.wcs import WCS\n",
    "\n",
    "import pandas as pd\n",
    "\n",
    "cluster = 'm0416'"
   ]
  },
  {
   "cell_type": "code",
   "execution_count": 2,
   "id": "e99bb635",
   "metadata": {
    "scrolled": true
   },
   "outputs": [
    {
     "name": "stderr",
     "output_type": "stream",
     "text": [
      "C:\\Users\\Jackson Lee\\Anaconda3\\lib\\site-packages\\IPython\\core\\interactiveshell.py:3165: DtypeWarning: Columns (3,8) have mixed types.Specify dtype option on import or set low_memory=False.\n",
      "  has_raised = await self.run_ast_nodes(code_ast.body, cell_name,\n"
     ]
    },
    {
     "name": "stdout",
     "output_type": "stream",
     "text": [
      "0.38350230017652603\n",
      "145\n"
     ]
    }
   ],
   "source": [
    "# Get galaxy data, make arrays for known cluster/noncluster members, \n",
    "data = pd.read_csv(\"Files/\" + cluster+'_master.csv')\n",
    "unknown = []\n",
    "clusterarr = []\n",
    "ncluster = []\n",
    "clustz = 0.396\n",
    "cut = 0.03\n",
    "\n",
    "for i, row in data.iterrows():\n",
    "    if not np.isnan(row['master_mag606']) and not np.isnan(row['master_mag814']) and row['master_d'] < 120 and row['master_mag814'] < 23.5 and row['master_valid'] == 1:\n",
    "        if np.isnan(row['master_z']):\n",
    "            unknown.append(row)\n",
    "        else:\n",
    "            if abs(row['master_z'] - clustz) <= cut:\n",
    "                clusterarr.append(row)\n",
    "            else:\n",
    "                ncluster.append(row)\n",
    "\n",
    "#Clip redshifts\n",
    "clusterz = np.array([row['master_z'] for row in clusterarr])\n",
    "arr, low, high = sigmaclip(clusterz, 3, 3)\n",
    "print(low)\n",
    "tmpclust = []\n",
    "\n",
    "for row in clusterarr:\n",
    "    if row['master_z'] > low and row['master_z'] < high:\n",
    "        tmpclust.append(row)\n",
    "    else:\n",
    "        ncluster.append(row)\n",
    "clusterarr = tmpclust\n",
    "\n",
    "#Create feature and category arrays for knowns, and feature array for unknowns\n",
    "XclustCM= [[row['master_mag814'], row['master_mag606'] - row['master_mag814']] for row in clusterarr]\n",
    "XnclustCM = [[row['master_mag814'], row['master_mag606'] - row['master_mag814']] for row in ncluster]\n",
    "Xcm = np.array(XclustCM + XnclustCM)\n",
    "\n",
    "unknownXcm = [[row['master_mag814'], row['master_mag606'] - row['master_mag814']] for row in unknown]\n",
    "unknownXcm = np.array(unknownXcm)\n",
    "\n",
    "clustnum = len(clusterarr)\n",
    "nclustnum = len(ncluster)\n",
    "\n",
    "y = np.zeros(clustnum + nclustnum)\n",
    "y[:len(clusterarr)] = 1\n",
    "\n",
    "print(clustnum)"
   ]
  },
  {
   "cell_type": "code",
   "execution_count": 8,
   "id": "3bc94128",
   "metadata": {},
   "outputs": [
    {
     "name": "stdout",
     "output_type": "stream",
     "text": [
      "0.3796\n",
      "0.4239\n"
     ]
    }
   ],
   "source": [
    "\n",
    "test = sigma_clip(clusterz, maxiters = None)\n",
    "for i, val in enumerate(test.mask):\n",
    "    if val:\n",
    "        print(clusterz[i])"
   ]
  },
  {
   "cell_type": "code",
   "execution_count": 6,
   "id": "92404b49",
   "metadata": {},
   "outputs": [
    {
     "name": "stdout",
     "output_type": "stream",
     "text": [
      "RA              64.00911\n",
      "Dec           -24.088767\n",
      "F606W_mag          23.75\n",
      "F606W_err           0.02\n",
      "F814W_mag          23.12\n",
      "F814W_err           0.02\n",
      "z                   0.38\n",
      "Status       member-spec\n",
      "Refs             1,5,6,7\n",
      "Name: 34, dtype: object\n"
     ]
    }
   ],
   "source": [
    "datapaper = pd.read_csv(\"Files/\" + cluster + \"paper.csv\")\n",
    "papercluster = []\n",
    "for i, row in datapaper.iterrows():\n",
    "    if row.Status == \"member-spec\":\n",
    "        papercluster.append(row)\n",
    "        \n",
    "\n",
    "included = [False for i in range(clustnum)]\n",
    "used = [False for i in range(len(papercluster))]\n",
    "\n",
    "\n",
    "for i, gal in enumerate(papercluster):\n",
    "    for j, gal2 in enumerate(clusterarr):\n",
    "        if abs(gal.RA - gal2.master_RA) <= 0.000001 and abs(gal.Dec - gal2.master_Dec) <= 0.000001:\n",
    "            included[j] = True\n",
    "            used[i] = True\n",
    "            \n",
    "for i, gal in enumerate(papercluster):\n",
    "    if not used[i]:\n",
    "        print(gal)\n",
    "        "
   ]
  },
  {
   "cell_type": "code",
   "execution_count": 60,
   "id": "ac1686a4",
   "metadata": {},
   "outputs": [],
   "source": [
    "def sigmaCut(X, y, p, k):\n",
    "    clustermag = [dat[0] for i, dat in enumerate(X) if y[i] == 1]\n",
    "    clustercolor = [dat[1] for i, dat in enumerate(X) if y[i] == 1]\n",
    "    \n",
    "    model = np.polyfit(clustermag, clustercolor, 1)\n",
    "    predict = np.poly1d(model)\n",
    "    \n",
    "    sigma = np.std(clustercolor)\n",
    "    \n",
    "    probs = np.zeros(len(p))\n",
    "    classes = np.zeros(len(p))\n",
    "    \n",
    "    nclust = 0\n",
    "    ntot = 0\n",
    "    \n",
    "    for i, point in enumerate(X):\n",
    "        if abs(point[1] - predict(point[0])) < k * sigma:\n",
    "            if y[i] == 1:\n",
    "                nclust += 1\n",
    "            ntot += 1\n",
    "    prob = nclust / ntot\n",
    "    \n",
    "    for i, point in enumerate(p):\n",
    "        if abs(point[1] - predict(point[0])) < k * sigma:\n",
    "               probs[i] = prob\n",
    "               classes[i] = 1\n",
    "    \n",
    "    print(predict(23.3242) - sigma)\n",
    "    return probs, classes"
   ]
  },
  {
   "cell_type": "code",
   "execution_count": 61,
   "id": "717078c0",
   "metadata": {},
   "outputs": [
    {
     "name": "stdout",
     "output_type": "stream",
     "text": [
      "0.5836854959511864\n",
      "162.0\n",
      "RA              3.584027\n",
      "Dec           -30.375176\n",
      "F606W_mag          23.91\n",
      "F606W_err           0.01\n",
      "F814W_mag          23.32\n",
      "F814W_err            0.0\n",
      "z                   -1.0\n",
      "Status       member-phot\n",
      "Refs                 4,5\n",
      "Name: 172, dtype: object\n"
     ]
    }
   ],
   "source": [
    "sigmaclass = sigmaCut(Xcm, y, unknownXcm, 1.0)[1]\n",
    "print(np.sum(sigmaclass))\n",
    "\n",
    "paperphot = []\n",
    "for i, row in datapaper.iterrows():\n",
    "    if row.Status == \"member-phot\":\n",
    "        paperphot.append(row)\n",
    "\n",
    "vis = [False for i in range(len(paperphot))]\n",
    "\n",
    "for i, gal in enumerate(unknown):\n",
    "    if sigmaclass[i] == 1:\n",
    "        for j, gal2 in enumerate(paperphot):\n",
    "            if abs(gal2.RA - gal.master_RA) <= 0.000001 and abs(gal2.Dec - gal.master_Dec) <= 0.000001:\n",
    "                vis[j] = True\n",
    "                sigmaclass[i] = True\n",
    "\n",
    "for i, gal in enumerate(paperphot):\n",
    "    if not vis[i]:\n",
    "        print(gal)\n",
    "            \n",
    "        "
   ]
  }
 ],
 "metadata": {
  "kernelspec": {
   "display_name": "Python 3",
   "language": "python",
   "name": "python3"
  },
  "language_info": {
   "codemirror_mode": {
    "name": "ipython",
    "version": 3
   },
   "file_extension": ".py",
   "mimetype": "text/x-python",
   "name": "python",
   "nbconvert_exporter": "python",
   "pygments_lexer": "ipython3",
   "version": "3.8.8"
  }
 },
 "nbformat": 4,
 "nbformat_minor": 5
}
