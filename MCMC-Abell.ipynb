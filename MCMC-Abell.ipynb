{
 "cells": [
  {
   "cell_type": "code",
   "execution_count": 1,
   "id": "2a1de8b1",
   "metadata": {},
   "outputs": [
    {
     "name": "stdout",
     "output_type": "stream",
     "text": [
      "Read image data from file Files/a2744_images_0.5.dat\n",
      "Read halo data from file Files/a2744halo.dat\n",
      "Read deflection data from file Files/a2744_def1-los.pkl\n"
     ]
    }
   ],
   "source": [
    "#import Pool\n",
    "from multiprocessing import Pool\n",
    "import RunParallel as rp\n"
   ]
  },
  {
   "cell_type": "code",
   "execution_count": 2,
   "id": "fc8f21ee",
   "metadata": {},
   "outputs": [],
   "source": [
    "if __name__ == '__main__':\n",
    "    #Assuming you want to use 3 processors\n",
    "    num_processors = 3\n",
    "    #Create a pool of processors\n",
    "    p=Pool(processes = num_processors)\n",
    "\n",
    "    #get them to work in parallel\n",
    "    ret = p.map(rp.runMC,[i for i in range(3)])\n"
   ]
  }
 ],
 "metadata": {
  "kernelspec": {
   "display_name": "Python 3",
   "language": "python",
   "name": "python3"
  },
  "language_info": {
   "codemirror_mode": {
    "name": "ipython",
    "version": 3
   },
   "file_extension": ".py",
   "mimetype": "text/x-python",
   "name": "python",
   "nbconvert_exporter": "python",
   "pygments_lexer": "ipython3",
   "version": "3.8.8"
  }
 },
 "nbformat": 4,
 "nbformat_minor": 5
}
