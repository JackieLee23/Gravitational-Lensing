{
 "cells": [
  {
   "cell_type": "code",
   "execution_count": 1,
   "id": "b96d37d5",
   "metadata": {},
   "outputs": [
    {
     "name": "stdout",
     "output_type": "stream",
     "text": [
      "Read image data from file C:\\Users\\Jackson\\Jupyter projects\\Files/a2744_images_0.5.dat\n"
     ]
    }
   ],
   "source": [
    "cluster = 'a2744'\n",
    "zclus = {'a2744' : 0.308,\n",
    "         'm0416' : 0.396}\n",
    "pgals = {'a2744' : [1.689791e-01, 1.965115e+00, 2.0],\n",
    "        'm0416' : [3.737113e-01, 1.322081e+00, 2.0]}\n",
    "nclus = {'a2744': \"Abell 2744\",\n",
    "         'm0416' : \"MACS 0416\"}\n",
    "\n",
    "import sys\n",
    "utils = 'C:\\\\Users\\\\Jackson\\\\Jupyter projects\\\\Master\\\\Utility\\\\'\n",
    "sys.path.insert(0, utils)\n",
    "\n",
    "root = 'C:\\\\Users\\\\Jackson\\\\Jupyter projects\\\\'\n",
    "sys.path.insert(0, root)\n",
    "filebase = 'C:\\\\Users\\\\Jackson\\\\Jupyter projects\\\\Master\\\\' + nclus[cluster] + \"\\\\Files\\\\\"\n",
    "\n",
    "import numpy as np\n",
    "import numpy.ma as ma\n",
    "from astropy.cosmology import FlatLambdaCDM\n",
    "from os import listdir\n",
    "from os.path import isfile, join\n",
    "import MCUtil as MC\n",
    "import DeltaSquared as DS\n",
    "import matplotlib.pyplot as plt\n",
    "import matplotlib.cm as cm\n",
    "import statistics\n",
    "import fitClusParallel as myfit\n",
    "\n",
    "cosmo = FlatLambdaCDM(H0=70, Om0=0.3)\n",
    "zlens = zclus[cluster]\n",
    "imgdat = myfit.imgclass(root + \"Files/\" + cluster + '_images_0.5.dat',zlens,cosmo)"
   ]
  },
  {
   "cell_type": "code",
   "execution_count": 2,
   "id": "f48368e0",
   "metadata": {},
   "outputs": [],
   "source": [
    "sameDet = [\"CM + sigmaDet\", \"CM + sigmaDet - 1\", \"CM + sigmaDet - 2\", \"CM + sigmaDet - 3\", \"CM + sigmaDet - 4\"]\n",
    "sameRF = [\"Coe + rf\", \"Coe + rf - 1\", \"Coe + rf - 2\", \"Coe + rf - 3\", \"Coe + rf - 4\"]"
   ]
  },
  {
   "cell_type": "code",
   "execution_count": 3,
   "id": "6cf12ad9",
   "metadata": {},
   "outputs": [],
   "source": [
    "#Compare scores between different realizations of same sigma\n",
    "def compSame(arr):\n",
    "    print(\"Cross comparison D^2 between models with same parameters: \")\n",
    "    count = 0\n",
    "    sum  = 0\n",
    "    for i in range(len(arr)):\n",
    "        for j in range(i + 1, len(arr)):\n",
    "            dist1 = np.load(filebase + \"MCMC\\\\\"+ arr[i] + \"-main.npy\")\n",
    "            dist2 = np.load(filebase + \"MCMC\\\\\" + arr[j] + \"-main.npy\")\n",
    "            score = DS.TwoSampleTest(dist1, dist2)\n",
    "            count += 1\n",
    "            sum += score\n",
    "            print(score)\n",
    "            \n",
    "    print(\"Average: {}\".format(sum / count))"
   ]
  },
  {
   "cell_type": "code",
   "execution_count": 4,
   "id": "f8abb7ed",
   "metadata": {},
   "outputs": [
    {
     "name": "stdout",
     "output_type": "stream",
     "text": [
      "Different Runs of Deterministic Cut:\n",
      "Cross comparison D^2 between models with same parameters: \n",
      "0.46982645497471115\n",
      "0.40824012901296813\n",
      "0.720220805089673\n",
      "1.167673900449292\n",
      "0.6683285818425229\n",
      "0.8574196149893617\n",
      "0.876294008948604\n",
      "0.48396948537413365\n",
      "0.8251332873058415\n",
      "0.9199677067952765\n",
      "Average: 0.7397073974782384\n"
     ]
    }
   ],
   "source": [
    "print(\"Different Runs of Deterministic Cut:\")\n",
    "compSame(sameDet)"
   ]
  },
  {
   "cell_type": "code",
   "execution_count": 5,
   "id": "7f66895e",
   "metadata": {},
   "outputs": [
    {
     "name": "stdout",
     "output_type": "stream",
     "text": [
      "Different Runs of probabilistic (random forest) Cut:\n",
      "Cross comparison D^2 between models with same parameters: \n",
      "0.6113958293867239\n",
      "0.6224054641120353\n",
      "0.691138114345371\n",
      "0.4171020140739917\n",
      "0.5089527337371419\n",
      "0.7434918735589585\n",
      "0.5042347731148895\n",
      "0.5122981688480095\n",
      "0.4300913068547178\n",
      "0.49763555764624817\n",
      "Average: 0.5538745835678087\n"
     ]
    }
   ],
   "source": [
    "print(\"Different Runs of probabilistic (random forest) Cut:\")\n",
    "compSame(sameRF)"
   ]
  },
  {
   "cell_type": "code",
   "execution_count": 2,
   "id": "69737d00",
   "metadata": {},
   "outputs": [
    {
     "name": "stdout",
     "output_type": "stream",
     "text": [
      "dict_keys(['CM + sigmaDet', 'CM + sigmaProb', 'CM + prop', 'CM + box', 'CM + knn', 'CM + logistic', 'CM + svm', 'CM + gnb', 'CM + mnb', 'CM + cnb', 'CM + rf', 'CMP + knn', 'CMP + logistic', 'CMP + svm', 'CMP + gnb', 'CMP + mnb', 'CMP + cnb', 'CMP + rf', 'Coe + knn', 'Coe + logistic', 'Coe + svm', 'Coe + gnb', 'Coe + mnb', 'Coe + cnb', 'Coe + rf', 'CM + rnn', 'CMP + rnn', 'Coe + rnn'])\n"
     ]
    }
   ],
   "source": [
    "scoreFile = np.load(filebase + \"scores.npy\", allow_pickle = True)\n",
    "modelScores = scoreFile[()]\n",
    "print(modelScores.keys())"
   ]
  },
  {
   "cell_type": "code",
   "execution_count": 3,
   "id": "f20a02e7",
   "metadata": {},
   "outputs": [],
   "source": [
    "#Compare probabilities of models\n",
    "probsBase = filebase + \"Galaxy Probability Files\\\\\"\n",
    "models = list(modelScores.keys())\n",
    "probabilities = []\n",
    "\n",
    "for model in models:\n",
    "    probs = np.loadtxt(probsBase + model)\n",
    "    probabilities.append(probs[:,3])\n",
    "    \n",
    "probabilities = np.array(probabilities)"
   ]
  },
  {
   "cell_type": "code",
   "execution_count": 4,
   "id": "7c2ad90c",
   "metadata": {},
   "outputs": [
    {
     "name": "stdout",
     "output_type": "stream",
     "text": [
      "(28, 28)\n"
     ]
    }
   ],
   "source": [
    "corrMatrix = np.corrcoef(probabilities)\n",
    "print(corrMatrix.shape)"
   ]
  },
  {
   "cell_type": "code",
   "execution_count": 5,
   "id": "e41c8720",
   "metadata": {},
   "outputs": [
    {
     "name": "stdout",
     "output_type": "stream",
     "text": [
      "0\n",
      "1\n",
      "2\n",
      "3\n",
      "4\n",
      "5\n",
      "6\n",
      "7\n",
      "8\n",
      "9\n",
      "10\n",
      "11\n",
      "12\n",
      "13\n",
      "14\n",
      "15\n",
      "16\n",
      "17\n",
      "18\n",
      "19\n",
      "20\n",
      "21\n",
      "22\n",
      "23\n",
      "24\n",
      "25\n",
      "26\n",
      "27\n"
     ]
    }
   ],
   "source": [
    "numModels = len(models)\n",
    "dsMatrix = np.zeros((numModels, numModels))\n",
    "\n",
    "for i in range(numModels):\n",
    "    print(i)\n",
    "    for j in range(numModels):\n",
    "        dist1 = np.load(filebase + \"\\\\MCMC\\\\\"+ models[i] + \"-main.npy\")\n",
    "        dist2 = np.load(filebase + \"\\\\MCMC\\\\\" + models[j] + \"-main.npy\")\n",
    "        dscore = DS.TwoSampleTest(dist1, dist2)\n",
    "\n",
    "        dsMatrix[i][j] = dscore"
   ]
  },
  {
   "cell_type": "code",
   "execution_count": 6,
   "id": "8563f3e1",
   "metadata": {},
   "outputs": [
    {
     "name": "stdout",
     "output_type": "stream",
     "text": [
      "Read image data from file C:\\Users\\Jackson\\Jupyter projects\\Files/a2744_images_0.5.dat\n"
     ]
    }
   ],
   "source": [
    "#Get images\n",
    "imgdat = myfit.imgclass(root + \"Files/\" + cluster + '_images_0.5.dat',zlens,cosmo)"
   ]
  },
  {
   "cell_type": "code",
   "execution_count": 7,
   "id": "c1f6d0f0",
   "metadata": {},
   "outputs": [
    {
     "data": {
      "text/plain": [
       "Text(0.5, 0, 'Correlation Coefficient')"
      ]
     },
     "execution_count": 7,
     "metadata": {},
     "output_type": "execute_result"
    },
    {
     "data": {
      "image/png": "[encoded data removed]",
      "text/plain": [
       "<Figure size 432x288 with 1 Axes>"
      ]
     },
     "metadata": {
      "needs_background": "light"
     },
     "output_type": "display_data"
    }
   ],
   "source": [
    "fig, ax = plt.subplots()\n",
    "ax.scatter(corrMatrix, dsMatrix)\n",
    "\n",
    "ax.set_title(\"DS score vs Correlation coefficient fore all pairs of models\")\n",
    "\n",
    "ax.set_ylabel(\"DS score\")\n",
    "ax.set_xlabel(\"Correlation Coefficient\")"
   ]
  },
  {
   "cell_type": "code",
   "execution_count": 124,
   "id": "291846b2",
   "metadata": {},
   "outputs": [
    {
     "name": "stdout",
     "output_type": "stream",
     "text": [
      "CM + sigmaDet, CM + prop: 0.3324728150028103: 3.2159413070045493\n",
      "CM + sigmaDet, CM + knn: 0.3987557818055305: 2.5897775598259356\n",
      "CM + sigmaDet, CM + logistic: 0.3440557554848448: 3.3128222750051974\n",
      "CM + sigmaDet, CM + svm: 0.36401779629613135: 2.2012025934328525\n",
      "CM + sigmaDet, CM + mnb: 0.3567506163176141: 4.872682995714842\n",
      "CM + sigmaDet, CM + cnb: 0.35011142827273384: 7.314920112592987\n",
      "CM + sigmaDet, CMP + logistic: 0.33363357250799736: 3.4295595567479427\n",
      "CM + sigmaDet, CMP + svm: 0.37069897009737895: 2.6134705347674543\n",
      "CM + sigmaDet, CMP + mnb: 0.354906830738969: 3.8824497463170147\n",
      "CM + sigmaDet, CMP + cnb: 0.3489931990386325: 5.754349016056713\n",
      "CM + sigmaDet, CMP + rf: 0.38259621714454506: 2.556041219628787\n",
      "CM + sigmaDet, Coe + knn: 0.33635480756393504: 1.8249602028973333\n",
      "CM + sigmaDet, Coe + logistic: 0.3559138357308657: 3.0612006543741845\n",
      "CM + sigmaDet, Coe + svm: 0.3266219700966777: 2.684004897238411\n",
      "CM + sigmaDet, Coe + gnb: 0.3482582115582748: 2.0396448956143796\n",
      "CM + sigmaDet, Coe + mnb: 0.3299826690852932: 3.3395815457214724\n",
      "CM + sigmaDet, Coe + cnb: 0.3390565268489089: 4.6936318202673295\n",
      "CM + sigmaDet, Coe + rf: 0.3774394463738273: 2.7672167258301403\n",
      "CM + sigmaDet, Coe + rnn: 0.09428566079697992: 2.8837999088468695\n",
      "CM + sigmaProb, Coe + rnn: 0.24323863145806057: 1.4186865141479224\n",
      "CM + prop, CM + sigmaDet: 0.33247281500281023: 3.2159413070045493\n",
      "CM + knn, CM + sigmaDet: 0.3987557818055305: 2.5897775598259356\n",
      "CM + logistic, CM + sigmaDet: 0.34405575548484485: 3.3128222750051974\n",
      "CM + svm, CM + sigmaDet: 0.3640177962961314: 2.2012025934328525\n",
      "CM + mnb, CM + sigmaDet: 0.35675061631761407: 4.872682995714842\n",
      "CM + cnb, CM + sigmaDet: 0.35011142827273384: 7.314920112592987\n",
      "CMP + knn, Coe + rnn: 0.36983705355821395: 0.8549763777113971\n",
      "CMP + logistic, CM + sigmaDet: 0.33363357250799736: 3.4295595567479427\n",
      "CMP + svm, CM + sigmaDet: 0.370698970097379: 2.6134705347674543\n",
      "CMP + svm, Coe + rnn: 0.3753503660089285: 1.1800441798707346\n",
      "CMP + gnb, Coe + rnn: 0.39038222041859266: 0.895730103169763\n",
      "CMP + mnb, CM + sigmaDet: 0.354906830738969: 3.8824497463170147\n",
      "CMP + cnb, CM + sigmaDet: 0.3489931990386325: 5.754349016056713\n",
      "CMP + rf, CM + sigmaDet: 0.38259621714454506: 2.556041219628787\n",
      "Coe + knn, CM + sigmaDet: 0.33635480756393504: 1.8249602028973333\n",
      "Coe + logistic, CM + sigmaDet: 0.3559138357308657: 3.0612006543741845\n",
      "Coe + svm, CM + sigmaDet: 0.32662197009667765: 2.684004897238411\n",
      "Coe + gnb, CM + sigmaDet: 0.3482582115582748: 2.0396448956143796\n",
      "Coe + mnb, CM + sigmaDet: 0.32998266908529317: 3.3395815457214724\n",
      "Coe + mnb, Coe + rnn: 0.34760939359733845: 1.513605411392768\n",
      "Coe + cnb, CM + sigmaDet: 0.33905652684890886: 4.6936318202673295\n",
      "Coe + cnb, Coe + rnn: 0.397154634477292: 2.386475373100904\n",
      "Coe + rf, CM + sigmaDet: 0.3774394463738273: 2.7672167258301403\n",
      "CMP + rnn, Coe + rnn: 0.3723835363562842: 0.9437560704583559\n",
      "Coe + rnn, CM + sigmaDet: 0.09428566079697993: 2.8837999088468695\n",
      "Coe + rnn, CM + sigmaProb: 0.24323863145806057: 1.4186865141479224\n",
      "Coe + rnn, CMP + knn: 0.36983705355821395: 0.8549763777113971\n",
      "Coe + rnn, CMP + svm: 0.3753503660089285: 1.1800441798707346\n",
      "Coe + rnn, CMP + gnb: 0.39038222041859266: 0.895730103169763\n",
      "Coe + rnn, Coe + mnb: 0.34760939359733845: 1.513605411392768\n",
      "Coe + rnn, Coe + cnb: 0.397154634477292: 2.386475373100904\n",
      "Coe + rnn, CMP + rnn: 0.3723835363562842: 0.9437560704583559\n"
     ]
    }
   ],
   "source": [
    "for i in range(len(corrMatrix)):\n",
    "    for j in range(len(corrMatrix)):\n",
    "        if (corrMatrix[i, j] < 0.4):\n",
    "            print(\"{}, {}: {}: {}\".format(models[i], models[j], corrMatrix[i, j], dsMatrix[i, j]))\n",
    "        "
   ]
  },
  {
   "cell_type": "code",
   "execution_count": 103,
   "id": "1a0771ef",
   "metadata": {},
   "outputs": [
    {
     "name": "stdout",
     "output_type": "stream",
     "text": [
      "[1.         1.         1.         1.         1.         1.\n",
      " 1.         1.         1.         1.         1.         1.\n",
      " 1.         1.         1.         1.         1.         1.\n",
      " 1.         1.         1.         1.         1.         1.\n",
      " 1.         1.         1.         1.         0.99957765 0.99957765\n",
      " 0.99955475 0.99955475 0.99954824 0.99954824 0.99923057 0.99923057\n",
      " 0.99899058 0.99899058 0.99897292 0.99897292 0.9963341  0.9963341\n",
      " 0.99632558 0.99632558 0.99335026 0.99335026 0.99331145 0.99331145\n",
      " 0.98616362 0.98616362]\n"
     ]
    }
   ],
   "source": [
    "flatCorr = corrMatrix.flatten()\n",
    "\n",
    "sortedCorr = np.sort(flatCorr)[::-1]\n",
    "\n",
    "print(sortedCorr[:50])"
   ]
  },
  {
   "cell_type": "code",
   "execution_count": 7,
   "id": "269e5a47",
   "metadata": {},
   "outputs": [],
   "source": [
    "def probGraph(model1, model2):\n",
    "    probs1 = np.loadtxt(probsBase + model1)\n",
    "    probs2 = np.loadtxt(probsBase + model2)\n",
    "    fig, ax = plt.subplots()\n",
    "    ax.scatter(probs1[:,3], probs2[:,3])\n",
    "    \n",
    "    ax.set_title(\"{} probabilities vs {} probabilities A2744\".format(model1, model2))\n",
    "    ax.set_xlabel(\"{} probabilities\".format(model1))\n",
    "    ax.set_ylabel(\"{} probabilities\".format(model2))\n",
    "    \n",
    "    print(\"Correlation Coefficient: {}\".format(np.corrcoef(probs1[:,3], probs2[:,3])[0,1]))"
   ]
  },
  {
   "cell_type": "code",
   "execution_count": 8,
   "id": "aa101665",
   "metadata": {},
   "outputs": [
    {
     "name": "stdout",
     "output_type": "stream",
     "text": [
      "Correlation Coefficient: 0.9320475695992175\n"
     ]
    },
    {
     "data": {
      "image/png": "[encoded data removed]",
      "text/plain": [
       "<Figure size 432x288 with 1 Axes>"
      ]
     },
     "metadata": {
      "needs_background": "light"
     },
     "output_type": "display_data"
    }
   ],
   "source": [
    "probGraph(\"CM + rnn\", \"CM + rf\")"
   ]
  },
  {
   "cell_type": "code",
   "execution_count": 125,
   "id": "f5d305b2",
   "metadata": {},
   "outputs": [
    {
     "name": "stdout",
     "output_type": "stream",
     "text": [
      "Correlation Coefficient: 0.397154634477292\n"
     ]
    },
    {
     "data": {
      "image/png": "[encoded data removed]",
      "text/plain": [
       "<Figure size 432x288 with 1 Axes>"
      ]
     },
     "metadata": {
      "needs_background": "light"
     },
     "output_type": "display_data"
    }
   ],
   "source": [
    "probGraph(\"Coe + cnb\", \"Coe + rnn\")"
   ]
  },
  {
   "cell_type": "code",
   "execution_count": 16,
   "id": "cf30b588",
   "metadata": {},
   "outputs": [
    {
     "name": "stdout",
     "output_type": "stream",
     "text": [
      "(71, 2)\n",
      "71\n"
     ]
    }
   ],
   "source": [
    "print(imgdat.xarr.shape)\n",
    "print(imgdat.nimg)"
   ]
  },
  {
   "cell_type": "code",
   "execution_count": 10,
   "id": "cab70cb0",
   "metadata": {},
   "outputs": [],
   "source": [
    "sample = np.loadtxt(probsBase + models[0])\n",
    "maxmag = np.min(sample[:,2])\n",
    "def mse(probs1, probs2):\n",
    "    return np.sum((probs1 - probs2) * (probs1 - probs2))\n",
    "\n",
    "def msExtra(probs1, probs2, mags):\n",
    "    weighted = abs(probs1 - probs2) * (10 ** -(0.4*mags))\n",
    "    return np.sum(weighted)\n",
    "\n",
    "def msWithImg(posx, posy, probs1, probs2, mags):\n",
    "    dist = 0\n",
    "    ngal = len(posx)\n",
    "    ni = imgdat.nimg\n",
    "    for i in range(ngal):\n",
    "        for j in range(ni):\n",
    "            r = ((imgdat.xarr[j][0] - posx[i])**2 + (imgdat.xarr[j][1] - posy[i])**2)**0.5\n",
    "            dist += abs(probs1[i] - probs2[i]) * (10 ** -(0.4*mags[i])) / r\n",
    "    \n",
    "    return dist\n",
    "\n",
    "def msWithImg2(posx, posy, probs1, probs2, mags):\n",
    "    dist = 0\n",
    "    ngal = len(posx)\n",
    "    ni = imgdat.nimg\n",
    "    for i in range(ngal):\n",
    "        for j in range(ni):\n",
    "            r = ((imgdat.xarr[j][0] - posx[i])**2 + (imgdat.xarr[j][1] - posy[i])**2)\n",
    "            dist += abs(probs1[i] - probs2[i]) * (10 ** -(0.4*mags[i])) / r\n",
    "    \n",
    "    return dist\n",
    "    \n",
    "\n",
    "numModels = len(models)"
   ]
  },
  {
   "cell_type": "code",
   "execution_count": null,
   "id": "1980d38c",
   "metadata": {},
   "outputs": [],
   "source": [
    "distMatrix1 = np.zeros((numModels, numModels))\n",
    "\n",
    "for i in range(numModels):\n",
    "    print(i)\n",
    "    for j in range(numModels):\n",
    "        probs1 = np.loadtxt(probsBase + models[i])\n",
    "        probs2 = np.loadtxt(probsBase + models[j])\n",
    "        \n",
    "        distMatrix[i][j] = msWithImg(probs1[:,0], probs1[:,1], probs1[:,3], probs2[:,3], probs1[:,2])"
   ]
  },
  {
   "cell_type": "code",
   "execution_count": 11,
   "id": "09f895ef",
   "metadata": {},
   "outputs": [
    {
     "name": "stdout",
     "output_type": "stream",
     "text": [
      "0\n",
      "1\n",
      "2\n",
      "3\n",
      "4\n",
      "5\n",
      "6\n",
      "7\n",
      "8\n",
      "9\n",
      "10\n",
      "11\n",
      "12\n",
      "13\n",
      "14\n",
      "15\n",
      "16\n",
      "17\n",
      "18\n",
      "19\n",
      "20\n",
      "21\n",
      "22\n",
      "23\n",
      "24\n",
      "25\n",
      "26\n",
      "27\n"
     ]
    }
   ],
   "source": [
    "distMatrix2 = np.zeros((numModels, numModels))\n",
    "for i in range(numModels):\n",
    "    print(i)\n",
    "    for j in range(numModels):\n",
    "        probs1 = np.loadtxt(probsBase + models[i])\n",
    "        probs2 = np.loadtxt(probsBase + models[j])\n",
    "        \n",
    "        distMatrix[i][j] = msWithImg2(probs1[:,0], probs1[:,1], probs1[:,3], probs2[:,3], probs1[:,2])"
   ]
  },
  {
   "cell_type": "code",
   "execution_count": 9,
   "id": "d83cf21a",
   "metadata": {},
   "outputs": [
    {
     "data": {
      "text/plain": [
       "Text(0.5, 0, 'Weighted difference')"
      ]
     },
     "execution_count": 9,
     "metadata": {},
     "output_type": "execute_result"
    },
    {
     "data": {
      "image/png": "[encoded data removed]",
      "text/plain": [
       "<Figure size 432x288 with 1 Axes>"
      ]
     },
     "metadata": {
      "needs_background": "light"
     },
     "output_type": "display_data"
    }
   ],
   "source": [
    "fig, ax = plt.subplots()\n",
    "ax.scatter(distMatrix, dsMatrix)\n",
    "\n",
    "ax.set_title(\"DS score vs weighted difference all pairs of models A2744\")\n",
    "\n",
    "ax.set_ylabel(\"DS score\")\n",
    "ax.set_xlabel(\"Weighted difference\")"
   ]
  },
  {
   "cell_type": "code",
   "execution_count": 13,
   "id": "e03e1768",
   "metadata": {},
   "outputs": [
    {
     "data": {
      "text/plain": [
       "Text(0.5, 0, 'Weighted difference')"
      ]
     },
     "execution_count": 13,
     "metadata": {},
     "output_type": "execute_result"
    },
    {
     "data": {
      "image/png": "[encoded data removed]",
      "text/plain": [
       "<Figure size 432x288 with 1 Axes>"
      ]
     },
     "metadata": {
      "needs_background": "light"
     },
     "output_type": "display_data"
    }
   ],
   "source": [
    "fig, ax = plt.subplots()\n",
    "ax.scatter(distMatrix, dsMatrix)\n",
    "\n",
    "ax.set_title(\"DS score vs weighted difference all pairs of models A2744\")\n",
    "\n",
    "ax.set_ylabel(\"DS score\")\n",
    "ax.set_xlabel(\"Weighted difference\")\n"
   ]
  },
  {
   "cell_type": "code",
   "execution_count": 39,
   "id": "a5cdb325",
   "metadata": {},
   "outputs": [],
   "source": [
    "dsArr = []\n",
    "distArr = []\n",
    "for i in range(dsMatrix.shape[0]):\n",
    "    for j in range(dsMatrix.shape[0]):\n",
    "        if i != j:\n",
    "            dsArr.append(dsMatrix[i, j])\n",
    "            distArr.append(distMatrix[i, j])\n",
    "            \n",
    "dsArr = np.array(dsArr)\n",
    "distArr = np.array(distArr)"
   ]
  },
  {
   "cell_type": "code",
   "execution_count": 43,
   "id": "94a8098d",
   "metadata": {},
   "outputs": [
    {
     "name": "stdout",
     "output_type": "stream",
     "text": [
      "[ 3.23272876e+16 -6.96495308e+07  8.48177844e-01]\n",
      "R2 score: 0.7333118035470861\n"
     ]
    },
    {
     "data": {
      "image/png": "[encoded data removed]",
      "text/plain": [
       "<Figure size 576x360 with 1 Axes>"
      ]
     },
     "metadata": {
      "needs_background": "light"
     },
     "output_type": "display_data"
    }
   ],
   "source": [
    "from sklearn.metrics import r2_score\n",
    "\n",
    "fit = np.polyfit(distArr, dsArr, 2)\n",
    "print(fit)\n",
    "\n",
    "predict = np.poly1d(fit)\n",
    "r2 = r2_score(dsArr, predict(distArr))\n",
    "\n",
    "fig, ax = plt.subplots(figsize = (8, 5))\n",
    "\n",
    "ax.set_ylabel(\"DS score\")\n",
    "ax.set_xlabel(\"Weighted difference\")\n",
    "\n",
    "ax.scatter(distArr, dsArr)\n",
    "\n",
    "xvals = np.linspace(0, 1.4 * 10 ** -8, 100)\n",
    "ax.plot(xvals, predict(xvals), color = \"red\")\n",
    "print(\"R2 score: {}\".format(r2))"
   ]
  },
  {
   "cell_type": "code",
   "execution_count": 41,
   "id": "7a05b909",
   "metadata": {},
   "outputs": [
    {
     "data": {
      "text/plain": [
       "Text(0.5, 0, 'Weighted difference')"
      ]
     },
     "execution_count": 41,
     "metadata": {},
     "output_type": "execute_result"
    },
    {
     "data": {
      "image/png": "[encoded data removed]",
      "text/plain": [
       "<Figure size 432x288 with 1 Axes>"
      ]
     },
     "metadata": {
      "needs_background": "light"
     },
     "output_type": "display_data"
    }
   ],
   "source": [
    "fig, ax = plt.subplots()\n",
    "ax.scatter(distMatrix, dsMatrix)\n",
    "\n",
    "ax.set_title(\"DS score vs weighted difference all pairs of models A2744\")\n",
    "\n",
    "ax.set_ylabel(\"DS score\")\n",
    "ax.set_xlabel(\"Weighted difference\")"
   ]
  },
  {
   "cell_type": "code",
   "execution_count": 78,
   "id": "b6126485",
   "metadata": {},
   "outputs": [
    {
     "name": "stdout",
     "output_type": "stream",
     "text": [
      "1849.9945516896707\n",
      "1849.9945516896707\n"
     ]
    }
   ],
   "source": [
    "probs1 = np.loadtxt(probsBase + \"CM + sigmaDet\")\n",
    "probs2 = np.loadtxt(probsBase + \"Coe + rf\")\n",
    "print(msExtra(probs1[:,3], probs2[:,3], probs1[:,2]))\n",
    "print(np.sum((probs1[:,3] - probs2[:,3]) * probs1[:,2]))"
   ]
  },
  {
   "cell_type": "code",
   "execution_count": 71,
   "id": "1aa5650a",
   "metadata": {},
   "outputs": [
    {
     "name": "stderr",
     "output_type": "stream",
     "text": [
      "C:\\Users\\Jackson Lee\\anaconda3\\lib\\site-packages\\numpy\\lib\\function_base.py:2642: RuntimeWarning: invalid value encountered in true_divide\n",
      "  c /= stddev[:, None]\n",
      "C:\\Users\\Jackson Lee\\anaconda3\\lib\\site-packages\\numpy\\lib\\function_base.py:2643: RuntimeWarning: invalid value encountered in true_divide\n",
      "  c /= stddev[None, :]\n"
     ]
    },
    {
     "data": {
      "text/plain": [
       "array([[nan, nan],\n",
       "       [nan,  1.]])"
      ]
     },
     "execution_count": 71,
     "metadata": {},
     "output_type": "execute_result"
    }
   ],
   "source": [
    "np.corrcoef([0, 0, 0], [1, 2, 3])"
   ]
  },
  {
   "cell_type": "code",
   "execution_count": 3,
   "id": "6d01c5c7",
   "metadata": {},
   "outputs": [],
   "source": [
    "scores = [[model, modelScores[model]] for model in modelScores.keys()]\n",
    "pairs = []\n",
    "for i in range(0, len(scores)):\n",
    "    for j in range(i + 1, len(scores)):\n",
    "        mod1 = scores[i]\n",
    "        mod2 = scores[j]\n",
    "        pairs.append([mod1[0], mod2[0], mod1[1], mod2[1]])"
   ]
  },
  {
   "cell_type": "code",
   "execution_count": 4,
   "id": "a51e9cb9",
   "metadata": {},
   "outputs": [],
   "source": [
    "dat = []\n",
    "for pair in pairs:\n",
    "    dist1 = np.load(filebase + \"\\\\MCMC\\\\\"+ pair[0] + \"-main.npy\")\n",
    "    dist2 = np.load(filebase + \"\\\\MCMC\\\\\" + pair[1] + \"-main.npy\")\n",
    "    dscore = DS.TwoSampleTest(dist1, dist2)\n",
    "    \n",
    "    dat.append([pair[2], pair[3], dscore])\n",
    "    \n",
    "dat = np.array(dat)"
   ]
  },
  {
   "cell_type": "code",
   "execution_count": 5,
   "id": "306cc74c",
   "metadata": {},
   "outputs": [],
   "source": [
    "compDict = {}\n",
    "count = 0\n",
    "for row in dat:\n",
    "    if row[0] in compDict.keys():\n",
    "        compDict[row[0]].append(row[2])\n",
    "    else:\n",
    "        compDict[row[0]] = [row[2]]\n",
    "        \n",
    "    if row[1] in compDict.keys():\n",
    "        compDict[row[1]].append(row[2])\n",
    "    else:\n",
    "        compDict[row[1]] = [row[2]]\n",
    "        "
   ]
  },
  {
   "cell_type": "code",
   "execution_count": 11,
   "id": "b8515480",
   "metadata": {},
   "outputs": [],
   "source": [
    "avg = [[key, sum(compDict[key]) / len(compDict[key]), statistics.stdev(compDict[key])] for key in compDict.keys()]\n",
    "\n",
    "sigma = [[0.26811594202898553, 2.989491299256407, 1.3637240964375903]]"
   ]
  },
  {
   "cell_type": "code",
   "execution_count": 13,
   "id": "00f45fb5",
   "metadata": {},
   "outputs": [
    {
     "data": {
      "text/plain": [
       "Text(0.5, 1.0, 'Abell 2744')"
      ]
     },
     "execution_count": 13,
     "metadata": {},
     "output_type": "execute_result"
    },
    {
     "data": {
      "image/png": "[encoded data removed]",
      "text/plain": [
       "<Figure size 1080x360 with 1 Axes>"
      ]
     },
     "metadata": {
      "needs_background": "light"
     },
     "output_type": "display_data"
    }
   ],
   "source": [
    "avg = np.array(avg)\n",
    "sigma = np.array(sigma)\n",
    "\n",
    "fig, ax = plt.subplots(1, 1, figsize=(15, 5))\n",
    "ax.errorbar(avg[:,0], avg[:,1], yerr = avg[:,2], fmt=\"o\")\n",
    "\n",
    "ax.errorbar(sigma[:,0], sigma[:,1], yerr = sigma[:,2])\n",
    "\n",
    "ax.legend(['Probabilistic', 'Deterministic'])\n",
    "ax.set_xlabel('Mean squared error of classifier')\n",
    "ax.set_ylabel('Average DS2 Compared to Other Classifiers')\n",
    "ax.set_title(\"Abell 2744\")"
   ]
  },
  {
   "cell_type": "code",
   "execution_count": 14,
   "id": "3d2b5f4f",
   "metadata": {},
   "outputs": [],
   "source": [
    "maxDict = {}\n",
    "for row in dat:\n",
    "    mx = max(row[0], row[1]);\n",
    "    if mx in maxDict.keys():\n",
    "        maxDict[mx].append(row[2])\n",
    "    else:\n",
    "        maxDict[mx] = [row[2]]"
   ]
  },
  {
   "cell_type": "code",
   "execution_count": 17,
   "id": "ea3f43f2",
   "metadata": {},
   "outputs": [
    {
     "name": "stdout",
     "output_type": "stream",
     "text": [
      "[[0.26811594202898553, 2.989491299256407, 1.3637240964375903], [0.22547818210879642, 1.3023962265706108, 0.6326319579055726], [0.1911916025615576, 1.1857340035799857, 0.5254965661720243], [0.20980918125385742, 1.717637851140957, 0.9930104994546126], [0.2311909088313751, 2.9415726376242373, 1.554198514343086], [0.20952269885434965, 1.7422883829327787, 0.8554677342310101], [0.23082433552205675, 2.2751150585897846, 1.098976835176956], [0.13108423408208766, 0.8238381930195029, 0.8372096340070715], [0.1321341774229136, 1.2176767336724585, 0.6929553221546116], [0.12576978736765007, 1.2927175272772753, 0.6765627112884101], [0.15055448651936312, 0.9669596782360103, 0.6575327012077958], [0.1475952478922243, 1.090874636389187, 0.7813690045908928], [0.13452594582983868, 1.245577174132204, 0.6641864990418755], [0.12718337542130914, 1.260847348501677, 0.5249808122543992], [0.1564913318544244, 0.9161906300870157, 0.43606822744263657], [0.12797256420880593, 0.77794859569915, 0.5516531762991256], [0.14043734162742377, 1.6662309552575219, 0.8937413375942206], [0.14541693292374747, 0.9660654859640706, 0.5869185628556816], [0.13626870060244908, 1.1167368945800646, 0.8534980562913378], [0.12360169191066366, 1.0532647510558029, 0.4970724626070942], [0.1250422558526087, 1.3080296770003725, 0.6802788537791671], [0.12441512455285038, 0.9597758499013338, 0.5923889102059847], [0.12055767718400541, 1.0964170422017558, 0.899806658738973], [0.1205041251191247, 1.000248487896894, 0.5678049787215392], [0.12113448920606804, 1.5958500929265678, 1.3848810258912465], [0.10949263184936084, 0.748616215542778, 0.8792910195654109], [0.10473413424950648, 0.9966965007838444, 0.6119244681107693]]\n"
     ]
    }
   ],
   "source": [
    "mxs = [[key, sum(maxDict[key]) / len(maxDict[key]), statistics.stdev(compDict[key])] for key in maxDict.keys()]\n",
    "print(mxs)\n",
    "sigmamx = [[0.26811594202898553, 2.989491299256407, 1.3637240964375903]]"
   ]
  },
  {
   "cell_type": "code",
   "execution_count": 20,
   "id": "1de11f25",
   "metadata": {},
   "outputs": [
    {
     "data": {
      "text/plain": [
       "Text(0.5, 1.0, 'Abell 2744')"
      ]
     },
     "execution_count": 20,
     "metadata": {},
     "output_type": "execute_result"
    },
    {
     "data": {
      "image/png": "[encoded data removed]",
      "text/plain": [
       "<Figure size 1080x360 with 1 Axes>"
      ]
     },
     "metadata": {
      "needs_background": "light"
     },
     "output_type": "display_data"
    }
   ],
   "source": [
    "mxs = np.array(mxs)\n",
    "sigmamx = np.array(sigmamx)\n",
    "\n",
    "fig, ax = plt.subplots(1, 1, figsize=(15, 5))\n",
    "ax.errorbar(mxs[:,0], mxs[:,1], yerr = mxs[:,2], fmt=\"o\")\n",
    "\n",
    "ax.errorbar(sigmamx[:,0], sigmamx[:,1], yerr = sigmamx[:,2])\n",
    "\n",
    "ax.legend(['Probabilistic', 'Deterministic'])\n",
    "ax.set_xlabel('Mean squared error of classifier')\n",
    "ax.set_ylabel('Average DS2 Compared to Better Classifiers')\n",
    "ax.set_title(\"Abell 2744\")"
   ]
  },
  {
   "cell_type": "code",
   "execution_count": 59,
   "id": "47d47b94",
   "metadata": {},
   "outputs": [
    {
     "name": "stdout",
     "output_type": "stream",
     "text": [
      "8\n",
      "['CM + sigmaDet', 'CM + cnb', 0.26811594202898553, 0.2311909088313751]\n"
     ]
    }
   ],
   "source": [
    "dscores = np.array(dscores)\n",
    "print(np.argmax(dscores))\n",
    "print(pairs[8])"
   ]
  },
  {
   "cell_type": "code",
   "execution_count": 54,
   "id": "e6af414b",
   "metadata": {},
   "outputs": [
    {
     "data": {
      "text/plain": [
       "<matplotlib.collections.PathCollection at 0x238977c98e0>"
      ]
     },
     "execution_count": 54,
     "metadata": {},
     "output_type": "execute_result"
    },
    {
     "data": {
      "image/png": "[encoded data removed]",
      "text/plain": [
       "<Figure size 432x288 with 1 Axes>"
      ]
     },
     "metadata": {
      "needs_background": "light"
     },
     "output_type": "display_data"
    }
   ],
   "source": [
    "plt.scatter((dat[27:,0] + dat[27:,1])/2, dat[27:,2])"
   ]
  },
  {
   "cell_type": "code",
   "execution_count": 86,
   "id": "06d3b032",
   "metadata": {},
   "outputs": [],
   "source": [
    "good = np.where((dat[:,0] < 0.14) & (dat[:,1] < 0.14))"
   ]
  },
  {
   "cell_type": "code",
   "execution_count": 87,
   "id": "7481cdf0",
   "metadata": {},
   "outputs": [
    {
     "data": {
      "text/plain": [
       "(array([15., 35., 29., 24.,  7.,  4.,  3.,  0.,  0.,  3.]),\n",
       " array([0.38703554, 0.66289254, 0.93874954, 1.21460654, 1.49046354,\n",
       "        1.76632053, 2.04217753, 2.31803453, 2.59389153, 2.86974853,\n",
       "        3.14560553]),\n",
       " <BarContainer object of 10 artists>)"
      ]
     },
     "execution_count": 87,
     "metadata": {},
     "output_type": "execute_result"
    },
    {
     "data": {
      "image/png": "[encoded data removed]",
      "text/plain": [
       "<Figure size 432x288 with 1 Axes>"
      ]
     },
     "metadata": {
      "needs_background": "light"
     },
     "output_type": "display_data"
    }
   ],
   "source": [
    "goodds = dat[good, 2][0]\n",
    "plt.hist(goodds)"
   ]
  },
  {
   "cell_type": "code",
   "execution_count": 92,
   "id": "9a455fa2",
   "metadata": {},
   "outputs": [],
   "source": [
    "badgood = np.where((dat[:,0] > 0.14) | (dat[:,1] > 0.14))"
   ]
  },
  {
   "cell_type": "code",
   "execution_count": 93,
   "id": "ce2b5271",
   "metadata": {},
   "outputs": [
    {
     "data": {
      "text/plain": [
       "(array([77., 89., 40., 29.,  9.,  7.,  4.,  1.,  0.,  2.]),\n",
       " array([0.38326728, 1.07643256, 1.76959784, 2.46276313, 3.15592841,\n",
       "        3.84909369, 4.54225898, 5.23542426, 5.92858955, 6.62175483,\n",
       "        7.31492011]),\n",
       " <BarContainer object of 10 artists>)"
      ]
     },
     "execution_count": 93,
     "metadata": {},
     "output_type": "execute_result"
    },
    {
     "data": {
      "image/png": "[encoded data removed]",
      "text/plain": [
       "<Figure size 432x288 with 1 Axes>"
      ]
     },
     "metadata": {
      "needs_background": "light"
     },
     "output_type": "display_data"
    }
   ],
   "source": [
    "badgoodds = dat[badgood, 2][0]\n",
    "plt.hist(badgoodds)"
   ]
  }
 ],
 "metadata": {
  "kernelspec": {
   "display_name": "Python 3 (ipykernel)",
   "language": "python",
   "name": "python3"
  },
  "language_info": {
   "codemirror_mode": {
    "name": "ipython",
    "version": 3
   },
   "file_extension": ".py",
   "mimetype": "text/x-python",
   "name": "python",
   "nbconvert_exporter": "python",
   "pygments_lexer": "ipython3",
   "version": "3.9.7"
  }
 },
 "nbformat": 4,
 "nbformat_minor": 5
}
