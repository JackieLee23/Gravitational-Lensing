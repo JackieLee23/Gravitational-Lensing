{
 "cells": [
  {
   "cell_type": "code",
   "execution_count": 20,
   "id": "67c7f330",
   "metadata": {},
   "outputs": [
    {
     "name": "stdout",
     "output_type": "stream",
     "text": [
      "Read image data from file Files/a2744_images.dat\n",
      "Read galaxy data from file Files/a2744gals.txt\n",
      "Generating deflection distribution: a = 1.0\n",
      "Step 0\n",
      "Step 500\n",
      "Step 1000\n",
      "Step 1500\n",
      "Step 2000\n",
      "Step 2500\n"
     ]
    }
   ],
   "source": [
    "# def1 - full scatter\n",
    "\n",
    "# scale1: members have (etab,sigb) = (0.5,0.1) and (etaa,siga) = (0.4,0.03)\n",
    "#         los gas have (etab,sigb) = (0.5,0.3) and a=2.0 [fixed]\n",
    "\n",
    "import numpy as np\n",
    "from astropy.cosmology import FlatLambdaCDM\n",
    "import matplotlib.pyplot as plt\n",
    "cosmo = FlatLambdaCDM(H0=70, Om0=0.3)\n",
    "\n",
    "import sys\n",
    "sys.path.insert(1, '../../coderesources')\n",
    "import fitclust2d as myfit\n",
    "import fitClus2D as fc\n",
    "cluster = 'a2744'\n",
    "zlens = 0.308\n",
    "\n",
    "# load the images\n",
    "imgdat = myfit.imgclass('Files/a2744_images.dat',zlens,cosmo)\n",
    "\n",
    "# ultimately the fit will optimize the two normalization parameters;\n",
    "# since b is multiplicative, we can fix the normalization to unity here\n",
    "# and later rescale; we do need to run with different a values (see below)\n",
    "b0 = 0.0\n",
    "a0 = 2.0\n",
    "nran = 3000\n",
    "\n",
    "# members, referenced to BCG\n",
    "memdat = myfit.galclass('Files/a2744gals.txt',logflags=[True,True])\n",
    "memdat.scale(b0,0.5,0.1,a0,0.4,0.03,ref=[35])\n",
    "\n",
    "# generate the deflection distributions\n",
    "aarr = np.linspace(1.0,2.5,31)\n",
    "memdef = myfit.defclass()\n",
    "memdef.draw(memdat,imgdat,b0,[1.0],nran,useD=True)\n",
    "\n",
    "# # los1, referenced to BCG in memdat; note that we use a=2.0 for all\n",
    "# m0 = memdat.ref[1]\n",
    "# los1dat = myfit.galclass('../dat/los1.dat',logflags=[True,True])\n",
    "# los1dat.scale(b0,0.5,0.3,a0,0.0,0.00,ref=[-1,m0])\n",
    "\n",
    "# # generate the deflection distributions\n",
    "# aarr = np.linspace(1.9,2.1,3)\n",
    "# los1def = myfit.defclass()\n",
    "# los1def.draw(los1dat,imgdat,b0,aarr,nran,basename='def1-los1-scale1',useD=True)\n",
    "\n",
    "# # los2, referenced to BCG in memdat; note that we use a=2.0 for all\n",
    "# m0 = memdat.ref[1]\n",
    "# los2dat = myfit.galclass('../dat/los2.dat',logflags=[True,True])\n",
    "# los2dat.scale(b0,0.5,0.3,a0,0.0,0.00,ref=[-1,m0])\n",
    "\n",
    "# # generate the deflection distributions\n",
    "# aarr = np.linspace(1.9,2.1,3)\n",
    "# los2def = myfit.defclass()\n",
    "# los2def.draw(los2dat,imgdat,b0,aarr,nran,basename='def1-los2-scale1',useD=True)"
   ]
  },
  {
   "cell_type": "code",
   "execution_count": 21,
   "id": "6ed7bd3f",
   "metadata": {},
   "outputs": [
    {
     "name": "stdout",
     "output_type": "stream",
     "text": [
      "[[-1.20840741e+00 -4.86653778e-01]\n",
      " [-1.09763140e+00 -1.17768957e+00]\n",
      " [ 3.57143053e-01 -1.29011402e+00]\n",
      " [-5.99545992e-01  9.13247732e-01]\n",
      " [-4.54727496e-01  1.04194090e+00]\n",
      " [-7.38493285e-01 -3.39758397e-01]\n",
      " [-1.33593124e+00 -3.80635877e-01]\n",
      " [ 4.94715887e-01 -1.01322690e+00]\n",
      " [-1.47536566e+00 -7.35087942e-01]\n",
      " [-1.48555829e+00 -8.43011579e-01]\n",
      " [-1.22484044e+00 -3.65833872e-01]\n",
      " [-8.31509373e-01 -1.46632518e+00]\n",
      " [ 3.90001825e-01 -1.32827196e+00]\n",
      " [-7.81856402e-01  8.26771282e-01]\n",
      " [-5.82078480e-01  1.06956338e+00]\n",
      " [ 4.23417065e-01 -1.32098560e+00]\n",
      " [ 4.84590942e-01 -1.37001187e+00]\n",
      " [-1.09762337e+00  4.51035448e-01]\n",
      " [-6.00342865e-01  7.71682304e-01]\n",
      " [ 1.39911780e+00 -7.78683743e-01]\n",
      " [ 2.15339657e-01 -1.61801353e+00]\n",
      " [-1.28916144e+00 -6.27649677e-01]\n",
      " [-9.96095588e-01 -1.32853493e+00]\n",
      " [-1.06999488e+00 -4.78768723e-01]\n",
      " [-9.87423132e-01 -8.01406688e-01]\n",
      " [ 3.19258478e-01 -1.12294676e+00]\n",
      " [-6.25935963e-01 -1.58945603e+00]\n",
      " [-2.29733814e-01 -1.64840267e+00]\n",
      " [-1.22940543e+00 -4.73971159e-01]\n",
      " [-8.39066588e-01  6.45509459e-02]\n",
      " [ 2.23714226e-01  3.58290457e-02]\n",
      " [ 9.62574262e-01 -7.08524503e-01]\n",
      " [ 5.94153190e-01 -1.35042573e+00]\n",
      " [ 9.46065785e-01 -1.27907110e+00]\n",
      " [ 9.22729459e-01 -1.32570665e+00]\n",
      " [ 9.89834601e-01 -1.38022796e+00]\n",
      " [-1.32592653e+00  2.22417663e-01]\n",
      " [-4.97001253e-01 -1.57391824e+00]\n",
      " [-5.43925366e-01 -1.56062854e+00]\n",
      " [-1.22704970e+00 -6.22952560e-01]\n",
      " [-8.50958447e-01  9.01675341e-01]\n",
      " [-7.66341236e-01  1.01081170e+00]\n",
      " [-1.91526524e-01  9.04333932e-01]\n",
      " [-1.42428503e-01  9.42557260e-01]\n",
      " [ 1.52149943e+00 -4.02786430e-01]\n",
      " [-2.69853396e-01  8.69066260e-01]\n",
      " [-9.02127347e-02  9.98340538e-01]\n",
      " [ 1.53205742e+00 -3.73625852e-01]\n",
      " [-1.33556959e+00 -2.47913566e-01]\n",
      " [-8.96435998e-01 -1.69527668e+00]\n",
      " [ 5.56687475e-01 -1.23041082e+00]\n",
      " [ 1.45798292e-01 -7.23789491e-01]\n",
      " [-1.38905996e+00 -3.01533456e-01]\n",
      " [-3.17879550e-01 -4.97646082e-01]\n",
      " [ 5.67539618e-01 -1.09388009e+00]\n",
      " [-1.22497953e+00 -1.35668102e+00]\n",
      " [-9.01323200e-01 -7.94361683e-01]\n",
      " [-1.34368315e+00 -5.06416189e-01]\n",
      " [-1.36660699e+00 -5.97529880e-01]\n",
      " [-9.71052670e-01 -8.25849606e-02]\n",
      " [-9.76805631e-01 -2.12246827e-01]\n",
      " [ 7.22441834e-01 -1.13843724e+00]\n",
      " [-8.62388040e-01 -1.85593691e+00]\n",
      " [-1.54648666e-03 -1.00033131e+00]\n",
      " [-1.30933986e+00 -2.34719750e-01]\n",
      " [-3.71427998e-01  6.53713410e-01]\n",
      " [ 3.74379878e-01  1.23643692e+00]\n",
      " [ 1.54658543e+00 -1.69081727e-01]\n",
      " [-2.74039558e-01  7.18126067e-01]\n",
      " [ 2.69956565e-01  1.17312873e+00]\n",
      " [ 1.54792918e+00 -1.89215218e-01]]\n"
     ]
    }
   ],
   "source": [
    "print(memdef.marr[0])"
   ]
  },
  {
   "cell_type": "code",
   "execution_count": 22,
   "id": "dcab6104",
   "metadata": {},
   "outputs": [
    {
     "name": "stdout",
     "output_type": "stream",
     "text": [
      "Read deflection data from file Files/a2744-def1-scale1.pkl\n",
      "[[1.00025803 0.99435045]\n",
      " [0.99997602 0.99973734]\n",
      " [0.99695907 0.99885159]\n",
      " [1.00952576 1.00591472]\n",
      " [1.01229571 1.00502276]\n",
      " [1.00068288 0.99732328]\n",
      " [1.00071573 0.99471417]\n",
      " [0.99890575 0.99968389]\n",
      " [0.99937873 0.9962776 ]\n",
      " [0.99939329 0.9967081 ]\n",
      " [1.00042022 0.99211269]\n",
      " [1.00031142 0.99911162]\n",
      " [0.99691413 0.99887585]\n",
      " [1.00736399 1.00676609]\n",
      " [1.00937366 1.00512495]\n",
      " [0.99774197 0.99833329]\n",
      " [0.9972861  0.99856017]\n",
      " [1.00535394 1.01091958]\n",
      " [1.0085724  1.00950423]\n",
      " [0.99979415 1.00177749]\n",
      " [0.99535815 0.99869041]\n",
      " [1.00029718 0.99557956]\n",
      " [0.99990872 0.99905636]\n",
      " [0.99983789 0.9950082 ]\n",
      " [0.99876923 0.99728593]\n",
      " [0.99683619 0.99887393]\n",
      " [1.00104795 0.99893615]\n",
      " [1.0003635  0.99878602]\n",
      " [1.00020401 0.99378466]\n",
      " [1.00378694 1.02816588]\n",
      " [0.99028403 0.96168392]\n",
      " [0.99697702 1.00048078]\n",
      " [0.99529132 0.99856111]\n",
      " [0.99643077 0.99921597]\n",
      " [0.99575368 0.9990246 ]\n",
      " [0.99607781 0.99902912]\n",
      " [0.99890804 1.01026184]\n",
      " [1.00089884 0.99885126]\n",
      " [1.00084964 0.99881911]\n",
      " [1.00021553 0.99578178]\n",
      " [1.00629962 1.00647655]\n",
      " [1.00657508 1.00575119]\n",
      " [1.03227949 1.00519542]\n",
      " [1.0436854  1.00488433]\n",
      " [0.99855698 0.99919898]\n",
      " [1.02262874 1.00558186]\n",
      " [1.06986175 1.00451803]\n",
      " [0.99852527 0.99899001]\n",
      " [1.00027715 0.98424246]\n",
      " [1.00043791 0.99896732]\n",
      " [0.99776056 0.99904304]\n",
      " [0.99336021 0.99711071]\n",
      " [1.00088864 0.98957213]\n",
      " [1.0021254  0.99746721]\n",
      " [0.99842678 0.99947616]\n",
      " [0.99931497 0.99829891]\n",
      " [1.00029403 0.99583421]\n",
      " [0.99988649 0.99494014]\n",
      " [0.99965531 0.99532043]\n",
      " [1.00231509 0.9809787 ]\n",
      " [1.00232452 0.99786601]\n",
      " [0.99767404 0.99955993]\n",
      " [1.00048575 0.99853233]\n",
      " [1.84029691 0.99817295]\n",
      " [1.00047839 0.97940725]\n",
      " [1.01650555 1.00762624]\n",
      " [0.98497915 1.00327642]\n",
      " [0.99870415 0.99448315]\n",
      " [1.02303177 1.00675837]\n",
      " [0.97900204 1.00338858]\n",
      " [0.99858607 0.9960816 ]]\n",
      "[ 0.96619735  0.95697589  0.96783625  0.94146942  0.1660279   0.96796109\n",
      "  1.05460015  0.98950602  1.079906    0.98659408  0.98493396  0.86254932\n",
      "  0.97267019  0.22987949  0.9908709   1.02061695  0.96561039  0.95616595\n",
      "  0.96611053  0.95564652  0.9635855   0.85307032  0.96335582  0.94789495\n",
      "  0.36799006  0.96970792  1.03385154  0.98971113  1.06009349  0.9849127\n",
      " -5.51500618  0.96400991  0.58449213  0.96412008  1.00681506  0.99512499\n",
      "  1.06395866  0.9822343   0.97338337  1.03869489  1.0205666   0.96348788\n",
      "  0.96098879  0.94457735  0.97104717  0.94171217  0.96801806  0.95345344\n",
      "  0.9655822   0.94892822  3.12906799  0.96555018  0.95801917  0.94953493\n",
      "  0.99114682  0.95259124  0.96112073  0.93397048  0.99687486  0.99291321\n",
      "  6.40951858  0.97178412  0.93138863  0.94528794  0.82834353  0.9818934\n",
      "  0.89827441  0.98197973  0.92342056  0.97382082  0.91254874  0.97455482\n",
      "  0.95181292  1.06957908  0.96565834  0.95188595  0.96425841  0.9522387\n",
      "  0.96143274  0.94260006  1.03048688  0.98352243  1.04000365  0.98247713\n",
      "  1.15378304  0.99272726  1.18021586  0.99112006  0.95113308  1.94303761\n",
      "  1.12282198  0.9940512   1.22015343  0.98884019  0.95084036  1.40130742\n",
      "  0.96063594  1.23928159  0.96388776  0.95040672  0.859321    0.99301538\n",
      "  2.29059571  0.96431644  0.96587032  1.37441246  1.02236887  0.96858653\n",
      "  0.90444858  1.00411684  0.96825     0.94957804  0.99053284  0.95582032\n",
      "  0.96781457  0.95529535  0.96708859  0.95459391  0.99282306  0.99354575\n",
      "  0.99379104  0.99040604  0.88751726  1.00636991  0.96988742  0.95641205\n",
      "  1.05580442  0.96704815  0.96167455  1.09521669  1.08863095  1.00490742\n",
      "  0.43924415  0.98569529  0.94566806  1.01937592  1.11710168  1.00223019\n",
      " -1.29165167  0.98369595  0.94794551  1.03909897]\n"
     ]
    }
   ],
   "source": [
    "memdefpaper = myfit.defclass()\n",
    "memdefpaper.load('Files/' + cluster + '-def1-scale1')\n",
    "print(memdef.marr[0] / memdefpaper.marr[0])\n",
    "\n",
    "print(memdef.Cmat[0, 0] / memdefpaper.Cmat[0, 0])\n",
    "\n"
   ]
  },
  {
   "cell_type": "code",
   "execution_count": 23,
   "id": "23d6a4d1",
   "metadata": {},
   "outputs": [
    {
     "data": {
      "text/plain": [
       "<matplotlib.collections.PathCollection at 0x28b7486fdc0>"
      ]
     },
     "execution_count": 23,
     "metadata": {},
     "output_type": "execute_result"
    },
    {
     "data": {
      "image/png": "[encoded data removed]",
      "text/plain": [
       "<Figure size 432x288 with 1 Axes>"
      ]
     },
     "metadata": {
      "needs_background": "light"
     },
     "output_type": "display_data"
    }
   ],
   "source": [
    "plt.scatter(memdef.marr[0,:,0], memdefpaper.marr[0,:,0])\n",
    "plt.scatter(memdef.marr[0,:,1], memdefpaper.marr[0,:,1])\n"
   ]
  },
  {
   "cell_type": "code",
   "execution_count": 24,
   "id": "d2290edc",
   "metadata": {},
   "outputs": [
    {
     "data": {
      "text/plain": [
       "<matplotlib.collections.PathCollection at 0x28b7490ffd0>"
      ]
     },
     "execution_count": 24,
     "metadata": {},
     "output_type": "execute_result"
    },
    {
     "data": {
      "image/png": "[encoded data removed]",
      "text/plain": [
       "<Figure size 432x288 with 1 Axes>"
      ]
     },
     "metadata": {
      "needs_background": "light"
     },
     "output_type": "display_data"
    }
   ],
   "source": [
    "plt.scatter(memdef.Cmat[0, 0], memdefpaper.Cmat[0, 0])"
   ]
  }
 ],
 "metadata": {
  "kernelspec": {
   "display_name": "Python 3",
   "language": "python",
   "name": "python3"
  },
  "language_info": {
   "codemirror_mode": {
    "name": "ipython",
    "version": 3
   },
   "file_extension": ".py",
   "mimetype": "text/x-python",
   "name": "python",
   "nbconvert_exporter": "python",
   "pygments_lexer": "ipython3",
   "version": "3.8.8"
  }
 },
 "nbformat": 4,
 "nbformat_minor": 5
}
