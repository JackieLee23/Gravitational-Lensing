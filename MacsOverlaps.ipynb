{
 "cells": [
  {
   "cell_type": "code",
   "execution_count": 1,
   "id": "cc497ba9",
   "metadata": {},
   "outputs": [],
   "source": [
    "import numpy as np\n",
    "import matplotlib.pyplot as plt\n",
    "import math\n",
    "import fitClus2D as fc\n",
    "from scipy.stats import sigmaclip\n",
    "from astropy.stats import sigma_clip\n",
    "from scipy.optimize import fmin_tnc\n",
    "\n",
    "from sklearn.model_selection import LeaveOneOut\n",
    "from sklearn.neighbors import KNeighborsClassifier, RadiusNeighborsClassifier\n",
    "from sklearn. metrics import accuracy_score, mean_squared_error\n",
    "from sklearn.linear_model import LogisticRegression\n",
    "from sklearn import svm\n",
    "from sklearn.neural_network import MLPClassifier\n",
    "from sklearn import preprocessing\n",
    "import pandas as pd\n",
    "\n",
    "zclus = {'a2744' : 0.308,\n",
    "         'm0416' : 0.396}\n",
    "pgals = {'a2744' : [1.689791e-01, 1.965115e+00, 2.0],\n",
    "        'm0416' : [3.737113e-01, 1.322081e+00, 2.0]}"
   ]
  },
  {
   "cell_type": "code",
   "execution_count": 2,
   "id": "af094b40",
   "metadata": {},
   "outputs": [
    {
     "name": "stdout",
     "output_type": "stream",
     "text": [
      "0.3960252040816326 0.007215352640991353\n",
      "0.02164605792297406\n",
      "146\n",
      "90\n",
      "125\n"
     ]
    }
   ],
   "source": [
    "cluster = 'm0416'\n",
    "catalog = \"Files/\" + cluster + \"_master_cleaned.csv\"\n",
    "\n",
    "dzcut=0.02; sigclip=3; sigcut=3; radialcut=120; maglim=23.5; colorcut=1.0\n",
    "master = pd.read_csv(catalog)\n",
    "zdat = master['master_z']\n",
    "valid = master['master_valid']\n",
    "memberindx = np.where((zdat>zclus[cluster]-dzcut)&(zdat<zclus[cluster]+dzcut)&(valid==1))[0]\n",
    "z1 = zdat[memberindx]\n",
    "z2 = sigma_clip(z1,sigma=sigclip)\n",
    "print(np.mean(z2),np.std(z2))\n",
    "\n",
    "dz = sigcut*np.std(z2)\n",
    "print(dz)\n",
    "ddat = master['master_d']\n",
    "zdat = master['master_z']\n",
    "mag814 = master['master_mag814']\n",
    "mag606 = master['master_mag606']\n",
    "valid = master['master_valid']\n",
    "master_cut = master.iloc[np.where((ddat<radialcut)&(~np.isnan(mag606))&(~np.isnan(mag814))&(mag814<=maglim)&(valid == 1))]\n",
    "\n",
    "zdat   = master_cut['master_z']\n",
    "nmemindx = np.where((zdat<zclus[cluster]-dz)|(zdat>zclus[cluster]+dz))[0]\n",
    "memindx = np.where((zdat>zclus[cluster]-dz)&(zdat<zclus[cluster]+dz))[0]\n",
    "unknownindx = np.where(np.isnan(zdat))[0]\n",
    "\n",
    "print(len(memindx))\n",
    "print(len(nmemindx))\n",
    "print(len(unknownindx))\n",
    "clusterarr = [master_cut.iloc[i] for i in memindx]\n",
    "ncluster =[master_cut.iloc[i] for i in nmemindx]\n",
    "unknown = [master_cut.iloc[i] for i in unknownindx]"
   ]
  },
  {
   "cell_type": "code",
   "execution_count": 3,
   "id": "babb196e",
   "metadata": {},
   "outputs": [
    {
     "name": "stdout",
     "output_type": "stream",
     "text": [
      "146\n",
      "[1. 1. 1. 1. 1. 1. 1. 1. 1. 1. 1. 1. 1. 1. 1. 1. 1. 1. 1. 1. 1. 1. 1. 1.\n",
      " 1. 1. 1. 1. 1. 1. 1. 1. 1. 1. 1. 1. 1. 1. 1. 1. 1. 1. 1. 1. 1. 1. 1. 1.\n",
      " 1. 1. 1. 1. 1. 1. 1. 1. 1. 1. 1. 1. 1. 1. 1. 1. 1. 1. 1. 1. 1. 1. 1. 1.\n",
      " 1. 1. 1. 1. 1. 1. 1. 1. 1. 1. 1. 1. 1. 1. 1. 1. 1. 1. 1. 1. 1. 1. 1. 1.\n",
      " 1. 1. 1. 1. 1. 1. 1. 1. 1. 1. 1. 1. 1. 1. 1. 1. 1. 1. 1. 1. 1. 1. 1. 1.\n",
      " 1. 1. 1. 1. 1. 1. 1. 1. 1. 1. 1. 1. 1. 1. 1. 1. 1. 1. 1. 1. 1. 1. 1. 1.\n",
      " 1. 1. 0. 0. 0. 0. 0. 0. 0. 0. 0. 0. 0. 0. 0. 0. 0. 0. 0. 0. 0. 0. 0. 0.\n",
      " 0. 0. 0. 0. 0. 0. 0. 0. 0. 0. 0. 0. 0. 0. 0. 0. 0. 0. 0. 0. 0. 0. 0. 0.\n",
      " 0. 0. 0. 0. 0. 0. 0. 0. 0. 0. 0. 0. 0. 0. 0. 0. 0. 0. 0. 0. 0. 0. 0. 0.\n",
      " 0. 0. 0. 0. 0. 0. 0. 0. 0. 0. 0. 0. 0. 0. 0. 0. 0. 0. 0. 0.]\n"
     ]
    }
   ],
   "source": [
    "#Create feature and category arrays for knowns, and feature array for unknowns\n",
    "XclustCM= [[row['master_mag814'], row['master_mag606'] - row['master_mag814']] for row in clusterarr]\n",
    "XnclustCM = [[row['master_mag814'], row['master_mag606'] - row['master_mag814']] for row in ncluster]\n",
    "Xcm = np.array(XclustCM + XnclustCM)\n",
    "\n",
    "unknownXcm = [[row['master_mag814'], row['master_mag606'] - row['master_mag814']] for row in unknown]\n",
    "unknownXcm = np.array(unknownXcm)\n",
    "\n",
    "clustnum = len(clusterarr)\n",
    "nclustnum = len(ncluster)\n",
    "\n",
    "print(clustnum)\n",
    "\n",
    "y = np.zeros(clustnum + nclustnum)\n",
    "y[:len(clusterarr)] = 1\n",
    "\n",
    "print(y)"
   ]
  },
  {
   "cell_type": "code",
   "execution_count": 5,
   "id": "f1c2772e",
   "metadata": {},
   "outputs": [
    {
     "name": "stdout",
     "output_type": "stream",
     "text": [
      "146\n",
      "61\n"
     ]
    }
   ],
   "source": [
    "clustermag = [dat[0] for i, dat in enumerate(Xcm) if y[i] == 1]\n",
    "clustercolor = [dat[1] for i, dat in enumerate(Xcm) if y[i] == 1]\n",
    "print(len(clustercolor))\n",
    "\n",
    "model = np.polyfit(clustermag, clustercolor, 1)\n",
    "predict = np.poly1d(model)\n",
    "res = clustercolor - predict(clustermag)\n",
    "    \n",
    "sigma = np.std(res)\n",
    "\n",
    "inds = np.where(abs(unknownXcm[:,1] - predict(unknownXcm[:,0])) < sigma)[0]\n",
    "photmembers = [unknown[i] for i in inds]\n",
    "\n",
    "print(len(photmembers))"
   ]
  },
  {
   "cell_type": "code",
   "execution_count": 10,
   "id": "66536293",
   "metadata": {},
   "outputs": [
    {
     "name": "stdout",
     "output_type": "stream",
     "text": [
      "207\n"
     ]
    }
   ],
   "source": [
    "papercatalog = \"Files/\" + cluster + \"paper.csv\"\n",
    "paper = pd.read_csv(papercatalog)\n",
    "status = paper['Status']\n",
    "paperinds = np.where((status == \"member-phot\") | (status == \"member-spec\"))[0]\n",
    "papermem = [paper.iloc[i] for i in paperinds]\n",
    "\n",
    "print(len(papermem))"
   ]
  },
  {
   "cell_type": "code",
   "execution_count": 18,
   "id": "842feb29",
   "metadata": {},
   "outputs": [
    {
     "name": "stdout",
     "output_type": "stream",
     "text": [
      "61\n",
      "[True, True, True, True, True, True, True, True, True, True, True, True, True, True, True, True, True, True, True, True, True, True, True, True, True, True, True, True, True, True, True, True, True, True, True, True, True, True, True, True, True, True, True, True, True, True, True, True, True, True, True, True, True, True, True, True, True, True, True, True, True]\n",
      "[True, True, True, True, True, True, True, True, True, True, True, True, True, True, True, True, True, True, True, True, True, True, True, True, True, True, True, True, True, True, True, True, True, True, True, True, True, True, True, True, True, True, True, True, True, True, True, True, True, True, True, True, True, True, True, True, True, True, True, True, True]\n"
     ]
    }
   ],
   "source": [
    "pd.set_option(\"display.max_rows\", None, \"display.max_columns\", None)\n",
    "mygals = fc.galclass(\"m0416-def-sigma.txt\")\n",
    "\n",
    "mydat = mygals.dat\n",
    "\n",
    "included = [False for i in range(len(mydat))]\n",
    "used = [False for i in range(len(papermem))]\n",
    "\n",
    "count = 0\n",
    "for i, gal in enumerate(mydat):\n",
    "    for j, gal2 in enumerate(papermem):\n",
    "        if abs(gal - gal2.RA) < 0.00001 and abs(gal.master_Dec - gal2.Dec) < 0.00001:\n",
    "            if abs(gal.master_mag606 - gal2.F606W_mag) > 0.02 or abs(gal.master_mag814 - gal2.F814W_mag) > 0.02:\n",
    "                count += 1\n",
    "                print(count)\n",
    "            included[i] = True\n",
    "            used[j] = True\n",
    "            \n",
    "print(included)\n",
    "print(used)"
   ]
  },
  {
   "cell_type": "code",
   "execution_count": 14,
   "id": "c0a974cd",
   "metadata": {},
   "outputs": [
    {
     "name": "stdout",
     "output_type": "stream",
     "text": [
      "146\n",
      "[True, True, True, True, True, True, True, True, True, True, True, True, True, True, True, True, True, True, True, True, True, True, True, True, True, True, True, True, True, True, True, True, True, True, True, True, True, True, True, True, True, True, True, True, True, True, True, True, True, True, True, True, True, True, True, True, True, True, True, True, True, True, True, True, True, True, True, True, True, True, True, True, True, True, True, True, True, True, True, True, True, True, True, True, True, True, True, True, True, True, True, True, True, True, True, True, True, True, True, True, True, True, True, True, True, True, True, True, True, True, True, True, True, True, True, True, True, True, True, True, True, True, True, True, True, True, True, True, True, True, True, True, True, True, True, True, True, True, True, True, True, True, True, True, True, True]\n",
      "[True, True, True, True, True, True, True, True, True, True, True, True, True, True, True, True, True, True, True, True, True, True, True, True, True, True, True, True, True, True, True, True, True, True, True, True, True, True, True, True, True, True, True, True, True, True, True, True, True, True, True, True, True, True, True, True, True, True, True, True, True, True, True, True, True, True, True, True, True, True, True, True, True, True, True, True, True, True, True, True, True, True, True, True, True, True, True, True, True, True, True, True, True, True, True, True, True, True, True, True, True, True, True, True, True, True, True, True, True, True, True, True, True, True, True, True, True, True, True, True, True, True, True, True, True, True, True, True, True, True, True, True, True, True, True, True, True, True, True, True, True, True, True, True, True, True]\n"
     ]
    }
   ],
   "source": [
    "specinds = np.where(status == \"member-spec\")[0]\n",
    "paperspec = [paper.iloc[i] for i in specinds]\n",
    "\n",
    "included = [False for i in range(len(clusterarr))]\n",
    "used = [False for i in range(len(paperspec))]\n",
    "\n",
    "print(len(specinds))\n",
    "\n",
    "\n",
    "for i, gal in enumerate(clusterarr):\n",
    "    for j, gal2 in enumerate(paperspec):\n",
    "        if abs(gal.master_RA - gal2.RA) < 0.00001 and abs(gal.master_Dec - gal2.Dec) < 0.00001:\n",
    "            included[i] = True\n",
    "            used[j] = True\n",
    "            \n",
    "print(included)\n",
    "print(used)"
   ]
  }
 ],
 "metadata": {
  "kernelspec": {
   "display_name": "Python 3",
   "language": "python",
   "name": "python3"
  },
  "language_info": {
   "codemirror_mode": {
    "name": "ipython",
    "version": 3
   },
   "file_extension": ".py",
   "mimetype": "text/x-python",
   "name": "python",
   "nbconvert_exporter": "python",
   "pygments_lexer": "ipython3",
   "version": "3.8.8"
  }
 },
 "nbformat": 4,
 "nbformat_minor": 5
}
