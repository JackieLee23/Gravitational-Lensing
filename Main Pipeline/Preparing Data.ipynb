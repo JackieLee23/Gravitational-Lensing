{
 "cells": [
  {
   "cell_type": "code",
   "execution_count": 1,
   "id": "2984d21d",
   "metadata": {},
   "outputs": [],
   "source": [
    "#Write Normalized Data into files in \"DataFiles\" folder\n",
    "\n",
    "import numpy as np\n",
    "import pandas as pd\n",
    "import sys\n",
    "import math\n",
    "\n",
    "import astropy\n",
    "from astropy.stats import sigma_clip\n",
    "\n",
    "from sklearn import preprocessing\n",
    "\n",
    "root = 'C:\\\\Users\\\\Jackson\\\\Jupyter projects\\\\'\n",
    "sys.path.insert(0, root)\n",
    "\n",
    "zclus = {'a2744' : 0.308,\n",
    "         'm0416' : 0.396}\n",
    "pgals = {'a2744' : [1.689791e-01, 1.965115e+00, 2.0],\n",
    "        'm0416' : [3.737113e-01, 1.322081e+00, 2.0]}\n",
    "nclus = {'a2744': \"Abell 2744\",\n",
    "         'm0416' : \"MACS 0416\"}\n",
    "\n"
   ]
  },
  {
   "cell_type": "code",
   "execution_count": 2,
   "id": "ae37d7d7",
   "metadata": {},
   "outputs": [
    {
     "name": "stdout",
     "output_type": "stream",
     "text": [
      "486\n",
      "0.3069860850098326 0.007357462290748165\n",
      "0.022072386872244495\n",
      "92\n",
      "46\n",
      "235\n"
     ]
    }
   ],
   "source": [
    "cluster = 'a2744'\n",
    "base = 'C:\\\\Users\\\\Jackson\\\\Jupyter projects\\\\'\n",
    "catalog = base + \"Files/\" + cluster + \"_master_cleaned.csv\"\n",
    "\n",
    "#Set up clusters, not clusters, and unknowns\n",
    "dzcut=0.03; sigclip=3; sigcut=3; radialcut=120; maglim=23.5; colorcut=1.0\n",
    "master = pd.read_csv(catalog)\n",
    "zdat = master['master_z']\n",
    "valid = master['master_valid']\n",
    "memberindx = np.where((zdat>zclus[cluster]-dzcut)&(zdat<zclus[cluster]+dzcut)&(valid==1))[0]\n",
    "print(len(memberindx))\n",
    "z1 = zdat[memberindx]\n",
    "z2 = sigma_clip(z1,sigma=sigclip)\n",
    "print(np.mean(z2),np.std(z2))\n",
    "\n",
    "dz = sigcut*np.std(z2)\n",
    "print(dz)\n",
    "ddat = master['master_d']\n",
    "zdat = master['master_z']\n",
    "mag814 = master['master_mag814']\n",
    "mag606 = master['master_mag606']\n",
    "valid = master['master_valid']\n",
    "master_cut = master.iloc[np.where((ddat<radialcut)&(~np.isnan(mag606))&(~np.isnan(mag814))&(mag814<=maglim)&(valid == 1))]\n",
    "\n",
    "zdat   = master_cut['master_z']\n",
    "nmemindx = np.where((zdat<zclus[cluster]-dz)|(zdat>zclus[cluster]+dz))[0]\n",
    "memindx = np.where((zdat>zclus[cluster]-dz)&(zdat<zclus[cluster]+dz))[0]\n",
    "unknownindx = np.where(np.isnan(zdat))[0]\n",
    "\n",
    "#Arrays of Spectroscopic cluster members, Spectroscopic non-members, and photometric galaxies\n",
    "\n",
    "clusterarr = [master_cut.iloc[i] for i in memindx] \n",
    "ncluster =[master_cut.iloc[i] for i in nmemindx]\n",
    "unknown = [master_cut.iloc[i] for i in unknownindx]\n",
    "\n",
    "print(len(clusterarr))\n",
    "print(len(ncluster))\n",
    "print(len(unknown))\n"
   ]
  },
  {
   "cell_type": "code",
   "execution_count": 10,
   "id": "53cd4204",
   "metadata": {},
   "outputs": [],
   "source": [
    "#Prepare feature and known label arrays for color magnitude\n",
    "XclustCM = [[row['master_mag814'], row['master_mag606'] - row['master_mag814']] for row in clusterarr]\n",
    "XnclustCM = [[row['master_mag814'], row['master_mag606'] - row['master_mag814']] for row in ncluster]\n",
    "\n",
    "Xcm = np.array(XclustCM + XnclustCM)\n",
    "\n",
    "unknownXcm = [[row['master_mag814'], row['master_mag606'] - row['master_mag814']] for row in unknown]\n",
    "unknownXcm = np.array(unknownXcm)\n",
    "\n",
    "y = np.zeros(len(clusterarr) + len(ncluster))\n",
    "y[:len(clusterarr)] = 1\n",
    "\n",
    "#Prepare galaxy position/magnitude data\n",
    "XclustCMPos = [[row['master_x'], row['master_y'], row['master_mag814']] for row in clusterarr]\n",
    "XnclustCMPos = [[row['master_x'], row['master_y'], row['master_mag814']] for row in ncluster]\n",
    "unknownXCMPos = [[row['master_x'], row['master_y'], row['master_mag814']] for row in unknown]"
   ]
  },
  {
   "cell_type": "code",
   "execution_count": 11,
   "id": "e28ba0bd",
   "metadata": {},
   "outputs": [],
   "source": [
    "#Save spectroscopic position magnitude\n",
    "filename = base + \"Master\\\\\" + nclus[cluster] + \"\\\\Files\\\\Galaxy Data\\\\SpecCMP\"\n",
    "np.savez(filename, specMembers = XclustCMPos, specNonMembers = XnclustCMPos)"
   ]
  },
  {
   "cell_type": "code",
   "execution_count": 7,
   "id": "3ec7caa6",
   "metadata": {},
   "outputs": [],
   "source": [
    "#Save to File\n",
    "filename = base + \"Master\\\\\" + nclus[cluster] + \"\\\\Files\\\\Galaxy Data\\\\ColorMagnitude\"\n",
    "np.savez(filename, knownXData = Xcm, unknownXData = unknownXcm, yData = y,\n",
    "        clusterPosMag = XclustCMPos, unknownPosMag = unknownXCMPos)"
   ]
  },
  {
   "cell_type": "code",
   "execution_count": 7,
   "id": "a1b796f0",
   "metadata": {},
   "outputs": [
    {
     "name": "stdout",
     "output_type": "stream",
     "text": [
      "(235, 4)\n"
     ]
    }
   ],
   "source": [
    "#Prepare feature and known label arrays for color magnitude + position data\n",
    "\n",
    "Xclustall= [[row['master_mag814'], row['master_mag606'] - row['master_mag814'], row['master_x'], row['master_y']] for row in clusterarr]\n",
    "Xnclustall = [[row['master_mag814'], row['master_mag606'] - row['master_mag814'], row['master_x'], row['master_y']] for row in ncluster]\n",
    "Xall = np.array(Xclustall + Xnclustall)\n",
    "\n",
    "unknownXall = [[row['master_mag814'], row['master_mag606'] - row['master_mag814'], row['master_x'], row['master_y']] for row in unknown]\n",
    "unknownXall = np.array(unknownXall)\n",
    "\n",
    "print(unknownXall.shape)"
   ]
  },
  {
   "cell_type": "code",
   "execution_count": 10,
   "id": "1b164c20",
   "metadata": {},
   "outputs": [],
   "source": [
    "#Save to file\n",
    "filename = base + \"Master\\\\\" + nclus[cluster] + \"\\\\Files\\\\Galaxy Data\\\\ColorMagnitudePosition\"\n",
    "np.savez(filename, knownXData = Xall, unknownXData = unknownXall, yData = y,\n",
    "        clusterPosMag = XclustCMPos, unknownPosMag = unknownXCMPos)"
   ]
  },
  {
   "cell_type": "code",
   "execution_count": 13,
   "id": "b6502962",
   "metadata": {},
   "outputs": [
    {
     "name": "stdout",
     "output_type": "stream",
     "text": [
      "Number of unknown members with coe data: 217\n",
      "Number of unknown members without coe data: 18\n",
      "Number of spectroscopic cluster members with coe data: 89\n",
      "Number of spectroscopic noncluster members with coe data: 42\n"
     ]
    }
   ],
   "source": [
    "#Create coe feature/answer arrays\n",
    "\n",
    "clustercoe = [row for row in clusterarr if not np.isnan(row['coe_RA'])]\n",
    "nclustercoe = [row for row in ncluster if not np.isnan(row['coe_RA'])]\n",
    "unknowncoe = [row for row in unknown if not np.isnan(row['coe_RA'])]\n",
    "\n",
    "unknownNoCoe = [row for row in unknown if np.isnan(row['coe_RA'])]\n",
    "\n",
    "allknowncoe = clustercoe + nclustercoe\n",
    "knownYcoe = np.zeros(len(clustercoe) + len(nclustercoe))\n",
    "\n",
    "coePos = [(row['coe_RA'], row['coe_Dec']) for row in allknowncoe]\n",
    "knownYcoe[:len(clustercoe)] = 1\n",
    "\n",
    "print(\"Number of unknown members with coe data: {}\".format(len(unknowncoe)))\n",
    "print(\"Number of unknown members without coe data: {}\".format(len(unknownNoCoe)))\n",
    "print(\"Number of spectroscopic cluster members with coe data: {}\".format(len(clustercoe)))\n",
    "print(\"Number of spectroscopic noncluster members with coe data: {}\".format(len(nclustercoe)))"
   ]
  },
  {
   "cell_type": "code",
   "execution_count": 15,
   "id": "e85039e0",
   "metadata": {},
   "outputs": [],
   "source": [
    "#Get relevant features from coe data and add colors\n",
    "forbidden = [\"coe_mag160\", \"coe_err160\", \"coe_lab\", \"coe_sn160\"]\n",
    "knownXcoe = [[row[i] for i in row.keys() if (\"coe\" in i and not(i in forbidden))] for row in allknowncoe]\n",
    "\n",
    "for i, row in enumerate(knownXcoe):\n",
    "    row.append(allknowncoe[i][\"coe_mag606\"] - allknowncoe[i][\"coe_mag814\"])\n",
    "\n",
    "knownXcoe = np.array(knownXcoe)\n",
    "\n",
    "#Repeat for photometric coe data\n",
    "unknownXcoe = [[row[i] for i in row.keys() if (\"coe\" in i and not(i in forbidden))] for row in unknowncoe]\n",
    "\n",
    "for i, row in enumerate(unknownXcoe):\n",
    "    row.append(unknowncoe[i][\"coe_mag606\"] - unknowncoe[i][\"coe_mag814\"])\n",
    "\n",
    "unknownXcoe = np.array(unknownXcoe)\n",
    "\n",
    "#Get CM data for non-coe unknowns\n",
    "unknownXNoCoe = [[row['master_mag814'], row['master_mag606'] - row['master_mag814']] for row in unknownNoCoe]\n",
    "unknownXNoCoe = np.array(unknownXNoCoe)\n",
    "\n",
    "\n",
    "#Get position/magnitude data for unknown coe and unknown no coe\n",
    "unknownCoePosMag = [[row['master_x'], row['master_y'], row['master_mag814']] for row in unknowncoe]\n",
    "unknownNoCoePosMag = [[row['master_x'], row['master_y'], row['master_mag814']] for row in unknownNoCoe]"
   ]
  },
  {
   "cell_type": "code",
   "execution_count": 16,
   "id": "fea85083",
   "metadata": {},
   "outputs": [],
   "source": [
    "#Save file\n",
    "filename = base + \"Master\\\\\" + nclus[cluster] + \"\\\\Files\\\\Galaxy Data\\\\Coe\"\n",
    "np.savez(filename, knownXData = knownXcoe, unknownXData = unknownXcoe,\n",
    "         unknownXNoCoe = unknownXNoCoe, yData = knownYcoe, \n",
    "         unknownPosMagCoe = unknownCoePosMag, unknownPosMagNoCoe = unknownNoCoePosMag)"
   ]
  },
  {
   "cell_type": "code",
   "execution_count": null,
   "id": "97b821a7",
   "metadata": {},
   "outputs": [],
   "source": []
  }
 ],
 "metadata": {
  "kernelspec": {
   "display_name": "Python 3 (ipykernel)",
   "language": "python",
   "name": "python3"
  },
  "language_info": {
   "codemirror_mode": {
    "name": "ipython",
    "version": 3
   },
   "file_extension": ".py",
   "mimetype": "text/x-python",
   "name": "python",
   "nbconvert_exporter": "python",
   "pygments_lexer": "ipython3",
   "version": "3.9.7"
  }
 },
 "nbformat": 4,
 "nbformat_minor": 5
}
