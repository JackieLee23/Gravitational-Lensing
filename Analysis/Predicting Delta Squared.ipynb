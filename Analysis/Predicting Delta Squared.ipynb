{
 "cells": [
  {
   "cell_type": "code",
   "execution_count": 2,
   "id": "948a1bf0",
   "metadata": {},
   "outputs": [
    {
     "name": "stdout",
     "output_type": "stream",
     "text": [
      "Read image data from file C:\\Users\\Jackson\\Jupyter projects\\Files/a2744_images_0.5.dat\n"
     ]
    }
   ],
   "source": [
    "cluster = 'a2744'\n",
    "zclus = {'a2744' : 0.308,\n",
    "         'm0416' : 0.396}\n",
    "pgals = {'a2744' : [1.689791e-01, 1.965115e+00, 2.0],\n",
    "        'm0416' : [3.737113e-01, 1.322081e+00, 2.0]}\n",
    "nclus = {'a2744': \"Abell 2744\",\n",
    "         'm0416' : \"MACS 0416\"}\n",
    "\n",
    "import sys\n",
    "utils = 'C:\\\\Users\\\\Jackson\\\\Jupyter projects\\\\Master\\\\Utility\\\\'\n",
    "sys.path.insert(0, utils)\n",
    "\n",
    "root = 'C:\\\\Users\\\\Jackson\\\\Jupyter projects\\\\'\n",
    "sys.path.insert(0, root)\n",
    "filebase = 'C:\\\\Users\\\\Jackson\\\\Jupyter projects\\\\Master\\\\' + nclus[cluster] + \"\\\\Files\\\\\"\n",
    "\n",
    "import numpy as np\n",
    "import numpy.ma as ma\n",
    "from astropy.cosmology import FlatLambdaCDM\n",
    "from os import listdir\n",
    "from os.path import isfile, join\n",
    "import MCUtil as MC\n",
    "import DeltaSquared as DS\n",
    "import matplotlib.pyplot as plt\n",
    "import matplotlib.cm as cm\n",
    "import statistics\n",
    "import fitClusParallel as myfit\n",
    "\n",
    "cosmo = FlatLambdaCDM(H0=70, Om0=0.3)\n",
    "zlens = zclus[cluster]\n",
    "imgdat = myfit.imgclass(root + \"Files/\" + cluster + '_images_0.5.dat',zlens,cosmo)"
   ]
  },
  {
   "cell_type": "code",
   "execution_count": 3,
   "id": "05dbf73b",
   "metadata": {},
   "outputs": [
    {
     "name": "stdout",
     "output_type": "stream",
     "text": [
      "dict_keys(['CM + sigmaDet', 'CM + sigmaProb', 'CM + prop', 'CM + box', 'CM + knn', 'CM + logistic', 'CM + svm', 'CM + gnb', 'CM + mnb', 'CM + cnb', 'CM + rf', 'CMP + knn', 'CMP + logistic', 'CMP + svm', 'CMP + gnb', 'CMP + mnb', 'CMP + cnb', 'CMP + rf', 'Coe + knn', 'Coe + logistic', 'Coe + svm', 'Coe + gnb', 'Coe + mnb', 'Coe + cnb', 'Coe + rf', 'CM + rnn', 'CMP + rnn', 'Coe + rnn'])\n"
     ]
    }
   ],
   "source": [
    "scoreFile = np.load(filebase + \"scores.npy\", allow_pickle = True)\n",
    "modelScores = scoreFile[()]\n",
    "print(modelScores.keys())"
   ]
  },
  {
   "cell_type": "code",
   "execution_count": 4,
   "id": "e9ea8cbf",
   "metadata": {},
   "outputs": [],
   "source": [
    "#Compare probabilities of models\n",
    "probsBase = filebase + \"Galaxy Probability Files\\\\\"\n",
    "models = list(modelScores.keys())\n",
    "probabilities = []\n",
    "\n",
    "for model in models:\n",
    "    probs = np.loadtxt(probsBase + model)\n",
    "    probabilities.append(probs[:,3])\n",
    "    \n",
    "probabilities = np.array(probabilities)"
   ]
  },
  {
   "cell_type": "code",
   "execution_count": 5,
   "id": "baf2361b",
   "metadata": {
    "scrolled": true
   },
   "outputs": [
    {
     "name": "stdout",
     "output_type": "stream",
     "text": [
      "0\n",
      "1\n",
      "2\n",
      "3\n",
      "4\n",
      "5\n",
      "6\n",
      "7\n",
      "8\n",
      "9\n",
      "10\n",
      "11\n",
      "12\n",
      "13\n",
      "14\n",
      "15\n",
      "16\n",
      "17\n",
      "18\n",
      "19\n",
      "20\n",
      "21\n",
      "22\n",
      "23\n",
      "24\n",
      "25\n",
      "26\n",
      "27\n"
     ]
    }
   ],
   "source": [
    "numModels = len(models)\n",
    "dsMatrix = np.zeros((numModels, numModels))\n",
    "\n",
    "for i in range(numModels):\n",
    "    print(i)\n",
    "    for j in range(numModels):\n",
    "        dist1 = np.load(filebase + \"\\\\MCMC\\\\\"+ models[i] + \"-main.npy\")\n",
    "        dist2 = np.load(filebase + \"\\\\MCMC\\\\\" + models[j] + \"-main.npy\")\n",
    "        dscore = DS.TwoSampleTest(dist1, dist2)\n",
    "\n",
    "        dsMatrix[i][j] = dscore"
   ]
  },
  {
   "cell_type": "code",
   "execution_count": 6,
   "id": "cbf71ad1",
   "metadata": {},
   "outputs": [],
   "source": [
    "sample = np.loadtxt(probsBase + models[0])\n",
    "maxmag = np.min(sample[:,2])\n",
    "def mse(probs1, probs2):\n",
    "    return np.sum((probs1 - probs2) * (probs1 - probs2))\n",
    "\n",
    "def msExtra(probs1, probs2, mags):\n",
    "    weighted = abs(probs1 - probs2) * (10 ** -(0.4*mags))\n",
    "    return np.sum(weighted)\n",
    "\n",
    "def msWithImg(posx, posy, probs1, probs2, mags):\n",
    "    dist = 0\n",
    "    ngal = len(posx)\n",
    "    ni = imgdat.nimg\n",
    "    for i in range(ngal):\n",
    "        for j in range(ni):\n",
    "            r = ((imgdat.xarr[j][0] - posx[i])**2 + (imgdat.xarr[j][1] - posy[i])**2)**0.5\n",
    "            dist += abs(probs1[i] - probs2[i]) * (10 ** -(0.4*mags[i])) / r\n",
    "    \n",
    "    return dist\n",
    "\n",
    "def msWithImg2(posx, posy, probs1, probs2, mags):\n",
    "    dist = 0\n",
    "    ngal = len(posx)\n",
    "    ni = imgdat.nimg\n",
    "    for i in range(ngal):\n",
    "        for j in range(ni):\n",
    "            r = ((imgdat.xarr[j][0] - posx[i])**2 + (imgdat.xarr[j][1] - posy[i])**2)\n",
    "            dist += abs(probs1[i] - probs2[i]) * (10 ** -(0.4*mags[i])) / r\n",
    "    \n",
    "    return dist\n",
    "    \n",
    "\n",
    "numModels = len(models)"
   ]
  },
  {
   "cell_type": "code",
   "execution_count": 7,
   "id": "b7e97606",
   "metadata": {},
   "outputs": [
    {
     "name": "stdout",
     "output_type": "stream",
     "text": [
      "0\n",
      "1\n",
      "2\n",
      "3\n",
      "4\n",
      "5\n",
      "6\n",
      "7\n",
      "8\n",
      "9\n",
      "10\n",
      "11\n",
      "12\n",
      "13\n",
      "14\n",
      "15\n",
      "16\n",
      "17\n",
      "18\n",
      "19\n",
      "20\n",
      "21\n",
      "22\n",
      "23\n",
      "24\n",
      "25\n",
      "26\n",
      "27\n"
     ]
    }
   ],
   "source": [
    "distMatrix = np.zeros((numModels, numModels))\n",
    "for i in range(numModels):\n",
    "    print(i)\n",
    "    for j in range(numModels):\n",
    "        probs1 = np.loadtxt(probsBase + models[i])\n",
    "        probs2 = np.loadtxt(probsBase + models[j])\n",
    "        \n",
    "        distMatrix[i][j] = msWithImg(probs1[:,0], probs1[:,1], probs1[:,3], probs2[:,3], probs1[:,2])"
   ]
  },
  {
   "cell_type": "code",
   "execution_count": 10,
   "id": "88a7b20a",
   "metadata": {},
   "outputs": [],
   "source": [
    "dsArr = []\n",
    "distArr = []\n",
    "for i in range(dsMatrix.shape[0]):\n",
    "    for j in range(dsMatrix.shape[0]):\n",
    "        if i != j:\n",
    "            dsArr.append(dsMatrix[i, j])\n",
    "            distArr.append(distMatrix[i, j])\n",
    "            \n",
    "dsArr = np.array(dsArr)\n",
    "distArr = np.array(distArr)"
   ]
  },
  {
   "cell_type": "code",
   "execution_count": 11,
   "id": "5d49395f",
   "metadata": {},
   "outputs": [
    {
     "name": "stdout",
     "output_type": "stream",
     "text": [
      "[ 7.98555396e+13 -5.31365444e+06  9.20733842e-01]\n",
      "R2 score: 0.7159242076684458\n"
     ]
    },
    {
     "data": {
      "image/png": "[encoded data removed]",
      "text/plain": [
       "<Figure size 576x360 with 1 Axes>"
      ]
     },
     "metadata": {
      "needs_background": "light"
     },
     "output_type": "display_data"
    }
   ],
   "source": [
    "from sklearn.metrics import r2_score\n",
    "\n",
    "fit = np.polyfit(distArr, dsArr, 2)\n",
    "print(fit)\n",
    "\n",
    "predict = np.poly1d(fit)\n",
    "r2 = r2_score(dsArr, predict(distArr))\n",
    "\n",
    "fig, ax = plt.subplots(figsize = (8, 5))\n",
    "\n",
    "ax.set_ylabel(\"Delta Squared Score\", size = 20)\n",
    "ax.set_xlabel(\"Weighted difference\", size = 20)\n",
    "\n",
    "ax.scatter(distArr, dsArr)\n",
    "\n",
    "xvals = np.linspace(0, np.max(distArr), 100)\n",
    "ax.plot(xvals, predict(xvals), color = \"red\")\n",
    "print(\"R2 score: {}\".format(r2))"
   ]
  }
 ],
 "metadata": {
  "kernelspec": {
   "display_name": "Python 3 (ipykernel)",
   "language": "python",
   "name": "python3"
  },
  "language_info": {
   "codemirror_mode": {
    "name": "ipython",
    "version": 3
   },
   "file_extension": ".py",
   "mimetype": "text/x-python",
   "name": "python",
   "nbconvert_exporter": "python",
   "pygments_lexer": "ipython3",
   "version": "3.9.7"
  }
 },
 "nbformat": 4,
 "nbformat_minor": 5
}
