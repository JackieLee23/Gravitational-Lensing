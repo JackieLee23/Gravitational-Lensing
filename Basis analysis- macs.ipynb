{
 "cells": [
  {
   "cell_type": "code",
   "execution_count": 2,
   "id": "1518a1a5",
   "metadata": {},
   "outputs": [],
   "source": [
    "import numpy as np\n",
    "import pandas as pd\n",
    "\n",
    "import matplotlib.pyplot as plt\n",
    "import matplotlib.cm as cm\n",
    "import matplotlib.gridspec as gridspec\n",
    "import matplotlib.patches as mpatches\n",
    "import matplotlib.colors as colors\n",
    "from matplotlib.patches import Ellipse\n",
    "%matplotlib inline\n",
    "import math\n",
    "import fitClus2D as fc\n",
    "from scipy.stats import sigmaclip\n",
    "from sklearn.neighbors import KNeighborsClassifier, RadiusNeighborsClassifier\n",
    "\n",
    "import astropy\n",
    "from astropy.stats import sigma_clip\n",
    "from astropy.io import fits\n",
    "from astropy.wcs import WCS\n",
    "from astropy.cosmology import LambdaCDM\n",
    "import corner\n",
    "import DeltaSquared as ds\n",
    "\n",
    "from PIL import Image\n",
    "\n",
    "# These cuts get you a 4x4 arcmin square centered on the image center of the fields\n",
    "img_cuts = {'a2744':[[519,4520],[412,4413]],\n",
    "            'm0416':[[367,4368],[380,4381]]}\n",
    "img_files = {'a2744':'Files/abell2744_RGB.fits',\n",
    "             'm0416':'Files/macs0416_RGB.fits'}\n",
    "\n",
    "zclus = {'a2744' : 0.308,\n",
    "         'm0416' : 0.396}\n",
    "pgals = {'a2744' : [1.689791e-01, 1.965115e+00, 2.0],\n",
    "        'm0416' : [3.737113e-01, 1.322081e+00, 2.0]}\n"
   ]
  },
  {
   "cell_type": "code",
   "execution_count": 3,
   "id": "4e5917f8",
   "metadata": {},
   "outputs": [],
   "source": [
    "cluster = 'm0416'\n",
    "\n",
    "\n"
   ]
  },
  {
   "cell_type": "code",
   "execution_count": 4,
   "id": "623c9b8b",
   "metadata": {},
   "outputs": [],
   "source": [
    "def getstat(mode1, mode2):\n",
    "    chain1 = np.load(\"Files/mcmc/\" + cluster + \"/\" + mode1 + \"-mc-main.npy\")\n",
    "    \n",
    "    chain2 = np.load(\"Files/mcmc/\" + cluster + \"/\" + mode2 + \"-mc-main.npy\")\n",
    "    \n",
    "    return ds.TwoSampleTest(chain1, chain2)"
   ]
  },
  {
   "cell_type": "code",
   "execution_count": 5,
   "id": "6b64d231",
   "metadata": {},
   "outputs": [],
   "source": [
    "modes = [\"sigma\", \"box\", \"rnn\", \"knn\"]\n",
    "\n",
    "labels = []\n",
    "results = []\n",
    "\n",
    "for i in range(len(modes)):\n",
    "    for j in range(i + 1, len(modes)):\n",
    "        labels.append(modes[i] + \"-\" + modes[j])\n",
    "        results.append(getstat(modes[i], modes[j]))\n",
    "    \n"
   ]
  },
  {
   "cell_type": "code",
   "execution_count": 6,
   "id": "afa5793b",
   "metadata": {},
   "outputs": [
    {
     "data": {
      "text/plain": [
       "[Text(0, 0, 'sigma-box'),\n",
       " Text(1, 0, 'sigma-rnn'),\n",
       " Text(2, 0, 'sigma-knn'),\n",
       " Text(3, 0, 'box-rnn'),\n",
       " Text(4, 0, 'box-knn'),\n",
       " Text(5, 0, 'rnn-knn')]"
      ]
     },
     "execution_count": 6,
     "metadata": {},
     "output_type": "execute_result"
    },
    {
     "data": {
      "image/png": "[encoded data removed]",
      "text/plain": [
       "<Figure size 720x360 with 1 Axes>"
      ]
     },
     "metadata": {
      "needs_background": "light"
     },
     "output_type": "display_data"
    }
   ],
   "source": [
    "#differences between models\n",
    "fig, ax = plt.subplots(figsize = (10, 5))\n",
    "ind = range(len(labels))\n",
    "ax.bar(ind, results)\n",
    "ax.set_xticks(ind)\n",
    "ax.set_xticklabels(labels)\n",
    "\n"
   ]
  },
  {
   "cell_type": "code",
   "execution_count": 8,
   "id": "9eb01558",
   "metadata": {},
   "outputs": [],
   "source": [
    "#galaxy number variation\n",
    "def plothist(mode):\n",
    "    gal = fc.galclass(\"Files/GalaxyData/\" + cluster + \"-def-\" + mode + \".txt\")\n",
    "    gal.scale()\n",
    "    \n",
    "    nums = []\n",
    "    for i in range(10000):\n",
    "        gal.draw()\n",
    "        nums.append(np.sum(gal.p[:,7]))\n",
    "        \n",
    "    plt.hist(nums)\n",
    "    plt.axvline(x=207, color = \"red\")"
   ]
  },
  {
   "cell_type": "code",
   "execution_count": 9,
   "id": "9b74d9d5",
   "metadata": {},
   "outputs": [
    {
     "name": "stdout",
     "output_type": "stream",
     "text": [
      "Read galaxy data from file Files/GalaxyData/m0416-def-box.txt\n"
     ]
    },
    {
     "data": {
      "image/png": "[encoded data removed]",
      "text/plain": [
       "<Figure size 432x288 with 1 Axes>"
      ]
     },
     "metadata": {
      "needs_background": "light"
     },
     "output_type": "display_data"
    }
   ],
   "source": [
    "plothist(\"box\")"
   ]
  },
  {
   "cell_type": "code",
   "execution_count": 10,
   "id": "1574b544",
   "metadata": {},
   "outputs": [
    {
     "name": "stdout",
     "output_type": "stream",
     "text": [
      "Read galaxy data from file Files/GalaxyData/m0416-def-rnn.txt\n"
     ]
    },
    {
     "data": {
      "image/png": "[encoded data removed]",
      "text/plain": [
       "<Figure size 432x288 with 1 Axes>"
      ]
     },
     "metadata": {
      "needs_background": "light"
     },
     "output_type": "display_data"
    }
   ],
   "source": [
    "plothist(\"rnn\")"
   ]
  },
  {
   "cell_type": "code",
   "execution_count": 13,
   "id": "6f4544a0",
   "metadata": {},
   "outputs": [
    {
     "name": "stdout",
     "output_type": "stream",
     "text": [
      "Read galaxy data from file Files/GalaxyData/m0416-def-knn.txt\n"
     ]
    },
    {
     "data": {
      "image/png": "[encoded data removed]",
      "text/plain": [
       "<Figure size 432x288 with 1 Axes>"
      ]
     },
     "metadata": {
      "needs_background": "light"
     },
     "output_type": "display_data"
    }
   ],
   "source": [
    "plothist(\"knn\")"
   ]
  },
  {
   "cell_type": "code",
   "execution_count": 15,
   "id": "326a13d6",
   "metadata": {},
   "outputs": [],
   "source": [
    "#analysis of average luminosities\n",
    "def getave(mode):\n",
    "    gal = fc.galclass(\"Files/GalaxyData/\" + cluster + \"-def-\" + mode + \".txt\", verbose = False)\n",
    "    gal.scale()\n",
    "    \n",
    "    print(mode + \": \" + str(np.sum(gal.dat[:,2] * gal.dat[:,3]) / np.sum(gal.dat[:,3])))\n",
    "    "
   ]
  },
  {
   "cell_type": "code",
   "execution_count": 16,
   "id": "edd44e46",
   "metadata": {},
   "outputs": [
    {
     "name": "stdout",
     "output_type": "stream",
     "text": [
      "sigma: 21.48727695599034\n",
      "box: 21.478988907654124\n",
      "rnn: 21.41048593474613\n",
      "knn: 21.41175487032737\n"
     ]
    }
   ],
   "source": [
    "for mode in modes:\n",
    "    getave(mode)"
   ]
  },
  {
   "cell_type": "code",
   "execution_count": null,
   "id": "301d1827",
   "metadata": {},
   "outputs": [],
   "source": []
  }
 ],
 "metadata": {
  "kernelspec": {
   "display_name": "Python 3",
   "language": "python",
   "name": "python3"
  },
  "language_info": {
   "codemirror_mode": {
    "name": "ipython",
    "version": 3
   },
   "file_extension": ".py",
   "mimetype": "text/x-python",
   "name": "python",
   "nbconvert_exporter": "python",
   "pygments_lexer": "ipython3",
   "version": "3.8.8"
  }
 },
 "nbformat": 4,
 "nbformat_minor": 5
}
