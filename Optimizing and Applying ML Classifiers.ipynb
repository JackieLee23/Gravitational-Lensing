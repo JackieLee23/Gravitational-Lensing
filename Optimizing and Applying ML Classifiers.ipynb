{
 "cells": [
  {
   "cell_type": "code",
   "execution_count": 3,
   "id": "4d2ae4cf",
   "metadata": {},
   "outputs": [],
   "source": [
    "import numpy as np\n",
    "import pandas as pd\n",
    "import sys\n",
    "import math\n",
    "\n",
    "root = 'C:\\\\Users\\\\Jackson Lee\\\\Jupyter projects\\\\Master\\\\Utility\\\\'\n",
    "sys.path.insert(0, root)\n",
    "\n",
    "import matplotlib.pyplot as plt\n",
    "import matplotlib.cm as cm\n",
    "import matplotlib.gridspec as gridspec\n",
    "import matplotlib.patches as mpatches\n",
    "import matplotlib.colors as colors\n",
    "from matplotlib.patches import Ellipse\n",
    "from sklearn.neighbors import KNeighborsClassifier, RadiusNeighborsClassifier\n",
    "%matplotlib inline\n",
    "\n",
    "#import MLTester\n",
    "import MLUtil as ML\n",
    "from sklearn.pipeline import Pipeline\n",
    "\n",
    "from sklearn.preprocessing import StandardScaler\n",
    "from sklearn.tree import DecisionTreeClassifier\n",
    "from sklearn.feature_selection import SelectKBest\n",
    "from sklearn.feature_selection import f_classif\n",
    "from sklearn.metrics import make_scorer, mean_squared_error\n",
    "from sklearn.model_selection import GridSearchCV\n",
    "from sklearn.model_selection import LeaveOneOut\n",
    "\n",
    "cluster = 'm0416'\n",
    "zclus = {'a2744' : 0.308,\n",
    "         'm0416' : 0.396}\n",
    "pgals = {'a2744' : [1.689791e-01, 1.965115e+00, 2.0],\n",
    "        'm0416' : [3.737113e-01, 1.322081e+00, 2.0]}\n",
    "\n",
    "nclus = {'a2744': \"Abell 2744\",\n",
    "         'm0416' : \"MACS 0416\"}\n",
    "\n",
    "base = 'C:\\\\Users\\\\Jackson Lee\\\\Jupyter projects\\\\Master\\\\' + nclus[cluster] + \"\\\\\""
   ]
  },
  {
   "cell_type": "code",
   "execution_count": 4,
   "id": "fdb303f2",
   "metadata": {},
   "outputs": [
    {
     "name": "stdout",
     "output_type": "stream",
     "text": [
      "knownXData\n",
      "unknownXData\n",
      "yData\n",
      "clusterPosMag\n",
      "unknownPosMag\n",
      "\n",
      "knownXData\n",
      "unknownXData\n",
      "yData\n",
      "clusterPosMag\n",
      "unknownPosMag\n"
     ]
    }
   ],
   "source": [
    "#Read data from gal files\n",
    "CM = np.load(base + \"Files\\\\Galaxy Data\\\\ColorMagnitude.npz\")\n",
    "CMP = np.load(base + \"Files\\\\Galaxy Data\\\\ColorMagnitudePosition.npz\")\n",
    "\n",
    "for key in CM.keys():\n",
    "    print(key)\n",
    "\n",
    "print()\n",
    "for key in CMP.keys():\n",
    "    print(key)\n"
   ]
  },
  {
   "cell_type": "code",
   "execution_count": 5,
   "id": "fb85c5ce",
   "metadata": {},
   "outputs": [],
   "source": [
    "XCM = CM[\"knownXData\"]\n",
    "pCM = CM[\"unknownXData\"]\n",
    "yall = CM[\"yData\"]\n",
    "cpmAll = CM[\"clusterPosMag\"]\n",
    "ppmAll = CM[\"unknownPosMag\"]\n",
    "\n",
    "XCMP = CMP[\"knownXData\"]\n",
    "pCMP = CMP[\"unknownXData\"]\n",
    "\n",
    "filebase = base + \"Files\\\\Galaxy Probability Files\\\\\""
   ]
  },
  {
   "cell_type": "code",
   "execution_count": 12,
   "id": "e143d1cf",
   "metadata": {},
   "outputs": [
    {
     "name": "stdout",
     "output_type": "stream",
     "text": [
      "0.2330508474576271\n"
     ]
    }
   ],
   "source": [
    "#Fiducial cut score\n",
    "inst, score = ML.CrossVal(XCM, yall, \"sigmaDet\", [1])\n",
    "inst.fit(XCM, yall)\n",
    "test = inst.predict_proba(pCM)\n",
    "print(score)"
   ]
  },
  {
   "cell_type": "code",
   "execution_count": 13,
   "id": "110abec5",
   "metadata": {},
   "outputs": [
    {
     "name": "stdout",
     "output_type": "stream",
     "text": [
      "Optimizing classifier...\n",
      "Best classifier: <MLUtil.sigmaDet object at 0x0000020F9A2B0160>\n",
      "Writing data to C:\\Users\\Jackson Lee\\Jupyter projects\\Master\\MACS 0416\\Files\\Galaxy Probability Files\\CM + sigmaDet\n"
     ]
    }
   ],
   "source": [
    "#Fiducial cut\n",
    "cut = \"CM\"\n",
    "model = \"sigmaDet\"\n",
    "fiducial = ML.sigmaDet([1])\n",
    "dat = ML.writeProbs(cpmAll, \n",
    "             [[XCM, yall, pCM, ppmAll]], \n",
    "             model, filebase + cut, fiducial)"
   ]
  },
  {
   "cell_type": "code",
   "execution_count": 14,
   "id": "d9f134be",
   "metadata": {},
   "outputs": [],
   "source": [
    "#Write probabilities using Color magnitude data\n",
    "def cmWrite(model):\n",
    "    cut = \"CM\"\n",
    "    dat = ML.writeProbs(cpmAll, \n",
    "                 [[XCM, yall, pCM, ppmAll]], \n",
    "                 model, filebase + cut)\n",
    "\n",
    "    print(dat.shape)"
   ]
  },
  {
   "cell_type": "code",
   "execution_count": 15,
   "id": "5da7bfd8",
   "metadata": {},
   "outputs": [
    {
     "name": "stdout",
     "output_type": "stream",
     "text": [
      "Optimizing classifier...\n",
      "Best score: 0.16468188071797488\n",
      "Best classifier: <MLUtil.sigmaProb object at 0x0000020F9A268940>\n",
      "Writing data to C:\\Users\\Jackson Lee\\Jupyter projects\\Master\\MACS 0416\\Files\\Galaxy Probability Files\\CM + sigmaProb\n",
      "(271, 4)\n",
      "Optimizing classifier...\n",
      "Best score: 0.2379357175192396\n",
      "Best classifier: <MLUtil.prop object at 0x0000020F9A27CD00>\n",
      "Writing data to C:\\Users\\Jackson Lee\\Jupyter projects\\Master\\MACS 0416\\Files\\Galaxy Probability Files\\CM + prop\n",
      "(271, 4)\n",
      "Optimizing classifier...\n",
      "Best score: 0.14139820213285775\n",
      "Best classifier: <MLUtil.box object at 0x0000020F9F645520>\n",
      "Writing data to C:\\Users\\Jackson Lee\\Jupyter projects\\Master\\MACS 0416\\Files\\Galaxy Probability Files\\CM + box\n",
      "(271, 4)\n",
      "Optimizing classifier...\n",
      "Best Score: 0.15199152542372885\n",
      "Best classifier: Pipeline(steps=[('ss', StandardScaler()),\n",
      "                ('knn', KNeighborsClassifier(n_neighbors=10))])\n",
      "Writing data to C:\\Users\\Jackson Lee\\Jupyter projects\\Master\\MACS 0416\\Files\\Galaxy Probability Files\\CM + knn\n",
      "(271, 4)\n",
      "Optimizing classifier...\n",
      "Best Score: 0.14568604876241348\n",
      "Best classifier: Pipeline(steps=[('ss', StandardScaler()),\n",
      "                ('rnn',\n",
      "                 RadiusNeighborsClassifier(outlier_label='most_frequent',\n",
      "                                           radius=0.8))])\n",
      "Writing data to C:\\Users\\Jackson Lee\\Jupyter projects\\Master\\MACS 0416\\Files\\Galaxy Probability Files\\CM + rnn\n",
      "(271, 4)\n",
      "Optimizing classifier...\n"
     ]
    },
    {
     "name": "stderr",
     "output_type": "stream",
     "text": [
      "C:\\Users\\Jackson Lee\\Anaconda3\\lib\\site-packages\\sklearn\\linear_model\\_logistic.py:1322: UserWarning: Setting penalty='none' will ignore the C and l1_ratio parameters\n",
      "  warnings.warn(\n",
      "C:\\Users\\Jackson Lee\\Anaconda3\\lib\\site-packages\\sklearn\\linear_model\\_logistic.py:1322: UserWarning: Setting penalty='none' will ignore the C and l1_ratio parameters\n",
      "  warnings.warn(\n"
     ]
    },
    {
     "name": "stdout",
     "output_type": "stream",
     "text": [
      "Best Score: 0.18771885941441022\n",
      "Best classifier: Pipeline(steps=[('ss', StandardScaler()),\n",
      "                ('logistic', LogisticRegression(C=0.1, penalty='none'))])\n",
      "Writing data to C:\\Users\\Jackson Lee\\Jupyter projects\\Master\\MACS 0416\\Files\\Galaxy Probability Files\\CM + logistic\n",
      "(271, 4)\n",
      "Optimizing classifier...\n",
      "Best Score: 0.1440238974681401\n",
      "Best classifier: Pipeline(steps=[('ss', StandardScaler()),\n",
      "                ('svm',\n",
      "                 SVC(C=0.2, class_weight='balanced', gamma='auto',\n",
      "                     probability=True))])\n",
      "Writing data to C:\\Users\\Jackson Lee\\Jupyter projects\\Master\\MACS 0416\\Files\\Galaxy Probability Files\\CM + svm\n",
      "(271, 4)\n",
      "Optimizing classifier...\n",
      "Best Score: 0.14568235126948978\n",
      "Best classifier: Pipeline(steps=[('ss', MinMaxScaler()), ('gnb', GaussianNB())])\n",
      "Writing data to C:\\Users\\Jackson Lee\\Jupyter projects\\Master\\MACS 0416\\Files\\Galaxy Probability Files\\CM + gnb\n",
      "(271, 4)\n",
      "Optimizing classifier...\n"
     ]
    },
    {
     "name": "stderr",
     "output_type": "stream",
     "text": [
      "C:\\Users\\Jackson Lee\\Anaconda3\\lib\\site-packages\\sklearn\\naive_bayes.py:508: UserWarning: alpha too small will result in numeric errors, setting alpha = 1.0e-10\n",
      "  warnings.warn('alpha too small will result in numeric errors, '\n",
      "C:\\Users\\Jackson Lee\\Anaconda3\\lib\\site-packages\\sklearn\\naive_bayes.py:508: UserWarning: alpha too small will result in numeric errors, setting alpha = 1.0e-10\n",
      "  warnings.warn('alpha too small will result in numeric errors, '\n"
     ]
    },
    {
     "name": "stdout",
     "output_type": "stream",
     "text": [
      "Best Score: 0.23182297568501178\n",
      "Best classifier: Pipeline(steps=[('ss', MinMaxScaler()), ('mnb', MultinomialNB(alpha=0.0))])\n",
      "Writing data to C:\\Users\\Jackson Lee\\Jupyter projects\\Master\\MACS 0416\\Files\\Galaxy Probability Files\\CM + mnb\n",
      "(271, 4)\n",
      "Optimizing classifier...\n"
     ]
    },
    {
     "name": "stderr",
     "output_type": "stream",
     "text": [
      "C:\\Users\\Jackson Lee\\Anaconda3\\lib\\site-packages\\sklearn\\naive_bayes.py:508: UserWarning: alpha too small will result in numeric errors, setting alpha = 1.0e-10\n",
      "  warnings.warn('alpha too small will result in numeric errors, '\n",
      "C:\\Users\\Jackson Lee\\Anaconda3\\lib\\site-packages\\sklearn\\naive_bayes.py:508: UserWarning: alpha too small will result in numeric errors, setting alpha = 1.0e-10\n",
      "  warnings.warn('alpha too small will result in numeric errors, '\n"
     ]
    },
    {
     "name": "stdout",
     "output_type": "stream",
     "text": [
      "Best Score: 0.24318209599223423\n",
      "Best classifier: Pipeline(steps=[('ss', MinMaxScaler()),\n",
      "                ('cnb', ComplementNB(alpha=0.0, fit_prior=False))])\n",
      "Writing data to C:\\Users\\Jackson Lee\\Jupyter projects\\Master\\MACS 0416\\Files\\Galaxy Probability Files\\CM + cnb\n",
      "(271, 4)\n",
      "Optimizing classifier...\n",
      "Best Score: 0.1428988405762312\n",
      "Best classifier: Pipeline(steps=[('ss', StandardScaler()),\n",
      "                ('rf',\n",
      "                 RandomForestClassifier(max_depth=4, min_samples_leaf=4,\n",
      "                                        min_samples_split=3))])\n",
      "Writing data to C:\\Users\\Jackson Lee\\Jupyter projects\\Master\\MACS 0416\\Files\\Galaxy Probability Files\\CM + rf\n",
      "(271, 4)\n"
     ]
    }
   ],
   "source": [
    "cmList = [\"sigmaProb\", \"prop\", \"box\", \"knn\", \"rnn\", \"logistic\", \"svm\", \"gnb\", \"mnb\", \"cnb\", \"rf\"]\n",
    "\n",
    "for model in cmList:\n",
    "    cmWrite(model)"
   ]
  },
  {
   "cell_type": "code",
   "execution_count": 16,
   "id": "3d855597",
   "metadata": {},
   "outputs": [],
   "source": [
    "#Write probabilities using color, magnitude, and position data\n",
    "def cmpWrite(model):\n",
    "    cut = \"CMP\"\n",
    "    dat = ML.writeProbs(cpmAll, \n",
    "                 [[XCMP, yall, pCMP, ppmAll]], \n",
    "                 model, filebase + cut)\n",
    "\n",
    "    print(dat.shape)"
   ]
  },
  {
   "cell_type": "code",
   "execution_count": 17,
   "id": "05f742d0",
   "metadata": {},
   "outputs": [
    {
     "name": "stdout",
     "output_type": "stream",
     "text": [
      "Optimizing classifier...\n",
      "Best Score: 0.15596976383867786\n",
      "Best classifier: Pipeline(steps=[('ss', StandardScaler()),\n",
      "                ('knn', KNeighborsClassifier(n_neighbors=19))])\n",
      "Writing data to C:\\Users\\Jackson Lee\\Jupyter projects\\Master\\MACS 0416\\Files\\Galaxy Probability Files\\CMP + knn\n",
      "(271, 4)\n",
      "Optimizing classifier...\n",
      "Best Score: 0.16324625227592926\n",
      "Best classifier: Pipeline(steps=[('ss', StandardScaler()),\n",
      "                ('rnn',\n",
      "                 RadiusNeighborsClassifier(outlier_label='most_frequent',\n",
      "                                           radius=1.9000000000000001,\n",
      "                                           weights='distance'))])\n",
      "Writing data to C:\\Users\\Jackson Lee\\Jupyter projects\\Master\\MACS 0416\\Files\\Galaxy Probability Files\\CMP + rnn\n",
      "(271, 4)\n",
      "Optimizing classifier...\n",
      "Best Score: 0.18493886038567645\n",
      "Best classifier: Pipeline(steps=[('ss', StandardScaler()), ('logistic', LogisticRegression())])\n",
      "Writing data to C:\\Users\\Jackson Lee\\Jupyter projects\\Master\\MACS 0416\\Files\\Galaxy Probability Files\\CMP + logistic\n",
      "(271, 4)\n",
      "Optimizing classifier...\n",
      "Best Score: 0.1389834557823948\n",
      "Best classifier: Pipeline(steps=[('ss', StandardScaler()),\n",
      "                ('svm',\n",
      "                 SVC(class_weight='balanced', gamma='auto', probability=True))])\n",
      "Writing data to C:\\Users\\Jackson Lee\\Jupyter projects\\Master\\MACS 0416\\Files\\Galaxy Probability Files\\CMP + svm\n",
      "(271, 4)\n",
      "Optimizing classifier...\n",
      "Best Score: 0.14591000148719002\n",
      "Best classifier: Pipeline(steps=[('ss', MinMaxScaler()), ('gnb', GaussianNB())])\n",
      "Writing data to C:\\Users\\Jackson Lee\\Jupyter projects\\Master\\MACS 0416\\Files\\Galaxy Probability Files\\CMP + gnb\n",
      "(271, 4)\n",
      "Optimizing classifier...\n"
     ]
    },
    {
     "name": "stderr",
     "output_type": "stream",
     "text": [
      "C:\\Users\\Jackson Lee\\Anaconda3\\lib\\site-packages\\sklearn\\naive_bayes.py:508: UserWarning: alpha too small will result in numeric errors, setting alpha = 1.0e-10\n",
      "  warnings.warn('alpha too small will result in numeric errors, '\n",
      "C:\\Users\\Jackson Lee\\Anaconda3\\lib\\site-packages\\sklearn\\naive_bayes.py:508: UserWarning: alpha too small will result in numeric errors, setting alpha = 1.0e-10\n",
      "  warnings.warn('alpha too small will result in numeric errors, '\n"
     ]
    },
    {
     "name": "stdout",
     "output_type": "stream",
     "text": [
      "Best Score: 0.2310639683473169\n",
      "Best classifier: Pipeline(steps=[('ss', MinMaxScaler()), ('mnb', MultinomialNB(alpha=0.0))])\n",
      "Writing data to C:\\Users\\Jackson Lee\\Jupyter projects\\Master\\MACS 0416\\Files\\Galaxy Probability Files\\CMP + mnb\n",
      "(271, 4)\n",
      "Optimizing classifier...\n"
     ]
    },
    {
     "name": "stderr",
     "output_type": "stream",
     "text": [
      "C:\\Users\\Jackson Lee\\Anaconda3\\lib\\site-packages\\sklearn\\naive_bayes.py:508: UserWarning: alpha too small will result in numeric errors, setting alpha = 1.0e-10\n",
      "  warnings.warn('alpha too small will result in numeric errors, '\n",
      "C:\\Users\\Jackson Lee\\Anaconda3\\lib\\site-packages\\sklearn\\naive_bayes.py:508: UserWarning: alpha too small will result in numeric errors, setting alpha = 1.0e-10\n",
      "  warnings.warn('alpha too small will result in numeric errors, '\n"
     ]
    },
    {
     "name": "stdout",
     "output_type": "stream",
     "text": [
      "Best Score: 0.2422589640141703\n",
      "Best classifier: Pipeline(steps=[('ss', MinMaxScaler()),\n",
      "                ('cnb', ComplementNB(alpha=0.0, fit_prior=False))])\n",
      "Writing data to C:\\Users\\Jackson Lee\\Jupyter projects\\Master\\MACS 0416\\Files\\Galaxy Probability Files\\CMP + cnb\n",
      "(271, 4)\n",
      "Optimizing classifier...\n",
      "Best Score: 0.14279670997848687\n",
      "Best classifier: Pipeline(steps=[('ss', StandardScaler()),\n",
      "                ('rf',\n",
      "                 RandomForestClassifier(criterion='entropy', max_depth=5,\n",
      "                                        min_samples_leaf=3,\n",
      "                                        min_samples_split=4))])\n",
      "Writing data to C:\\Users\\Jackson Lee\\Jupyter projects\\Master\\MACS 0416\\Files\\Galaxy Probability Files\\CMP + rf\n",
      "(271, 4)\n"
     ]
    }
   ],
   "source": [
    "cmpList = [\"knn\", \"rnn\", \"logistic\", \"svm\", \"gnb\", \"mnb\", \"cnb\", \"rf\"]\n",
    "\n",
    "for model in cmpList:\n",
    "    cmpWrite(model)"
   ]
  },
  {
   "cell_type": "code",
   "execution_count": 6,
   "id": "f66a3c1b",
   "metadata": {},
   "outputs": [],
   "source": [
    "#Write probabilities using coe data\n",
    "def coeWrite(model):\n",
    "    cut = \"Coe\"\n",
    "    dat = ML.writeProbs(cpmAll, \n",
    "                 [[XCoe, yCoe, pCoe, ppmCoe], [XCM, yall, pNCoe, ppmNCoe]], \n",
    "                 model, filebase + cut)\n",
    "\n",
    "    print(dat.shape)"
   ]
  }
 ],
 "metadata": {
  "kernelspec": {
   "display_name": "Python 3",
   "language": "python",
   "name": "python3"
  },
  "language_info": {
   "codemirror_mode": {
    "name": "ipython",
    "version": 3
   },
   "file_extension": ".py",
   "mimetype": "text/x-python",
   "name": "python",
   "nbconvert_exporter": "python",
   "pygments_lexer": "ipython3",
   "version": "3.8.8"
  }
 },
 "nbformat": 4,
 "nbformat_minor": 5
}
