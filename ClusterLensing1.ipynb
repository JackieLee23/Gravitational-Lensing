{
 "cells": [
  {
   "cell_type": "code",
   "execution_count": 116,
   "id": "438dfb40",
   "metadata": {},
   "outputs": [
    {
     "name": "stdout",
     "output_type": "stream",
     "text": [
      "          master_RA    master_Dec     master_z     owers_RA    owers_Dec  \\\n",
      "count  41431.000000  41431.000000  1378.000000  1250.000000  1250.000000   \n",
      "mean       3.582321    -30.399705     0.439693     3.581955   -30.397938   \n",
      "std        0.196361      0.139591     0.361527     0.131543     0.108262   \n",
      "min        3.235287    -30.642775     0.008695     3.296875   -30.639371   \n",
      "25%        3.418619    -30.518818     0.295505     3.489865   -30.481049   \n",
      "50%        3.578819    -30.398252     0.312739     3.580666   -30.396597   \n",
      "75%        3.750651    -30.281333     0.481753     3.667250   -30.320785   \n",
      "max        3.931102    -30.157418     3.980000     3.869875   -30.159917   \n",
      "\n",
      "        owers_magr      owers_z   owers_zerr  owers_quality    glass_RA  ...  \\\n",
      "count  1250.000000  1250.000000  1250.000000   4.143100e+04  153.000000  ...   \n",
      "mean     20.275712     0.369176     0.000421  -2.082693e+09    3.587400  ...   \n",
      "std       0.984663     0.215758     0.000479   3.673458e+08    0.011086  ...   \n",
      "min      16.510000     0.008695     0.000000  -2.147484e+09    3.568643  ...   \n",
      "25%      19.660000     0.287627     0.000090  -2.147484e+09    3.577520  ...   \n",
      "50%      20.330000     0.309585     0.000280  -2.147484e+09    3.587661  ...   \n",
      "75%      20.860000     0.445796     0.000921  -2.147484e+09    3.597277  ...   \n",
      "max      22.990000     3.469029     0.006110   5.000000e+00    3.609549  ...   \n",
      "\n",
      "         subaru_Dec   subaru_magi      master_x      master_y      master_d  \\\n",
      "count  40279.000000  40279.000000  41431.000000  41431.000000  41431.000000   \n",
      "mean     -30.399819     23.966987     18.685652     -9.367650    728.159392   \n",
      "std        0.141405      1.666638    609.697785    502.535272    307.377792   \n",
      "min      -30.642775      9.633200  -1062.241562   -883.908702      3.712672   \n",
      "25%      -30.522049     23.290600   -503.673224   -438.124660    511.692668   \n",
      "50%      -30.398753     24.400200     29.535719     -4.026599    762.560225   \n",
      "75%      -30.277916     25.122700    526.893489    416.711720    970.711526   \n",
      "max      -30.157418     26.000000   1095.235272    861.897698   1393.261154   \n",
      "\n",
      "       master_mag606  master_err606  master_mag814  master_err814  \\\n",
      "count    1561.000000    1561.000000   41227.000000   41227.000000   \n",
      "mean       24.687627       0.031597      23.467727       0.000512   \n",
      "std         1.667587       0.049849       1.610604       0.004194   \n",
      "min        18.236600       0.000300       9.688420       0.000000   \n",
      "25%        23.990900       0.011400      22.808974       0.000000   \n",
      "50%        25.130600       0.023000      23.870996       0.000000   \n",
      "75%        25.874000       0.040600      24.578240       0.000000   \n",
      "max        28.582000       1.514000      25.998000       0.392700   \n",
      "\n",
      "       master_valid  \n",
      "count  41431.000000  \n",
      "mean       0.999759  \n",
      "std        0.021970  \n",
      "min       -1.000000  \n",
      "25%        1.000000  \n",
      "50%        1.000000  \n",
      "75%        1.000000  \n",
      "max        1.000000  \n",
      "\n",
      "[8 rows x 51 columns]\n"
     ]
    }
   ],
   "source": [
    "import numpy as np\n",
    "import matplotlib.pyplot as plt\n",
    "import math\n",
    "import fitClus2D as fc\n",
    "from scipy.stats import sigmaclip\n",
    "\n",
    "import pandas as pd\n",
    "\n",
    "catalog = pd.read_csv('Files/a2744_master.csv')\n",
    "\n",
    "print(catalog.describe())\n",
    "\n",
    "unknown = []\n",
    "cluster = []\n",
    "ncluster = []\n",
    "clustz = 0.308\n",
    "cut = 0.03\n",
    "totdif = 0\n",
    "\n",
    "for i, row in catalog.iterrows():\n",
    "    if not np.isnan(row['master_mag606']) and not np.isnan(row['master_mag814']) and row['master_d'] < 120 and row['master_mag814'] < 23.5:\n",
    "        if np.isnan(row['master_z']):\n",
    "            if row['master_mag606'] - row['master_mag814'] < 1.1 and row['master_mag606'] - row['master_mag814'] > 0:\n",
    "                unknown.append(row)\n",
    "        else:\n",
    "            if abs(row['master_z'] - clustz) < cut:\n",
    "                totdif += (row['master_z'] - 0.308) ** 2\n",
    "                cluster.append(row)\n",
    "            else:\n",
    "                ncluster.append(row)\n",
    "\n",
    "#Clip redshifts\n",
    "clusterz = np.array([row['master_z'] for row in cluster])\n",
    "arr, low, high = sigmaclip(clusterz, 3, 3)\n",
    "tmpclust = []\n",
    "\n",
    "for row in cluster:\n",
    "    if row['master_z'] > low and row['master_z'] < high:\n",
    "        tmpclust.append(row)\n",
    "    else:\n",
    "        ncluster.append(row)\n",
    "    \n",
    "cluster = tmpclust\n",
    "\n",
    "\n",
    "#function to scatter plot an array of rows\n",
    "def getMags(rows):\n",
    "    return [row['master_mag814'] for row in rows]\n",
    "\n",
    "def getColors(rows):\n",
    "    return [row['master_mag606'] - row['master_mag814'] for row in rows]\n",
    "    #return [row['master_mag606'] for row in rows]\n",
    "    \n",
    "def getX(rows):\n",
    "    return [row['master_x'] for row in rows]\n",
    "\n",
    "def getY(rows):\n",
    "    return [row['master_y'] for row in rows]\n",
    "\n",
    "def scatterCM(rows, c):\n",
    "    x = np.array(getMags(rows))\n",
    "    y = np.array(getColors(rows))\n",
    "    plt.scatter(x, y, color = c)\n"
   ]
  },
  {
   "cell_type": "code",
   "execution_count": 117,
   "id": "1c19c19c",
   "metadata": {},
   "outputs": [
    {
     "name": "stdout",
     "output_type": "stream",
     "text": [
      "[-0.01842295  1.16892735]\n"
     ]
    },
    {
     "data": {
      "image/png": "[encoded data removed]",
      "text/plain": [
       "<Figure size 432x288 with 1 Axes>"
      ]
     },
     "metadata": {
      "needs_background": "light"
     },
     "output_type": "display_data"
    }
   ],
   "source": [
    "\n",
    "#linear regression for color magnitude diagram of cluster members\n",
    "clustermag = [row['master_mag814'] for row in cluster]\n",
    "clustercolor = [row['master_mag606'] - row['master_mag814'] for row in cluster]\n",
    "model = np.polyfit(clustermag, clustercolor, 1)\n",
    "a, b = model\n",
    "predict = np.poly1d(model)\n",
    "plt.plot([17, 24], [predict(18), predict(24)])\n",
    "\n",
    "\n",
    "#plot scatters\n",
    "#scatterCM(unknown, 'green')\n",
    "scatterCM(cluster, 'red')\n",
    "scatterCM(ncluster, 'blue')"
   ]
  },
  {
   "cell_type": "code",
   "execution_count": 118,
   "id": "ec78773e",
   "metadata": {},
   "outputs": [
    {
     "name": "stdout",
     "output_type": "stream",
     "text": [
      "0.15554118074969264\n",
      "0.5035383777898745\n",
      "Read in 336 galaxies\n"
     ]
    },
    {
     "data": {
      "image/png": "[encoded data removed]",
      "text/plain": [
       "<Figure size 432x288 with 1 Axes>"
      ]
     },
     "metadata": {
      "needs_background": "light"
     },
     "output_type": "display_data"
    }
   ],
   "source": [
    "clusterData = [[row['master_x'], row['master_y'], row['master_mag814'], 1] for row in cluster]\n",
    "unknownData = [[row['master_x'], row['master_y'], row['master_mag814'], 0] for row in unknown]\n",
    "\n",
    "#set uniform probability for unknowns within n * sigma of relation\n",
    "def setProbUniform(n):\n",
    "    global unknownData\n",
    "    print(sigma)\n",
    "    p = 1\n",
    "    for i, row in enumerate(unknown):\n",
    "        if abs(row['master_mag606'] - row['master_mag814'] - predict(row['master_mag814'])) < n * sigma:\n",
    "            unknownData[i][3] = p\n",
    "\n",
    "\n",
    "def normalize(arr):\n",
    "    return (arr - np.min(arr)) / (np.max(arr) - np.min(arr))\n",
    "\n",
    "#Calculate probabilities for unknowns using k nearest neighbors on Color Magnitude diagram\n",
    "def setProbKnn(k):\n",
    "    global unknownData\n",
    "    \n",
    "    ukn = len(unknown)\n",
    "    clustn = len(cluster)\n",
    "    nclustn = len(ncluster)\n",
    "    \n",
    "    allmags = getMags(unknown) + getMags(cluster) + getMags(ncluster)\n",
    "    allcolors = getColors(unknown) + getColors(cluster) + getColors(ncluster)\n",
    "    \n",
    "    normmags = np.array(normalize(np.array(allmags)))\n",
    "    normcolors = np.array(normalize(np.array(allcolors)))\n",
    "    \n",
    "    inclust = np.zeros(clustn + nclustn)\n",
    "    inclust[:clustn] = 1\n",
    "    dist = np.zeros(clustn + nclustn)\n",
    "    \n",
    "    tot = 0\n",
    "    count = 0\n",
    "    for i in range(ukn):\n",
    "        mag1 = normmags[i]\n",
    "        color1 = normcolors[i]\n",
    "        \n",
    "        for j in range(clustn + nclustn):\n",
    "            mag2 = normmags[ukn + j]\n",
    "            color2 = normcolors[ukn + j]\n",
    "            dist[j] = ((mag1 - mag2) ** 2 + (color1 - color2) ** 2) ** 0.5\n",
    "        \n",
    "        \n",
    "        idx = np.argpartition(dist, k)\n",
    "        \n",
    "        prev = unknownData[i][3]\n",
    "        unknownData[i][3] = np.average(inclust[idx[:k]])\n",
    "        \n",
    "        if prev == 1:\n",
    "            tot += unknownData[i][3]\n",
    "            count += 1\n",
    "            \n",
    "        if (unknownData[i][3] < 0.5): c = \"green\"\n",
    "        else: c = \"yellow\"\n",
    "        plt.scatter(allmags[i], allcolors[i], color = c)\n",
    "    \n",
    "    print(tot / count)\n",
    "    \n",
    "    \n",
    "#draw scatter plot of uncertainties in varying cluster members, or in scattering\n",
    "def scatterDraw(n, vclust, scatter):\n",
    "    colors = [\"blue\", \"red\", \"green\", \"orange\"]\n",
    "    alldeflect = []\n",
    "    for i in range(n):\n",
    "        gal.draw(vclust, scatter)\n",
    "        deflect, gamma = gal.calcdefbasic(images)\n",
    "        alldeflect.append(deflect)\n",
    "\n",
    "    alldeflect = np.array(alldeflect)\n",
    "    for i in range(len(images)):\n",
    "        x = alldeflect[:,i,0]\n",
    "        y = alldeflect[:,i,1]\n",
    "        plt.scatter(x, y, color = colors[i])\n",
    "        \n",
    "            \n",
    "#Plot scatter plots of uncertainties\n",
    "setProbUniform(1)\n",
    "setProbKnn(11)\n",
    "\n",
    "scatterCM(cluster, 'red')\n",
    "scatterCM(ncluster, 'blue')\n",
    "\n",
    "data = clusterData + unknownData\n",
    "gal = fc.galclass(data)\n",
    "gal.scale()\n",
    "\n",
    "images = np.array([[20, 25], [-13, 26], [-1, 2]])\n"
   ]
  },
  {
   "cell_type": "code",
   "execution_count": 89,
   "id": "69c0dc44",
   "metadata": {},
   "outputs": [
    {
     "data": {
      "image/png": "[encoded data removed]",
      "text/plain": [
       "<Figure size 432x288 with 1 Axes>"
      ]
     },
     "metadata": {
      "needs_background": "light"
     },
     "output_type": "display_data"
    }
   ],
   "source": [
    "scatterDraw(100, False, False)"
   ]
  },
  {
   "cell_type": "code",
   "execution_count": 108,
   "id": "8ca709b5",
   "metadata": {},
   "outputs": [
    {
     "data": {
      "image/png": "[encoded data removed]",
      "text/plain": [
       "<Figure size 432x288 with 1 Axes>"
      ]
     },
     "metadata": {
      "needs_background": "light"
     },
     "output_type": "display_data"
    }
   ],
   "source": [
    "scatterDraw(100, True, False)"
   ]
  },
  {
   "cell_type": "code",
   "execution_count": 109,
   "id": "3762f937",
   "metadata": {},
   "outputs": [
    {
     "data": {
      "image/png": "[encoded data removed]",
      "text/plain": [
       "<Figure size 432x288 with 1 Axes>"
      ]
     },
     "metadata": {
      "needs_background": "light"
     },
     "output_type": "display_data"
    }
   ],
   "source": [
    "scatterDraw(100, True, True)"
   ]
  }
 ],
 "metadata": {
  "kernelspec": {
   "display_name": "Python 3",
   "language": "python",
   "name": "python3"
  },
  "language_info": {
   "codemirror_mode": {
    "name": "ipython",
    "version": 3
   },
   "file_extension": ".py",
   "mimetype": "text/x-python",
   "name": "python",
   "nbconvert_exporter": "python",
   "pygments_lexer": "ipython3",
   "version": "3.8.8"
  }
 },
 "nbformat": 4,
 "nbformat_minor": 5
}
