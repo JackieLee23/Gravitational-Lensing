{
 "cells": [
  {
   "cell_type": "code",
   "execution_count": 1,
   "id": "438dfb40",
   "metadata": {},
   "outputs": [],
   "source": [
    "import numpy as np\n",
    "import matplotlib.pyplot as plt\n",
    "import math\n",
    "import fitClus2D as fc\n",
    "from scipy.stats import sigmaclip\n",
    "from sklearn.neighbors import KNeighborsClassifier, RadiusNeighborsClassifier\n",
    "\n",
    "import pandas as pd"
   ]
  },
  {
   "cell_type": "code",
   "execution_count": 36,
   "id": "405f86a0",
   "metadata": {},
   "outputs": [],
   "source": [
    "cluster = 'a2744'\n",
    "# Get galaxy data, make arrays for known cluster/noncluster members, \n",
    "data = pd.read_csv(\"Files/\" + cluster+'_master.csv')\n",
    "unknown = []\n",
    "clusterarr = []\n",
    "ncluster = []\n",
    "clustz = 0.308\n",
    "cut = 0.03\n",
    "\n",
    "for i, row in data.iterrows():\n",
    "    if not np.isnan(row['master_mag606']) and not np.isnan(row['master_mag814']) and row['master_d'] < 120 and row['master_mag814'] < 23.5:\n",
    "        if np.isnan(row['master_z']):\n",
    "            unknown.append(row)\n",
    "        else:\n",
    "            if abs(row['master_z'] - clustz) < cut:\n",
    "                clusterarr.append(row)\n",
    "            else:\n",
    "                ncluster.append(row)\n",
    "\n",
    "#Clip redshifts\n",
    "clusterz = np.array([row['master_z'] for row in clusterarr])\n",
    "arr, low, high = sigmaclip(clusterz, 3, 3)\n",
    "tmpclust = []\n",
    "\n",
    "for row in clusterarr:\n",
    "    if row['master_z'] > low and row['master_z'] < high:\n",
    "        tmpclust.append(row)\n",
    "    else:\n",
    "        ncluster.append(row)\n",
    "clusterarr = tmpclust\n",
    "\n",
    "#Create feature and category arrays for knowns, and feature array for unknowns\n",
    "XclustCM= [[row['master_mag814'], row['master_mag606'] - row['master_mag814']] for row in clusterarr]\n",
    "XnclustCM = [[row['master_mag814'], row['master_mag606'] - row['master_mag814']] for row in ncluster]\n",
    "Xcm = np.array(XclustCM + XnclustCM)\n",
    "\n",
    "unknownXcm = [[row['master_mag814'], row['master_mag606'] - row['master_mag814']] for row in unknown]\n",
    "unknownXcm = np.array(unknownXcm)\n",
    "\n",
    "clustnum = len(clusterarr)\n",
    "nclustnum = len(ncluster)\n",
    "\n",
    "y = np.zeros(clustnum + nclustnum)\n",
    "y[:len(clusterarr)] = 1"
   ]
  },
  {
   "cell_type": "code",
   "execution_count": 37,
   "id": "b43d2582",
   "metadata": {},
   "outputs": [],
   "source": [
    "#Ways to assign probabilities\n",
    "def normalize(X, p):\n",
    "    copyX = np.copy(X)\n",
    "    copyp = np.copy(p)\n",
    "    for i in range((len(X[0]))):\n",
    "        mn = np.min(X[:,i])\n",
    "        mx = np.max(X[:,i])\n",
    "        copyX[:,i] = (X[:,i] - mn) / (mx - mn)\n",
    "        copyp[:,i] = (p[:,i] - mn) / (mx - mn)\n",
    "    \n",
    "    return copyX, copyp\n",
    "    \n",
    "def Knn(X, y, p, k):\n",
    "    normX, normp = normalize(X, p)\n",
    "    model = KNeighborsClassifier(n_neighbors = k)\n",
    "    model.fit(normX, y)\n",
    "    return model.predict_proba(normp)[:,1], model.predict(normp)\n",
    "\n",
    "def Rnn(X, y, p, r):\n",
    "    normX, normp = normalize(X, p)\n",
    "    model = RadiusNeighborsClassifier(radius = r, outlier_label = 0)\n",
    "    model.fit(normX, y)\n",
    "    return model.predict_proba(normp)[:,1], model.predict(normp)\n",
    "\n",
    "def box(X, y, p, numx, numy):\n",
    "    minm = np.min(Xcm[:,0])\n",
    "    maxm = np.max(Xcm[:,0])\n",
    "    minc = np.min(Xcm[:,1])\n",
    "    maxc = np.max(Xcm[:,1])\n",
    "    w = maxm - minm\n",
    "    h = maxc - minc\n",
    "    minm -= 0.01 * w\n",
    "    maxm += 0.01 * w\n",
    "    minc -= 0.01 * h\n",
    "    maxc += 0.01 * h\n",
    "    \n",
    "    boxw = (maxm - minm) / numx\n",
    "    boxh = (maxc - minc) / numy\n",
    "    grid = np.zeros((numx, numy, 2))\n",
    "    \n",
    "    for i, point in enumerate(X):\n",
    "        xcoor = int((point[0] - minm) / boxw)\n",
    "        ycoor = int((point[1] - minc) / boxh)\n",
    "        grid[xcoor, ycoor, 1] += 1\n",
    "        grid[xcoor, ycoor, 0] += y[i]\n",
    "        \n",
    "    probs = np.zeros(len(p))\n",
    "    classes = np.zeros(len(p))\n",
    "    \n",
    "    for i, point in enumerate(p):\n",
    "        if point[0] >= minm and point[0] < maxm and point[1] >= minc and point[1] <= maxc:\n",
    "            xcoor = int((point[0] - minm) / boxw)\n",
    "            ycoor = int((point[1] - minc) / boxh)\n",
    "            if not grid[xcoor, ycoor, 1] == 0:\n",
    "                probs[i] = grid[xcoor, ycoor, 0] / grid[xcoor, ycoor, 1]\n",
    "                if probs[i] > 0.5: classes[i] = 1\n",
    "                    \n",
    "    return probs, classes\n",
    "\n",
    "def sigmaCut(X, y, p, k):\n",
    "    clustermag = [dat[0] for i, dat in enumerate(X) if y[i] == 1]\n",
    "    clustercolor = [dat[1] for i, dat in enumerate(X) if y[i] == 1]\n",
    "    \n",
    "    model = np.polyfit(clustermag, clustercolor, 1)\n",
    "    predict = np.poly1d(model)\n",
    "    \n",
    "    sigma = np.std(clustercolor)\n",
    "    \n",
    "    probs = np.zeros(len(p))\n",
    "    classes = np.zeros(len(p))\n",
    "    \n",
    "    nclust = 0\n",
    "    ntot = 0\n",
    "    \n",
    "    for i, point in enumerate(X):\n",
    "        if abs(point[1] - predict(point[0])) < k * sigma:\n",
    "            if y[i] == 1:\n",
    "                nclust += 1\n",
    "            ntot += 1\n",
    "    prob = nclust / ntot\n",
    "    \n",
    "    for i, point in enumerate(p):\n",
    "        if abs(point[1] - predict(point[0])) < k * sigma:\n",
    "               probs[i] = prob\n",
    "               classes[i] = 1\n",
    "    return probs, classes"
   ]
  },
  {
   "cell_type": "code",
   "execution_count": 38,
   "id": "ec78773e",
   "metadata": {},
   "outputs": [],
   "source": [
    "clusterData = [[row['master_x'], row['master_y'], row['master_mag814'], 1] for row in clusterarr]\n",
    "unknownData = [[row['master_x'], row['master_y'], row['master_mag814'], 0] for row in unknown]\n",
    "data = np.array(clusterData + unknownData)\n",
    "\n",
    "\n",
    "    \n",
    "#draw scatter plot of uncertainties in varying cluster members, or in scattering\n",
    "def scatterDraw(n, vclust, scatter, ax, probs = []):\n",
    "    global data\n",
    "    colors = [\"red\", \"blue\", \"green\"]\n",
    "    if vclust: data[clustnum:,3] = probs\n",
    "    \n",
    "    gal = fc.galclass(data)\n",
    "    gal.scale()\n",
    "    alldeflect = []\n",
    "    \n",
    "    for i in range(n):\n",
    "        gal.draw(True, scatter)\n",
    "        deflect, gamma = gal.calcdefbasic(images)\n",
    "        alldeflect.append(deflect)\n",
    "\n",
    "    alldeflect = np.array(alldeflect)\n",
    "    for i in range(len(images)):\n",
    "        x = alldeflect[:,i,0]\n",
    "        y = alldeflect[:,i,1]\n",
    "        ax.scatter(x, y, color = colors[i])\n"
   ]
  },
  {
   "cell_type": "code",
   "execution_count": 22,
   "id": "d743a611",
   "metadata": {},
   "outputs": [],
   "source": [
    "#Get probability arrays\n",
    "knnprob = Knn(Xcm, y, unknownXcm, 20)[0]\n",
    "rnnprob = Rnn(Xcm, y, unknownXcm, 0.25)[0]\n",
    "boxprob = box(Xcm, y, unknownXcm, 3, 5)[0]"
   ]
  },
  {
   "cell_type": "code",
   "execution_count": 42,
   "id": "69c0dc44",
   "metadata": {},
   "outputs": [
    {
     "name": "stdout",
     "output_type": "stream",
     "text": [
      "Read in 351 galaxies\n"
     ]
    },
    {
     "data": {
      "image/png": "[encoded data removed]",
      "text/plain": [
       "<Figure size 360x360 with 1 Axes>"
      ]
     },
     "metadata": {
      "needs_background": "light"
     },
     "output_type": "display_data"
    }
   ],
   "source": [
    "fig,ax = plt.subplots(figsize=(5,5))\n",
    "classes = sigmaCut(Xcm, y, unknownXcm, 1.0)[1]\n",
    "\n",
    "images = np.array([[20, 25], [-13, 26], [-1, 2]])\n",
    "scatterDraw(100, True, True, ax, classes)"
   ]
  },
  {
   "cell_type": "code",
   "execution_count": 28,
   "id": "8ca709b5",
   "metadata": {},
   "outputs": [
    {
     "name": "stdout",
     "output_type": "stream",
     "text": [
      "Read in 351 galaxies\n",
      "Read in 351 galaxies\n",
      "Read in 351 galaxies\n"
     ]
    },
    {
     "data": {
      "text/plain": [
       "Text(0.5, 1.0, 'Boxes')"
      ]
     },
     "execution_count": 28,
     "metadata": {},
     "output_type": "execute_result"
    },
    {
     "data": {
      "image/png": "[encoded data removed]",
      "text/plain": [
       "<Figure size 1080x360 with 3 Axes>"
      ]
     },
     "metadata": {
      "needs_background": "light"
     },
     "output_type": "display_data"
    }
   ],
   "source": [
    "fig,((ax1, ax2, ax3)) = plt.subplots(1, 3, figsize=(15,5))\n",
    "\n",
    "scatterDraw(100, True, False, ax1, knnprob)\n",
    "scatterDraw(100, True, False, ax2, rnnprob)\n",
    "scatterDraw(100, True, False, ax3, boxprob)\n",
    "ax1.set_title(\"K nearest neighbors\")\n",
    "ax2.set_title(\"Radius nearest neighbors\")\n",
    "ax3.set_title(\"Boxes\")"
   ]
  },
  {
   "cell_type": "code",
   "execution_count": 29,
   "id": "3762f937",
   "metadata": {},
   "outputs": [
    {
     "name": "stdout",
     "output_type": "stream",
     "text": [
      "Read in 351 galaxies\n",
      "Read in 351 galaxies\n",
      "Read in 351 galaxies\n"
     ]
    },
    {
     "data": {
      "text/plain": [
       "Text(0.5, 1.0, 'Boxes')"
      ]
     },
     "execution_count": 29,
     "metadata": {},
     "output_type": "execute_result"
    },
    {
     "data": {
      "image/png": "[encoded data removed]",
      "text/plain": [
       "<Figure size 1080x360 with 3 Axes>"
      ]
     },
     "metadata": {
      "needs_background": "light"
     },
     "output_type": "display_data"
    }
   ],
   "source": [
    "fig,((ax1, ax2, ax3)) = plt.subplots(1, 3, figsize=(15,5))\n",
    "\n",
    "scatterDraw(100, True, True, ax1, knnprob)\n",
    "scatterDraw(100, True, True, ax2, rnnprob)\n",
    "scatterDraw(100, True, True, ax3, boxprob)\n",
    "ax1.set_title(\"K nearest neighbors\")\n",
    "ax2.set_title(\"Radius nearest neighbors\")\n",
    "ax3.set_title(\"Boxes\")"
   ]
  }
 ],
 "metadata": {
  "kernelspec": {
   "display_name": "Python 3",
   "language": "python",
   "name": "python3"
  },
  "language_info": {
   "codemirror_mode": {
    "name": "ipython",
    "version": 3
   },
   "file_extension": ".py",
   "mimetype": "text/x-python",
   "name": "python",
   "nbconvert_exporter": "python",
   "pygments_lexer": "ipython3",
   "version": "3.8.8"
  }
 },
 "nbformat": 4,
 "nbformat_minor": 5
}
