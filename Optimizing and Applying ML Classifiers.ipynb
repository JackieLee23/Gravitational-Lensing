{
 "cells": [
  {
   "cell_type": "code",
   "execution_count": 1,
   "id": "4d2ae4cf",
   "metadata": {},
   "outputs": [],
   "source": [
    "import numpy as np\n",
    "import pandas as pd\n",
    "import sys\n",
    "import math\n",
    "\n",
    "root = 'C:\\\\Users\\\\Jackson Lee\\\\Jupyter projects\\\\Master\\\\Utility\\\\'\n",
    "sys.path.insert(0, root)\n",
    "\n",
    "import matplotlib.pyplot as plt\n",
    "import matplotlib.cm as cm\n",
    "import matplotlib.gridspec as gridspec\n",
    "import matplotlib.patches as mpatches\n",
    "import matplotlib.colors as colors\n",
    "from matplotlib.patches import Ellipse\n",
    "from sklearn.neighbors import KNeighborsClassifier, RadiusNeighborsClassifier\n",
    "%matplotlib inline\n",
    "\n",
    "#import MLTester\n",
    "import MLUtil as ML\n",
    "from sklearn.pipeline import Pipeline\n",
    "\n",
    "from sklearn.preprocessing import StandardScaler\n",
    "from sklearn.tree import DecisionTreeClassifier\n",
    "from sklearn.feature_selection import SelectKBest\n",
    "from sklearn.feature_selection import f_classif\n",
    "from sklearn.metrics import make_scorer, mean_squared_error\n",
    "from sklearn.model_selection import GridSearchCV\n",
    "from sklearn.model_selection import LeaveOneOut\n",
    "\n",
    "cluster = 'a2744'\n",
    "zclus = {'a2744' : 0.308,\n",
    "         'm0416' : 0.396}\n",
    "pgals = {'a2744' : [1.689791e-01, 1.965115e+00, 2.0],\n",
    "        'm0416' : [3.737113e-01, 1.322081e+00, 2.0]}\n",
    "\n",
    "nclus = {'a2744': \"Abell 2744\",\n",
    "         'm0416' : \"MACS 0416\"}\n",
    "\n",
    "base = 'C:\\\\Users\\\\Jackson Lee\\\\Jupyter projects\\\\Master\\\\' + nclus[cluster] + \"\\\\\""
   ]
  },
  {
   "cell_type": "code",
   "execution_count": 2,
   "id": "fdb303f2",
   "metadata": {},
   "outputs": [
    {
     "name": "stdout",
     "output_type": "stream",
     "text": [
      "knownXData\n",
      "unknownXData\n",
      "yData\n",
      "clusterPosMag\n",
      "unknownPosMag\n",
      "\n",
      "knownXData\n",
      "unknownXData\n",
      "yData\n",
      "clusterPosMag\n",
      "unknownPosMag\n",
      "\n",
      "knownXData\n",
      "unknownXData\n",
      "unknownXNoCoe\n",
      "yData\n",
      "unknownPosMagCoe\n",
      "unknownPosMagNoCoe\n"
     ]
    }
   ],
   "source": [
    "#Read data from gal files\n",
    "CM = np.load(base + \"Files\\\\Galaxy Data\\\\ColorMagnitude.npz\")\n",
    "CMP = np.load(base + \"Files\\\\Galaxy Data\\\\ColorMagnitudePosition.npz\")\n",
    "Coe = np.load(base + \"Files\\\\Galaxy Data\\\\Coe.npz\")\n",
    "\n",
    "for key in CM.keys():\n",
    "    print(key)\n",
    "\n",
    "print()\n",
    "for key in CMP.keys():\n",
    "    print(key)\n",
    "\n",
    "print()\n",
    "for key in Coe.keys():\n",
    "    print(key)"
   ]
  },
  {
   "cell_type": "code",
   "execution_count": 3,
   "id": "fb85c5ce",
   "metadata": {},
   "outputs": [],
   "source": [
    "XCM = CM[\"knownXData\"]\n",
    "pCM = CM[\"unknownXData\"]\n",
    "yall = CM[\"yData\"]\n",
    "cpmAll = CM[\"clusterPosMag\"]\n",
    "ppmAll = CM[\"unknownPosMag\"]\n",
    "\n",
    "XCMP = CMP[\"knownXData\"]\n",
    "pCMP = CMP[\"unknownXData\"]\n",
    "\n",
    "XCoe = Coe[\"knownXData\"]\n",
    "pCoe = Coe[\"unknownXData\"]\n",
    "pNCoe = Coe[\"unknownXNoCoe\"]\n",
    "yCoe = Coe[\"yData\"]\n",
    "ppmCoe = Coe[\"unknownPosMagCoe\"]\n",
    "ppmNCoe = Coe[\"unknownPosMagNoCoe\"]\n",
    "\n",
    "filebase = base + \"Files\\\\Galaxy Probability Files\\\\\""
   ]
  },
  {
   "cell_type": "code",
   "execution_count": 6,
   "id": "e143d1cf",
   "metadata": {},
   "outputs": [
    {
     "name": "stdout",
     "output_type": "stream",
     "text": [
      "0.26811594202898553\n"
     ]
    }
   ],
   "source": [
    "#Fiducial cut score\n",
    "inst, score = ML.CrossVal(XCM, yall, \"sigmaDet\", [1])\n",
    "print(score)"
   ]
  },
  {
   "cell_type": "code",
   "execution_count": 11,
   "id": "110abec5",
   "metadata": {},
   "outputs": [
    {
     "name": "stdout",
     "output_type": "stream",
     "text": [
      "Optimizing classifier...\n",
      "Best classifier: <MLUtil.sigmaDet object at 0x000002181D9E3CA0>\n",
      "Writing data to C:\\Users\\Jackson Lee\\Jupyter projects\\Master\\Abell 2744\\Files\\Galaxy Probability Files\\CM + sigmaDet\n"
     ]
    }
   ],
   "source": [
    "#Fiducial cut\n",
    "cut = \"CM\"\n",
    "model = \"sigmaDet\"\n",
    "fiducial = ML.sigmaDet([1])\n",
    "dat = ML.writeProbs(cpmAll, \n",
    "             [[XCM, yall, pCM, ppmAll]], \n",
    "             model, filebase + cut, fiducial)"
   ]
  },
  {
   "cell_type": "code",
   "execution_count": 4,
   "id": "d9f134be",
   "metadata": {},
   "outputs": [],
   "source": [
    "#Write probabilities using Color magnitude data\n",
    "def cmWrite(model):\n",
    "    cut = \"CM\"\n",
    "    dat = ML.writeProbs(cpmAll, \n",
    "                 [[XCM, yall, pCM, ppmAll]], \n",
    "                 model, filebase + cut)\n",
    "\n",
    "    print(dat.shape)"
   ]
  },
  {
   "cell_type": "code",
   "execution_count": 22,
   "id": "5da7bfd8",
   "metadata": {},
   "outputs": [
    {
     "name": "stdout",
     "output_type": "stream",
     "text": [
      "Optimizing classifier...\n",
      "Best score: 0.1911916025615576\n",
      "Best classifier: <MLUtil.sigmaProb object at 0x0000019A2E92EB20>\n",
      "Writing data to C:\\Users\\Jackson Lee\\Jupyter projects\\Master\\Abell 2744\\Files\\Galaxy Probability Files\\CM + sigmaProb\n",
      "(327, 4)\n",
      "Optimizing classifier...\n",
      "Best score: 0.22547818210879642\n",
      "Best classifier: <MLUtil.prop object at 0x0000019A2F312280>\n",
      "Writing data to C:\\Users\\Jackson Lee\\Jupyter projects\\Master\\Abell 2744\\Files\\Galaxy Probability Files\\CM + prop\n",
      "(327, 4)\n",
      "Optimizing classifier...\n",
      "Best score: 0.12576978736765007\n",
      "Best classifier: <MLUtil.box object at 0x0000019A2F312AC0>\n",
      "Writing data to C:\\Users\\Jackson Lee\\Jupyter projects\\Master\\Abell 2744\\Files\\Galaxy Probability Files\\CM + box\n",
      "(327, 4)\n",
      "Optimizing classifier...\n",
      "Best Score: 0.13108423408208766\n",
      "Best classifier: Pipeline(steps=[('ss', StandardScaler()),\n",
      "                ('knn',\n",
      "                 KNeighborsClassifier(n_neighbors=16, weights='distance'))])\n",
      "Writing data to C:\\Users\\Jackson Lee\\Jupyter projects\\Master\\Abell 2744\\Files\\Galaxy Probability Files\\CM + knn\n",
      "(327, 4)\n",
      "Optimizing classifier...\n",
      "Best Score: 0.12408010524945673\n",
      "Best classifier: Pipeline(steps=[('ss', StandardScaler()),\n",
      "                ('rnn',\n",
      "                 RadiusNeighborsClassifier(outlier_label='most_frequent',\n",
      "                                           radius=1.4199999999999995,\n",
      "                                           weights='distance'))])\n",
      "Writing data to C:\\Users\\Jackson Lee\\Jupyter projects\\Master\\Abell 2744\\Files\\Galaxy Probability Files\\CM + rnn\n",
      "(327, 4)\n",
      "Optimizing classifier...\n"
     ]
    },
    {
     "name": "stderr",
     "output_type": "stream",
     "text": [
      "C:\\Users\\Jackson Lee\\Anaconda3\\lib\\site-packages\\sklearn\\linear_model\\_logistic.py:1322: UserWarning: Setting penalty='none' will ignore the C and l1_ratio parameters\n",
      "  warnings.warn(\n",
      "C:\\Users\\Jackson Lee\\Anaconda3\\lib\\site-packages\\sklearn\\linear_model\\_logistic.py:1322: UserWarning: Setting penalty='none' will ignore the C and l1_ratio parameters\n",
      "  warnings.warn(\n"
     ]
    },
    {
     "name": "stdout",
     "output_type": "stream",
     "text": [
      "Best Score: 0.1321341774229136\n",
      "Best classifier: Pipeline(steps=[('ss', StandardScaler()),\n",
      "                ('logistic', LogisticRegression(C=0.1, penalty='none'))])\n",
      "Writing data to C:\\Users\\Jackson Lee\\Jupyter projects\\Master\\Abell 2744\\Files\\Galaxy Probability Files\\CM + logistic\n",
      "(327, 4)\n",
      "Optimizing classifier...\n",
      "Best Score: 0.12360169191066366\n",
      "Best classifier: Pipeline(steps=[('ss', StandardScaler()),\n",
      "                ('svm', SVC(C=1.1, gamma='auto', probability=True))])\n",
      "Writing data to C:\\Users\\Jackson Lee\\Jupyter projects\\Master\\Abell 2744\\Files\\Galaxy Probability Files\\CM + svm\n",
      "(327, 4)\n",
      "Optimizing classifier...\n",
      "Best Score: 0.15055448651936312\n",
      "Best classifier: Pipeline(steps=[('ss', MinMaxScaler()), ('gnb', GaussianNB())])\n",
      "Writing data to C:\\Users\\Jackson Lee\\Jupyter projects\\Master\\Abell 2744\\Files\\Galaxy Probability Files\\CM + gnb\n",
      "(327, 4)\n",
      "Optimizing classifier...\n"
     ]
    },
    {
     "name": "stderr",
     "output_type": "stream",
     "text": [
      "C:\\Users\\Jackson Lee\\Anaconda3\\lib\\site-packages\\sklearn\\naive_bayes.py:508: UserWarning: alpha too small will result in numeric errors, setting alpha = 1.0e-10\n",
      "  warnings.warn('alpha too small will result in numeric errors, '\n",
      "C:\\Users\\Jackson Lee\\Anaconda3\\lib\\site-packages\\sklearn\\naive_bayes.py:508: UserWarning: alpha too small will result in numeric errors, setting alpha = 1.0e-10\n",
      "  warnings.warn('alpha too small will result in numeric errors, '\n"
     ]
    },
    {
     "name": "stdout",
     "output_type": "stream",
     "text": [
      "Best Score: 0.20980918125385742\n",
      "Best classifier: Pipeline(steps=[('ss', MinMaxScaler()), ('mnb', MultinomialNB(alpha=0.0))])\n",
      "Writing data to C:\\Users\\Jackson Lee\\Jupyter projects\\Master\\Abell 2744\\Files\\Galaxy Probability Files\\CM + mnb\n",
      "(327, 4)\n",
      "Optimizing classifier...\n"
     ]
    },
    {
     "name": "stderr",
     "output_type": "stream",
     "text": [
      "C:\\Users\\Jackson Lee\\Anaconda3\\lib\\site-packages\\sklearn\\naive_bayes.py:508: UserWarning: alpha too small will result in numeric errors, setting alpha = 1.0e-10\n",
      "  warnings.warn('alpha too small will result in numeric errors, '\n",
      "C:\\Users\\Jackson Lee\\Anaconda3\\lib\\site-packages\\sklearn\\naive_bayes.py:508: UserWarning: alpha too small will result in numeric errors, setting alpha = 1.0e-10\n",
      "  warnings.warn('alpha too small will result in numeric errors, '\n"
     ]
    },
    {
     "name": "stdout",
     "output_type": "stream",
     "text": [
      "Best Score: 0.2311909088313751\n",
      "Best classifier: Pipeline(steps=[('ss', MinMaxScaler()),\n",
      "                ('cnb', ComplementNB(alpha=0.0, fit_prior=False))])\n",
      "Writing data to C:\\Users\\Jackson Lee\\Jupyter projects\\Master\\Abell 2744\\Files\\Galaxy Probability Files\\CM + cnb\n",
      "(327, 4)\n",
      "Optimizing classifier...\n",
      "Best Score: 0.1205041251191247\n",
      "Best classifier: Pipeline(steps=[('ss', StandardScaler()),\n",
      "                ('rf',\n",
      "                 RandomForestClassifier(max_depth=2, min_samples_split=5))])\n",
      "Writing data to C:\\Users\\Jackson Lee\\Jupyter projects\\Master\\Abell 2744\\Files\\Galaxy Probability Files\\CM + rf\n",
      "(327, 4)\n"
     ]
    }
   ],
   "source": [
    "cmList = [\"sigmaProb\", \"prop\", \"box\", \"knn\", \"rnn\", \"logistic\", \"svm\", \"gnb\", \"mnb\", \"cnb\", \"rf\"]\n",
    "\n",
    "for model in cmList:\n",
    "    cmWrite(model)"
   ]
  },
  {
   "cell_type": "code",
   "execution_count": 5,
   "id": "3d855597",
   "metadata": {},
   "outputs": [],
   "source": [
    "#Write probabilities using color, magnitude, and position data\n",
    "def cmpWrite(model):\n",
    "    cut = \"CMP\"\n",
    "    dat = ML.writeProbs(cpmAll, \n",
    "                 [[XCMP, yall, pCMP, ppmAll]], \n",
    "                 model, filebase + cut)\n",
    "\n",
    "    print(dat.shape)"
   ]
  },
  {
   "cell_type": "code",
   "execution_count": 24,
   "id": "05f742d0",
   "metadata": {},
   "outputs": [
    {
     "name": "stdout",
     "output_type": "stream",
     "text": [
      "Optimizing classifier...\n",
      "Best Score: 0.1475952478922243\n",
      "Best classifier: Pipeline(steps=[('ss', StandardScaler()),\n",
      "                ('knn',\n",
      "                 KNeighborsClassifier(n_neighbors=18, weights='distance'))])\n",
      "Writing data to C:\\Users\\Jackson Lee\\Jupyter projects\\Master\\Abell 2744\\Files\\Galaxy Probability Files\\CMP + knn\n",
      "(327, 4)\n",
      "Optimizing classifier...\n",
      "Best Score: 0.1544871113238801\n",
      "Best classifier: Pipeline(steps=[('ss', StandardScaler()),\n",
      "                ('rnn',\n",
      "                 RadiusNeighborsClassifier(outlier_label='most_frequent',\n",
      "                                           radius=1.4699999999999993))])\n",
      "Writing data to C:\\Users\\Jackson Lee\\Jupyter projects\\Master\\Abell 2744\\Files\\Galaxy Probability Files\\CMP + rnn\n",
      "(327, 4)\n",
      "Optimizing classifier...\n",
      "Best Score: 0.13452594582983868\n",
      "Best classifier: Pipeline(steps=[('ss', StandardScaler()),\n",
      "                ('logistic', LogisticRegression(C=2.9000000000000004))])\n",
      "Writing data to C:\\Users\\Jackson Lee\\Jupyter projects\\Master\\Abell 2744\\Files\\Galaxy Probability Files\\CMP + logistic\n",
      "(327, 4)\n",
      "Optimizing classifier...\n",
      "Best Score: 0.12718337542130914\n",
      "Best classifier: Pipeline(steps=[('ss', StandardScaler()),\n",
      "                ('svm',\n",
      "                 SVC(C=1.1, class_weight='balanced', gamma='auto',\n",
      "                     kernel='poly', probability=True))])\n",
      "Writing data to C:\\Users\\Jackson Lee\\Jupyter projects\\Master\\Abell 2744\\Files\\Galaxy Probability Files\\CMP + svm\n",
      "(327, 4)\n",
      "Optimizing classifier...\n",
      "Best Score: 0.1564913318544244\n",
      "Best classifier: Pipeline(steps=[('ss', MinMaxScaler()), ('gnb', GaussianNB())])\n",
      "Writing data to C:\\Users\\Jackson Lee\\Jupyter projects\\Master\\Abell 2744\\Files\\Galaxy Probability Files\\CMP + gnb\n",
      "(327, 4)\n",
      "Optimizing classifier...\n"
     ]
    },
    {
     "name": "stderr",
     "output_type": "stream",
     "text": [
      "C:\\Users\\Jackson Lee\\Anaconda3\\lib\\site-packages\\sklearn\\naive_bayes.py:508: UserWarning: alpha too small will result in numeric errors, setting alpha = 1.0e-10\n",
      "  warnings.warn('alpha too small will result in numeric errors, '\n",
      "C:\\Users\\Jackson Lee\\Anaconda3\\lib\\site-packages\\sklearn\\naive_bayes.py:508: UserWarning: alpha too small will result in numeric errors, setting alpha = 1.0e-10\n",
      "  warnings.warn('alpha too small will result in numeric errors, '\n"
     ]
    },
    {
     "name": "stdout",
     "output_type": "stream",
     "text": [
      "Best Score: 0.20952269885434965\n",
      "Best classifier: Pipeline(steps=[('ss', MinMaxScaler()), ('mnb', MultinomialNB(alpha=0.0))])\n",
      "Writing data to C:\\Users\\Jackson Lee\\Jupyter projects\\Master\\Abell 2744\\Files\\Galaxy Probability Files\\CMP + mnb\n",
      "(327, 4)\n",
      "Optimizing classifier...\n"
     ]
    },
    {
     "name": "stderr",
     "output_type": "stream",
     "text": [
      "C:\\Users\\Jackson Lee\\Anaconda3\\lib\\site-packages\\sklearn\\naive_bayes.py:508: UserWarning: alpha too small will result in numeric errors, setting alpha = 1.0e-10\n",
      "  warnings.warn('alpha too small will result in numeric errors, '\n",
      "C:\\Users\\Jackson Lee\\Anaconda3\\lib\\site-packages\\sklearn\\naive_bayes.py:508: UserWarning: alpha too small will result in numeric errors, setting alpha = 1.0e-10\n",
      "  warnings.warn('alpha too small will result in numeric errors, '\n"
     ]
    },
    {
     "name": "stdout",
     "output_type": "stream",
     "text": [
      "Best Score: 0.23082433552205675\n",
      "Best classifier: Pipeline(steps=[('ss', MinMaxScaler()),\n",
      "                ('cnb', ComplementNB(alpha=0.0, fit_prior=False))])\n",
      "Writing data to C:\\Users\\Jackson Lee\\Jupyter projects\\Master\\Abell 2744\\Files\\Galaxy Probability Files\\CMP + cnb\n",
      "(327, 4)\n",
      "Optimizing classifier...\n",
      "Best Score: 0.12797256420880593\n",
      "Best classifier: Pipeline(steps=[('ss', StandardScaler()),\n",
      "                ('rf',\n",
      "                 RandomForestClassifier(max_depth=3, min_samples_split=3))])\n",
      "Writing data to C:\\Users\\Jackson Lee\\Jupyter projects\\Master\\Abell 2744\\Files\\Galaxy Probability Files\\CMP + rf\n",
      "(327, 4)\n"
     ]
    }
   ],
   "source": [
    "cmpList = [\"knn\", \"rnn\", \"logistic\", \"svm\", \"gnb\", \"mnb\", \"cnb\", \"rf\"]\n",
    "\n",
    "for model in cmpList:\n",
    "    cmpWrite(model)"
   ]
  },
  {
   "cell_type": "code",
   "execution_count": 6,
   "id": "f66a3c1b",
   "metadata": {},
   "outputs": [],
   "source": [
    "#Write probabilities using coe data\n",
    "def coeWrite(model):\n",
    "    cut = \"Coe\"\n",
    "    dat = ML.writeProbs(cpmAll, \n",
    "                 [[XCoe, yCoe, pCoe, ppmCoe], [XCM, yall, pNCoe, ppmNCoe]], \n",
    "                 model, filebase + cut)\n",
    "\n",
    "    print(dat.shape)"
   ]
  },
  {
   "cell_type": "code",
   "execution_count": 26,
   "id": "f2546297",
   "metadata": {},
   "outputs": [
    {
     "name": "stdout",
     "output_type": "stream",
     "text": [
      "Optimizing classifier...\n",
      "Best Score: 0.11968450656573132\n",
      "Best classifier: Pipeline(steps=[('ss', StandardScaler()),\n",
      "                ('knn', KNeighborsClassifier(n_neighbors=19))])\n",
      "Optimizing classifier...\n",
      "Best Score: 0.13108423408208766\n",
      "Best classifier: Pipeline(steps=[('ss', StandardScaler()),\n",
      "                ('knn',\n",
      "                 KNeighborsClassifier(n_neighbors=16, weights='distance'))])\n",
      "Writing data to C:\\Users\\Jackson Lee\\Jupyter projects\\Master\\Abell 2744\\Files\\Galaxy Probability Files\\Coe + knn\n",
      "(327, 4)\n",
      "Optimizing classifier...\n",
      "Best Score: 0.2744174964843154\n",
      "Best classifier: Pipeline(steps=[('ss', StandardScaler()),\n",
      "                ('rnn',\n",
      "                 RadiusNeighborsClassifier(outlier_label='most_frequent',\n",
      "                                           radius=1.4899999999999993))])\n",
      "Optimizing classifier...\n",
      "Best Score: 0.12408010524945673\n",
      "Best classifier: Pipeline(steps=[('ss', StandardScaler()),\n",
      "                ('rnn',\n",
      "                 RadiusNeighborsClassifier(outlier_label='most_frequent',\n",
      "                                           radius=1.4199999999999995,\n",
      "                                           weights='distance'))])\n",
      "Writing data to C:\\Users\\Jackson Lee\\Jupyter projects\\Master\\Abell 2744\\Files\\Galaxy Probability Files\\Coe + rnn\n",
      "(327, 4)\n",
      "Optimizing classifier...\n",
      "Best Score: 0.1076145312948726\n",
      "Best classifier: Pipeline(steps=[('ss', StandardScaler()),\n",
      "                ('logistic', LogisticRegression(C=1.6))])\n",
      "Optimizing classifier...\n"
     ]
    },
    {
     "name": "stderr",
     "output_type": "stream",
     "text": [
      "C:\\Users\\Jackson Lee\\Anaconda3\\lib\\site-packages\\sklearn\\linear_model\\_logistic.py:1322: UserWarning: Setting penalty='none' will ignore the C and l1_ratio parameters\n",
      "  warnings.warn(\n",
      "C:\\Users\\Jackson Lee\\Anaconda3\\lib\\site-packages\\sklearn\\linear_model\\_logistic.py:1322: UserWarning: Setting penalty='none' will ignore the C and l1_ratio parameters\n",
      "  warnings.warn(\n"
     ]
    },
    {
     "name": "stdout",
     "output_type": "stream",
     "text": [
      "Best Score: 0.1321341774229136\n",
      "Best classifier: Pipeline(steps=[('ss', StandardScaler()),\n",
      "                ('logistic', LogisticRegression(C=0.1, penalty='none'))])\n",
      "Writing data to C:\\Users\\Jackson Lee\\Jupyter projects\\Master\\Abell 2744\\Files\\Galaxy Probability Files\\Coe + logistic\n",
      "(327, 4)\n",
      "Optimizing classifier...\n",
      "Best Score: 0.10328309058658448\n",
      "Best classifier: Pipeline(steps=[('ss', StandardScaler()),\n",
      "                ('svm',\n",
      "                 SVC(C=0.9, class_weight='balanced', kernel='sigmoid',\n",
      "                     probability=True))])\n",
      "Optimizing classifier...\n",
      "Best Score: 0.1222272717413992\n",
      "Best classifier: Pipeline(steps=[('ss', StandardScaler()),\n",
      "                ('svm', SVC(C=2.2, gamma='auto', probability=True))])\n",
      "Writing data to C:\\Users\\Jackson Lee\\Jupyter projects\\Master\\Abell 2744\\Files\\Galaxy Probability Files\\Coe + svm\n",
      "(327, 4)\n",
      "Optimizing classifier...\n",
      "Best Score: 0.1186941207653339\n",
      "Best classifier: Pipeline(steps=[('ss', MinMaxScaler()), ('gnb', GaussianNB())])\n",
      "Optimizing classifier...\n",
      "Best Score: 0.15055448651936312\n",
      "Best classifier: Pipeline(steps=[('ss', MinMaxScaler()), ('gnb', GaussianNB())])\n",
      "Writing data to C:\\Users\\Jackson Lee\\Jupyter projects\\Master\\Abell 2744\\Files\\Galaxy Probability Files\\Coe + gnb\n",
      "(327, 4)\n",
      "Optimizing classifier...\n"
     ]
    },
    {
     "name": "stderr",
     "output_type": "stream",
     "text": [
      "C:\\Users\\Jackson Lee\\Anaconda3\\lib\\site-packages\\sklearn\\naive_bayes.py:508: UserWarning: alpha too small will result in numeric errors, setting alpha = 1.0e-10\n",
      "  warnings.warn('alpha too small will result in numeric errors, '\n",
      "C:\\Users\\Jackson Lee\\Anaconda3\\lib\\site-packages\\sklearn\\naive_bayes.py:508: UserWarning: alpha too small will result in numeric errors, setting alpha = 1.0e-10\n",
      "  warnings.warn('alpha too small will result in numeric errors, '\n"
     ]
    },
    {
     "name": "stdout",
     "output_type": "stream",
     "text": [
      "Best Score: 0.118010897985224\n",
      "Best classifier: Pipeline(steps=[('ss', MinMaxScaler()), ('mnb', MultinomialNB(alpha=0.0))])\n",
      "Optimizing classifier...\n"
     ]
    },
    {
     "name": "stderr",
     "output_type": "stream",
     "text": [
      "C:\\Users\\Jackson Lee\\Anaconda3\\lib\\site-packages\\sklearn\\naive_bayes.py:508: UserWarning: alpha too small will result in numeric errors, setting alpha = 1.0e-10\n",
      "  warnings.warn('alpha too small will result in numeric errors, '\n",
      "C:\\Users\\Jackson Lee\\Anaconda3\\lib\\site-packages\\sklearn\\naive_bayes.py:508: UserWarning: alpha too small will result in numeric errors, setting alpha = 1.0e-10\n",
      "  warnings.warn('alpha too small will result in numeric errors, '\n"
     ]
    },
    {
     "name": "stdout",
     "output_type": "stream",
     "text": [
      "Best Score: 0.20980918125385742\n",
      "Best classifier: Pipeline(steps=[('ss', MinMaxScaler()), ('mnb', MultinomialNB(alpha=0.0))])\n",
      "Writing data to C:\\Users\\Jackson Lee\\Jupyter projects\\Master\\Abell 2744\\Files\\Galaxy Probability Files\\Coe + mnb\n",
      "(327, 4)\n",
      "Optimizing classifier...\n"
     ]
    },
    {
     "name": "stderr",
     "output_type": "stream",
     "text": [
      "C:\\Users\\Jackson Lee\\Anaconda3\\lib\\site-packages\\sklearn\\naive_bayes.py:508: UserWarning: alpha too small will result in numeric errors, setting alpha = 1.0e-10\n",
      "  warnings.warn('alpha too small will result in numeric errors, '\n",
      "C:\\Users\\Jackson Lee\\Anaconda3\\lib\\site-packages\\sklearn\\naive_bayes.py:508: UserWarning: alpha too small will result in numeric errors, setting alpha = 1.0e-10\n",
      "  warnings.warn('alpha too small will result in numeric errors, '\n"
     ]
    },
    {
     "name": "stdout",
     "output_type": "stream",
     "text": [
      "Best Score: 0.1329093959607366\n",
      "Best classifier: Pipeline(steps=[('ss', MinMaxScaler()),\n",
      "                ('cnb', ComplementNB(alpha=0.0, fit_prior=False))])\n",
      "Optimizing classifier...\n"
     ]
    },
    {
     "name": "stderr",
     "output_type": "stream",
     "text": [
      "C:\\Users\\Jackson Lee\\Anaconda3\\lib\\site-packages\\sklearn\\naive_bayes.py:508: UserWarning: alpha too small will result in numeric errors, setting alpha = 1.0e-10\n",
      "  warnings.warn('alpha too small will result in numeric errors, '\n",
      "C:\\Users\\Jackson Lee\\Anaconda3\\lib\\site-packages\\sklearn\\naive_bayes.py:508: UserWarning: alpha too small will result in numeric errors, setting alpha = 1.0e-10\n",
      "  warnings.warn('alpha too small will result in numeric errors, '\n"
     ]
    },
    {
     "name": "stdout",
     "output_type": "stream",
     "text": [
      "Best Score: 0.2311909088313751\n",
      "Best classifier: Pipeline(steps=[('ss', MinMaxScaler()),\n",
      "                ('cnb', ComplementNB(alpha=0.0, fit_prior=False))])\n",
      "Writing data to C:\\Users\\Jackson Lee\\Jupyter projects\\Master\\Abell 2744\\Files\\Galaxy Probability Files\\Coe + cnb\n",
      "(327, 4)\n",
      "Optimizing classifier...\n",
      "Best Score: 0.09435226789556612\n",
      "Best classifier: Pipeline(steps=[('ss', StandardScaler()),\n",
      "                ('rf',\n",
      "                 RandomForestClassifier(criterion='entropy', max_depth=5,\n",
      "                                        min_samples_leaf=2, min_samples_split=5,\n",
      "                                        random_state=0))])\n",
      "Optimizing classifier...\n",
      "Best Score: 0.12465862220224454\n",
      "Best classifier: Pipeline(steps=[('ss', StandardScaler()),\n",
      "                ('rf', RandomForestClassifier(max_depth=2, random_state=0))])\n",
      "Writing data to C:\\Users\\Jackson Lee\\Jupyter projects\\Master\\Abell 2744\\Files\\Galaxy Probability Files\\Coe + rf\n",
      "(327, 4)\n"
     ]
    }
   ],
   "source": [
    "coeList = [\"knn\", \"rnn\", \"logistic\", \"svm\", \"gnb\", \"mnb\", \"cnb\", \"rf\"]\n",
    "\n",
    "for model in coeList:\n",
    "    coeWrite(model)"
   ]
  },
  {
   "cell_type": "code",
   "execution_count": 7,
   "id": "891b9026",
   "metadata": {},
   "outputs": [
    {
     "name": "stdout",
     "output_type": "stream",
     "text": [
      "Optimizing classifier...\n",
      "Best Score: 0.12441512455285038\n",
      "Best classifier: Pipeline(steps=[('ss', StandardScaler()),\n",
      "                ('rnn',\n",
      "                 RadiusNeighborsClassifier(outlier_label='most_frequent',\n",
      "                                           radius=1.4000000000000001,\n",
      "                                           weights='distance'))])\n",
      "Writing data to C:\\Users\\Jackson Lee\\Jupyter projects\\Master\\Abell 2744\\Files\\Galaxy Probability Files\\CM + rnn\n",
      "(327, 4)\n",
      "Optimizing classifier...\n",
      "Best Score: 0.14541693292374747\n",
      "Best classifier: Pipeline(steps=[('ss', StandardScaler()),\n",
      "                ('rnn',\n",
      "                 RadiusNeighborsClassifier(outlier_label='most_frequent',\n",
      "                                           radius=2.4000000000000004,\n",
      "                                           weights='distance'))])\n",
      "Writing data to C:\\Users\\Jackson Lee\\Jupyter projects\\Master\\Abell 2744\\Files\\Galaxy Probability Files\\CMP + rnn\n",
      "(327, 4)\n",
      "Optimizing classifier...\n",
      "Best Score: 0.13725194654204714\n",
      "Best classifier: Pipeline(steps=[('ss', StandardScaler()),\n",
      "                ('rnn',\n",
      "                 RadiusNeighborsClassifier(outlier_label='most_frequent',\n",
      "                                           radius=2.9000000000000004,\n",
      "                                           weights='distance'))])\n",
      "Optimizing classifier...\n",
      "Best Score: 0.12441512455285038\n",
      "Best classifier: Pipeline(steps=[('ss', StandardScaler()),\n",
      "                ('rnn',\n",
      "                 RadiusNeighborsClassifier(outlier_label='most_frequent',\n",
      "                                           radius=1.4000000000000001,\n",
      "                                           weights='distance'))])\n",
      "Writing data to C:\\Users\\Jackson Lee\\Jupyter projects\\Master\\Abell 2744\\Files\\Galaxy Probability Files\\Coe + rnn\n",
      "(327, 4)\n"
     ]
    }
   ],
   "source": [
    "#Redo rnn for better range\n",
    "cmWrite(\"rnn\")\n",
    "cmpWrite(\"rnn\")\n",
    "coeWrite(\"rnn\")"
   ]
  },
  {
   "cell_type": "code",
   "execution_count": null,
   "id": "a7ac3ffd",
   "metadata": {},
   "outputs": [],
   "source": []
  }
 ],
 "metadata": {
  "kernelspec": {
   "display_name": "Python 3 (ipykernel)",
   "language": "python",
   "name": "python3"
  },
  "language_info": {
   "codemirror_mode": {
    "name": "ipython",
    "version": 3
   },
   "file_extension": ".py",
   "mimetype": "text/x-python",
   "name": "python",
   "nbconvert_exporter": "python",
   "pygments_lexer": "ipython3",
   "version": "3.9.7"
  }
 },
 "nbformat": 4,
 "nbformat_minor": 5
}
