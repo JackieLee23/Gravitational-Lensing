{
 "cells": [
  {
   "cell_type": "code",
   "execution_count": 3,
   "id": "db22cc1a",
   "metadata": {},
   "outputs": [
    {
     "name": "stdout",
     "output_type": "stream",
     "text": [
      "Read image data from file C:\\Users\\Jackson\\Jupyter projects\\Files/a2744_images_0.5.dat\n"
     ]
    }
   ],
   "source": [
    "cluster = 'a2744'\n",
    "zclus = {'a2744' : 0.308,\n",
    "         'm0416' : 0.396}\n",
    "pgals = {'a2744' : [1.689791e-01, 1.965115e+00, 2.0],\n",
    "        'm0416' : [3.737113e-01, 1.322081e+00, 2.0]}\n",
    "nclus = {'a2744': \"Abell 2744\",\n",
    "         'm0416' : \"MACS 0416\"}\n",
    "\n",
    "import sys\n",
    "utils = 'C:\\\\Users\\\\Jackson\\\\Jupyter projects\\\\Master\\\\Utility\\\\'\n",
    "sys.path.insert(0, utils)\n",
    "\n",
    "root = 'C:\\\\Users\\\\Jackson\\\\Jupyter projects\\\\'\n",
    "sys.path.insert(0, root)\n",
    "filebase = 'C:\\\\Users\\\\Jackson\\\\Jupyter projects\\\\Master\\\\' + nclus[cluster] + \"\\\\Files\\\\\"\n",
    "\n",
    "import numpy as np\n",
    "import numpy.ma as ma\n",
    "from astropy.cosmology import FlatLambdaCDM\n",
    "from os import listdir\n",
    "from os.path import isfile, join\n",
    "import MCUtil as MC\n",
    "import DeltaSquared as DS\n",
    "import matplotlib.pyplot as plt\n",
    "import matplotlib.cm as cm\n",
    "import statistics\n",
    "import fitClusParallel as myfit\n",
    "\n",
    "cosmo = FlatLambdaCDM(H0=70, Om0=0.3)\n",
    "zlens = zclus[cluster]\n",
    "imgdat = myfit.imgclass(root + \"Files/\" + cluster + '_images_0.5.dat',zlens,cosmo)"
   ]
  },
  {
   "cell_type": "code",
   "execution_count": 4,
   "id": "6931bedf",
   "metadata": {},
   "outputs": [],
   "source": [
    "sameDet = [\"CM + sigmaDet\", \"CM + sigmaDet - 1\", \"CM + sigmaDet - 2\", \"CM + sigmaDet - 3\", \"CM + sigmaDet - 4\"]\n",
    "sameRF = [\"Coe + rf\", \"Coe + rf - 1\", \"Coe + rf - 2\", \"Coe + rf - 3\", \"Coe + rf - 4\"]"
   ]
  },
  {
   "cell_type": "code",
   "execution_count": 5,
   "id": "c8045a56",
   "metadata": {},
   "outputs": [],
   "source": [
    "#Compare scores between different realizations of same sigma\n",
    "def compSame(arr):\n",
    "    print(\"Cross comparison D^2 between models with same parameters: \")\n",
    "    count = 0\n",
    "    sum  = 0\n",
    "    for i in range(len(arr)):\n",
    "        for j in range(i + 1, len(arr)):\n",
    "            dist1 = np.load(filebase + \"MCMC\\\\\"+ arr[i] + \"-main.npy\")\n",
    "            dist2 = np.load(filebase + \"MCMC\\\\\" + arr[j] + \"-main.npy\")\n",
    "            score = DS.TwoSampleTest(dist1, dist2)\n",
    "            count += 1\n",
    "            sum += score\n",
    "            print(score)\n",
    "            \n",
    "    print(\"Average: {}\".format(sum / count))\n",
    "    return sum / count"
   ]
  },
  {
   "cell_type": "code",
   "execution_count": 6,
   "id": "3b7c2583",
   "metadata": {},
   "outputs": [
    {
     "name": "stdout",
     "output_type": "stream",
     "text": [
      "Cross comparison D^2 between models with same parameters: \n",
      "0.46982645497471115\n",
      "0.40824012901296813\n",
      "0.720220805089673\n",
      "1.167673900449292\n",
      "0.6683285818425229\n",
      "0.8574196149893617\n",
      "0.876294008948604\n",
      "0.48396948537413365\n",
      "0.8251332873058415\n",
      "0.9199677067952765\n",
      "Average: 0.7397073974782384\n"
     ]
    }
   ],
   "source": [
    "detBaseline = compSame(sameDet)"
   ]
  },
  {
   "cell_type": "code",
   "execution_count": 7,
   "id": "4f4a2f2f",
   "metadata": {},
   "outputs": [
    {
     "name": "stdout",
     "output_type": "stream",
     "text": [
      "Cross comparison D^2 between models with same parameters: \n",
      "0.6113958293867239\n",
      "0.6224054641120353\n",
      "0.691138114345371\n",
      "0.4171020140739917\n",
      "0.5089527337371419\n",
      "0.7434918735589585\n",
      "0.5042347731148895\n",
      "0.5122981688480095\n",
      "0.4300913068547178\n",
      "0.49763555764624817\n",
      "Average: 0.5538745835678087\n"
     ]
    }
   ],
   "source": [
    "probBaseline = compSame(sameRF)"
   ]
  },
  {
   "cell_type": "code",
   "execution_count": 8,
   "id": "22062ed1",
   "metadata": {},
   "outputs": [
    {
     "name": "stdout",
     "output_type": "stream",
     "text": [
      "dict_keys(['CM + sigmaDet', 'CM + sigmaProb', 'CM + prop', 'CM + box', 'CM + knn', 'CM + logistic', 'CM + svm', 'CM + gnb', 'CM + mnb', 'CM + cnb', 'CM + rf', 'CMP + knn', 'CMP + logistic', 'CMP + svm', 'CMP + gnb', 'CMP + mnb', 'CMP + cnb', 'CMP + rf', 'Coe + knn', 'Coe + logistic', 'Coe + svm', 'Coe + gnb', 'Coe + mnb', 'Coe + cnb', 'Coe + rf', 'CM + rnn', 'CMP + rnn', 'Coe + rnn'])\n"
     ]
    }
   ],
   "source": [
    "scoreFile = np.load(filebase + \"scores.npy\", allow_pickle = True)\n",
    "modelScores = scoreFile[()]\n",
    "print(modelScores.keys())\n",
    "models = modelScores.keys()"
   ]
  },
  {
   "cell_type": "code",
   "execution_count": 9,
   "id": "88fa19ba",
   "metadata": {},
   "outputs": [],
   "source": [
    "# dist1 = np.load(filebase + \"\\\\MCMC\\\\\"+ models[i] + \"-main.npy\")\n",
    "# dist2 = np.load(filebase + \"\\\\MCMC\\\\\" + models[j] + \"-main.npy\")\n",
    "# dscore = DS.TwoSampleTest(dist1, dist2)\n",
    "distSigma = np.load((filebase + \"\\\\MCMC\\\\CM + sigmaDet-main.npy\"))\n",
    "\n",
    "detscores = []\n",
    "for model in models:\n",
    "    if model == \"CM + sigmaDet\":\n",
    "        continue\n",
    "        \n",
    "    distTemp = np.load(filebase + \"\\\\MCMC\\\\\"+ model + \"-main.npy\")\n",
    "    dscore = DS.TwoSampleTest(distSigma, distTemp)\n",
    "    detscores.append(dscore)\n",
    "    "
   ]
  },
  {
   "cell_type": "code",
   "execution_count": 22,
   "id": "ed38ed3a",
   "metadata": {},
   "outputs": [
    {
     "name": "stdout",
     "output_type": "stream",
     "text": [
      "2.989491299256415\n",
      "0.7397073974782384\n"
     ]
    },
    {
     "data": {
      "text/plain": [
       "Text(0, 0.5, 'Frequency')"
      ]
     },
     "execution_count": 22,
     "metadata": {},
     "output_type": "execute_result"
    },
    {
     "data": {
      "image/png": "[encoded data removed]",
      "text/plain": [
       "<Figure size 576x360 with 1 Axes>"
      ]
     },
     "metadata": {
      "needs_background": "light"
     },
     "output_type": "display_data"
    }
   ],
   "source": [
    "detscores = np.array(detscores)\n",
    "print(np.mean(detscores))\n",
    "\n",
    "fig, ax = plt.subplots(figsize = (8, 5))\n",
    "ax.hist(detscores, bins = np.arange(0, 10, 1))\n",
    "print(detBaseline)\n",
    "\n",
    "ax.axvline(x = detBaseline, color = \"red\")\n",
    "ax.set_xlabel(\"Delta Squared Score\", size = 20)\n",
    "ax.set_ylabel(\"Frequency\", size = 20)"
   ]
  },
  {
   "cell_type": "code",
   "execution_count": 18,
   "id": "f6f3fcd7",
   "metadata": {},
   "outputs": [],
   "source": [
    "probModels = [model for model in models if not model == \"CM + sigmaDet\"]\n",
    "n = len(probModels)\n",
    "probscores = []\n",
    "\n",
    "for i in range(n):\n",
    "    for j in range(i + 1, n):\n",
    "        dist1 = np.load(filebase + \"\\\\MCMC\\\\\"+ probModels[i] + \"-main.npy\")\n",
    "        dist2 = np.load(filebase + \"\\\\MCMC\\\\\" + probModels[j] + \"-main.npy\")\n",
    "        dscore = DS.TwoSampleTest(dist1, dist2)\n",
    "        \n",
    "        probscores.append(dscore)"
   ]
  },
  {
   "cell_type": "code",
   "execution_count": 29,
   "id": "eb3aacd8",
   "metadata": {},
   "outputs": [
    {
     "name": "stdout",
     "output_type": "stream",
     "text": [
      "351\n",
      "1.4268789385747263\n"
     ]
    }
   ],
   "source": [
    "print(len(probscores))\n",
    "probscores = np.array(probscores)\n",
    "print(np.mean(probscores))"
   ]
  },
  {
   "cell_type": "code",
   "execution_count": 28,
   "id": "f7740886",
   "metadata": {},
   "outputs": [
    {
     "data": {
      "text/plain": [
       "Text(0, 0.5, 'Frequency')"
      ]
     },
     "execution_count": 28,
     "metadata": {},
     "output_type": "execute_result"
    },
    {
     "data": {
      "image/png": "[encoded data removed]",
      "text/plain": [
       "<Figure size 576x360 with 1 Axes>"
      ]
     },
     "metadata": {
      "needs_background": "light"
     },
     "output_type": "display_data"
    }
   ],
   "source": [
    "fig, ax = plt.subplots(figsize = (8, 5))\n",
    "ax.hist(probscores, bins = np.arange(0, 8, 0.25))\n",
    "ax.axvline(x = probBaseline, color = \"red\")\n",
    "ax.set_xlabel(\"Delta Squared Score\", size = 20)\n",
    "ax.set_ylabel(\"Frequency\", size = 20)"
   ]
  }
 ],
 "metadata": {
  "kernelspec": {
   "display_name": "Python 3 (ipykernel)",
   "language": "python",
   "name": "python3"
  },
  "language_info": {
   "codemirror_mode": {
    "name": "ipython",
    "version": 3
   },
   "file_extension": ".py",
   "mimetype": "text/x-python",
   "name": "python",
   "nbconvert_exporter": "python",
   "pygments_lexer": "ipython3",
   "version": "3.9.7"
  }
 },
 "nbformat": 4,
 "nbformat_minor": 5
}
