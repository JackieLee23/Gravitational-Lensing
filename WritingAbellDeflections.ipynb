{
 "cells": [
  {
   "cell_type": "code",
   "execution_count": 2,
   "id": "df0ac55a",
   "metadata": {},
   "outputs": [],
   "source": [
    "import numpy as np\n",
    "import pandas as pd\n",
    "\n",
    "import matplotlib.pyplot as plt\n",
    "import matplotlib.cm as cm\n",
    "import matplotlib.gridspec as gridspec\n",
    "import matplotlib.patches as mpatches\n",
    "import matplotlib.colors as colors\n",
    "from matplotlib.patches import Ellipse\n",
    "%matplotlib inline\n",
    "import math\n",
    "import fitClus2D as fc\n",
    "from scipy.stats import sigmaclip\n",
    "from sklearn.neighbors import KNeighborsClassifier, RadiusNeighborsClassifier\n",
    "\n",
    "import astropy\n",
    "from astropy.stats import sigma_clip\n",
    "from astropy.io import fits\n",
    "from astropy.wcs import WCS\n",
    "from astropy.cosmology import LambdaCDM\n",
    "\n",
    "from PIL import Image\n",
    "\n",
    "# These cuts get you a 4x4 arcmin square centered on the image center of the fields\n",
    "img_cuts = {'a2744':[[519,4520],[412,4413]],\n",
    "            'm0416':[[367,4368],[380,4381]]}\n",
    "img_files = {'a2744':'Files/abell2744_RGB.fits',\n",
    "             'm0416':'Files/macs0416_RGB.fits'}\n",
    "\n",
    "zclus = {'a2744' : 0.308,\n",
    "         'm0416' : 0.396}\n",
    "pgals = {'a2744' : [1.689791e-01, 1.965115e+00, 2.0],\n",
    "        'm0416' : [3.737113e-01, 1.322081e+00, 2.0]}\n"
   ]
  },
  {
   "cell_type": "code",
   "execution_count": 3,
   "id": "6b6f4e39",
   "metadata": {},
   "outputs": [
    {
     "name": "stdout",
     "output_type": "stream",
     "text": [
      "0.3069860850098326 0.007357462290748165\n",
      "0.022072386872244495\n",
      "92\n",
      "46\n",
      "235\n"
     ]
    }
   ],
   "source": [
    "cluster = 'a2744'\n",
    "catalog = \"Files/\" + cluster + \"_master_cleaned.csv\"\n",
    "\n",
    "#Set up clusters, not clusters, and unknowns\n",
    "dzcut=0.03; sigclip=3; sigcut=3; radialcut=120; maglim=23.5; colorcut=1.0\n",
    "master = pd.read_csv(catalog)\n",
    "zdat = master['master_z']\n",
    "valid = master['master_valid']\n",
    "memberindx = np.where((zdat>zclus[cluster]-dzcut)&(zdat<zclus[cluster]+dzcut)&(valid==1))[0]\n",
    "z1 = zdat[memberindx]\n",
    "z2 = sigma_clip(z1,sigma=sigclip)\n",
    "print(np.mean(z2),np.std(z2))\n",
    "\n",
    "dz = sigcut*np.std(z2)\n",
    "print(dz)\n",
    "ddat = master['master_d']\n",
    "zdat = master['master_z']\n",
    "mag814 = master['master_mag814']\n",
    "mag606 = master['master_mag606']\n",
    "valid = master['master_valid']\n",
    "master_cut = master.iloc[np.where((ddat<radialcut)&(~np.isnan(mag606))&(~np.isnan(mag814))&(mag814<=maglim)&(valid == 1))]\n",
    "\n",
    "zdat   = master_cut['master_z']\n",
    "nmemindx = np.where((zdat<zclus[cluster]-dz)|(zdat>zclus[cluster]+dz))[0]\n",
    "memindx = np.where((zdat>zclus[cluster]-dz)&(zdat<zclus[cluster]+dz))[0]\n",
    "unknownindx = np.where(np.isnan(zdat))[0]\n",
    "\n",
    "clusterarr = [master_cut.iloc[i] for i in memindx]\n",
    "ncluster =[master_cut.iloc[i] for i in nmemindx]\n",
    "unknown = [master_cut.iloc[i] for i in unknownindx]\n",
    "\n",
    "XclustCM= [[row['master_mag814'], row['master_mag606'] - row['master_mag814']] for row in clusterarr]\n",
    "XnclustCM = [[row['master_mag814'], row['master_mag606'] - row['master_mag814']] for row in ncluster]\n",
    "Xcm = np.array(XclustCM + XnclustCM)\n",
    "\n",
    "Xclustall= [[row['master_mag814'], row['master_mag606'] - row['master_mag814'], row['master_d']] for row in clusterarr]\n",
    "Xnclustall = [[row['master_mag814'], row['master_mag606'] - row['master_mag814'], row['master_d']] for row in ncluster]\n",
    "Xall = np.array(Xclustall + Xnclustall)\n",
    "\n",
    "unknownXcm = [[row['master_mag814'], row['master_mag606'] - row['master_mag814']] for row in unknown]\n",
    "unknownXcm = np.array(unknownXcm)\n",
    "\n",
    "y = np.zeros(len(clusterarr) + len(ncluster))\n",
    "y[:len(clusterarr)] = 1\n",
    "\n",
    "clustnum = len(clusterarr)\n",
    "nclustnum = len(ncluster)\n",
    "print(len(memindx))\n",
    "print(len(nmemindx))\n",
    "print(len(unknownindx))\n"
   ]
  },
  {
   "cell_type": "code",
   "execution_count": 4,
   "id": "da2c4301",
   "metadata": {},
   "outputs": [],
   "source": [
    "# Read in RGB file \n",
    "RGB = fits.open(img_files[cluster])\n",
    "\n",
    "# Put separate extensions into own R/G/B arrays\n",
    "imr=Image.fromarray(RGB[1].data,mode=None) \n",
    "img=Image.fromarray(RGB[2].data,mode=None)\n",
    "imb=Image.fromarray(RGB[3].data,mode=None)\n",
    "\n",
    "# Merge them back into one image\n",
    "merged=Image.merge(\"RGB\",(imr,img,imb))\n",
    "\n",
    "# Conversion factor to translate between x & y and pixels\n",
    "# In units of arcseconds per pixel\n",
    "conv = 23.8809/398.015 \n",
    "\n",
    "# Cut image down to square shape & zoom in since it's a little big\n",
    "xx = img_cuts[cluster][0] # sets area to cut to\n",
    "yy = img_cuts[cluster][1]\n",
    "val = 0 # sets zoom in\n",
    "\n",
    "imgcut = np.array(merged)[xx[0]+val:xx[1]-val,yy[0]+val:yy[1]-val]"
   ]
  },
  {
   "cell_type": "code",
   "execution_count": 5,
   "id": "f2bf6aca",
   "metadata": {},
   "outputs": [
    {
     "name": "stdout",
     "output_type": "stream",
     "text": [
      "Read image data from file Files/a2744_images.dat\n"
     ]
    }
   ],
   "source": [
    "#Set up images\n",
    "cosmo = LambdaCDM(H0 = 70, Om0 = 0.3, Ode0 = 0.7)\n",
    "img = fc.imgclass(\"Files/\" + cluster + \"_images.dat\", zclus[cluster], cosmo)"
   ]
  },
  {
   "cell_type": "code",
   "execution_count": 6,
   "id": "d5eadda0",
   "metadata": {},
   "outputs": [],
   "source": [
    "#Ways to assign probabilities\n",
    "def normalize(X, p):\n",
    "    copyX = np.copy(X)\n",
    "    copyp = np.copy(p)\n",
    "    for i in range((len(X[0]))):\n",
    "        mn = np.min(X[:,i])\n",
    "        mx = np.max(X[:,i])\n",
    "        copyX[:,i] = (X[:,i] - mn) / (mx - mn)\n",
    "        copyp[:,i] = (p[:,i] - mn) / (mx - mn)\n",
    "    \n",
    "    return copyX, copyp\n",
    "    \n",
    "def Knn(X, y, p, k):\n",
    "    normX, normp = normalize(X, p)\n",
    "    model = KNeighborsClassifier(n_neighbors = k)\n",
    "    model.fit(normX, y)\n",
    "    return model.predict_proba(normp)[:,1], model.predict(normp)\n",
    "\n",
    "def Rnn(X, y, p, r):\n",
    "    normX, normp = normalize(X, p)\n",
    "    model = RadiusNeighborsClassifier(radius = r, outlier_label = 0)\n",
    "    model.fit(normX, y)\n",
    "    return model.predict_proba(normp)[:,1], model.predict(normp)\n",
    "\n",
    "def box(X, y, p, numx, numy):\n",
    "    minm = np.min(Xcm[:,0])\n",
    "    maxm = np.max(Xcm[:,0])\n",
    "    minc = np.min(Xcm[:,1])\n",
    "    maxc = np.max(Xcm[:,1])\n",
    "    w = maxm - minm\n",
    "    h = maxc - minc\n",
    "    minm -= 0.01 * w\n",
    "    maxm += 0.01 * w\n",
    "    minc -= 0.01 * h\n",
    "    maxc += 0.01 * h\n",
    "    \n",
    "    boxw = (maxm - minm) / numx\n",
    "    boxh = (maxc - minc) / numy\n",
    "    grid = np.zeros((numx, numy, 2))\n",
    "    \n",
    "    for i, point in enumerate(X):\n",
    "        xcoor = int((point[0] - minm) / boxw)\n",
    "        ycoor = int((point[1] - minc) / boxh)\n",
    "        grid[xcoor, ycoor, 1] += 1\n",
    "        grid[xcoor, ycoor, 0] += y[i]\n",
    "        \n",
    "    probs = np.zeros(len(p))\n",
    "    classes = np.zeros(len(p))\n",
    "    \n",
    "    for i, point in enumerate(p):\n",
    "        if point[0] >= minm and point[0] < maxm and point[1] >= minc and point[1] <= maxc:\n",
    "            xcoor = int((point[0] - minm) / boxw)\n",
    "            ycoor = int((point[1] - minc) / boxh)\n",
    "            if not grid[xcoor, ycoor, 1] == 0:\n",
    "                probs[i] = grid[xcoor, ycoor, 0] / grid[xcoor, ycoor, 1]\n",
    "                if probs[i] > 0.5: classes[i] = 1\n",
    "                    \n",
    "    return probs, classes\n",
    "\n",
    "def sigmaCut(X, y, p, k):\n",
    "    clustermag = [dat[0] for i, dat in enumerate(X) if y[i] == 1]\n",
    "    clustercolor = [dat[1] for i, dat in enumerate(X) if y[i] == 1]\n",
    "    \n",
    "    model = np.polyfit(clustermag, clustercolor, 1)\n",
    "    predict = np.poly1d(model)\n",
    "    \n",
    "    res = clustercolor - predict(clustermag)\n",
    "    sigma = np.std(res)\n",
    "    \n",
    "    probs = np.zeros(len(p))\n",
    "    classes = np.zeros(len(p))\n",
    "    \n",
    "    nclust = 0\n",
    "    ntot = 0\n",
    "    \n",
    "    for i, point in enumerate(X):\n",
    "        if abs(point[1] - predict(point[0])) < k * sigma:\n",
    "            if y[i] == 1:\n",
    "                nclust += 1\n",
    "            ntot += 1\n",
    "    prob = nclust / ntot\n",
    "    \n",
    "    for i, point in enumerate(p):\n",
    "        if abs(point[1] - predict(point[0])) < k * sigma:\n",
    "               probs[i] = prob\n",
    "               classes[i] = 1\n",
    "    return probs, classes\n"
   ]
  },
  {
   "cell_type": "code",
   "execution_count": 7,
   "id": "da7b3543",
   "metadata": {},
   "outputs": [],
   "source": [
    "clusterData = [[row['master_x'], row['master_y'], row['master_mag814'], 1] for row in clusterarr]\n",
    "unknownData = [[row['master_x'], row['master_y'], row['master_mag814'], 0] for row in unknown]\n",
    "data = np.array(clusterData + unknownData)\n",
    "\n",
    "\n",
    "    \n",
    "#draw scatter plot of uncertainties in varying cluster members, or in scattering\n",
    "def scatterDraw(n, scatter, ax, probs = [], color = \"red\"):\n",
    "    global data\n",
    "    colors = [\"red\", \"blue\", \"green\"]\n",
    "    data[clustnum:,3] = probs\n",
    "    \n",
    "    gal = fc.galclass(data)\n",
    "    gal.scale()\n",
    "    alldeflect = []\n",
    "    \n",
    "    for i in range(n):\n",
    "        gal.draw(scatter)\n",
    "        deflect, gamma = gal.calcdefbasic(images)\n",
    "        alldeflect.append(deflect)\n",
    "\n",
    "    alldeflect = np.array(alldeflect)\n",
    "    for i in range(len(images)):\n",
    "        x = alldeflect[:,i,0]\n",
    "        y = alldeflect[:,i,1]\n",
    "        ax.scatter(x, y, color = color, alpha = 0.5)\n",
    "    \n",
    "    return np.mean(alldeflect, axis = 0)\n"
   ]
  },
  {
   "cell_type": "code",
   "execution_count": 8,
   "id": "4464fe28",
   "metadata": {},
   "outputs": [],
   "source": [
    "#Get probability arrays\n",
    "knnprob = Knn(Xcm, y, unknownXcm, 12)[0]\n",
    "rnnprob = Rnn(Xcm, y, unknownXcm, 0.25)[0]\n",
    "boxprob = box(Xcm, y, unknownXcm, 3, 5)[0]\n",
    "sigmaclass = sigmaCut(Xcm, y, unknownXcm, 1.0)[1]"
   ]
  },
  {
   "cell_type": "code",
   "execution_count": 9,
   "id": "64a1a45e",
   "metadata": {},
   "outputs": [
    {
     "name": "stdout",
     "output_type": "stream",
     "text": [
      "Read in 327 galaxies\n",
      "Read in 327 galaxies\n",
      "Read in 327 galaxies\n",
      "Read in 327 galaxies\n",
      "Read in 327 galaxies\n",
      "Read in 327 galaxies\n"
     ]
    },
    {
     "data": {
      "text/plain": [
       "Text(0.5, 1.0, 'Boxes')"
      ]
     },
     "execution_count": 9,
     "metadata": {},
     "output_type": "execute_result"
    },
    {
     "data": {
      "image/png": "[encoded data removed]",
      "text/plain": [
       "<Figure size 1080x360 with 3 Axes>"
      ]
     },
     "metadata": {
      "needs_background": "light"
     },
     "output_type": "display_data"
    }
   ],
   "source": [
    "images = np.array([[-28.5912, -24.0012], [-23.6743, -34.4608], [6.5976, -45.8501]])\n",
    "fig,((ax1, ax2, ax3)) = plt.subplots(1, 3, figsize=(15,5))\n",
    "\n",
    "scatterDraw(100, True, ax1, sigmaclass)\n",
    "scatterDraw(100, True, ax2, sigmaclass)\n",
    "scatterDraw(100, True, ax3, sigmaclass)\n",
    "\n",
    "scatterDraw(100, True, ax1, knnprob, \"blue\")\n",
    "scatterDraw(100, True, ax2, rnnprob, \"blue\")\n",
    "scatterDraw(100, True, ax3, boxprob, \"blue\")\n",
    "ax1.set_title(\"K nearest neighbors\")\n",
    "ax2.set_title(\"Radius nearest neighbors\")\n",
    "ax3.set_title(\"Boxes\")"
   ]
  },
  {
   "cell_type": "code",
   "execution_count": 16,
   "id": "1198f58e",
   "metadata": {},
   "outputs": [],
   "source": [
    "def getStats(n, probs, scatter, img = img):\n",
    "    global data\n",
    "    data[clustnum:,3] = probs\n",
    "\n",
    "    gal = fc.galclass(data)\n",
    "    gal.scale()\n",
    "\n",
    "    deflects = fc.defclass()\n",
    "    deflects.draw(gal, img, 1.0, [1.9, 1.965115, 2.1], n, scatter = scatter, basename = 'Files/Abell_member-def',\n",
    "                  useD = True)\n",
    "    return deflects.marr, deflects.Garr, deflects.Cmat\n",
    "\n",
    "def scatterMeans(n, probs, scatter, ax, color):\n",
    "    marr = getStats(n, probs, scatter)[0]\n",
    "    ax.scatter(marr[0,:,0], marr[0,:,1], color = color)\n",
    "    return marr\n"
   ]
  },
  {
   "cell_type": "code",
   "execution_count": 17,
   "id": "d5ab2f73",
   "metadata": {},
   "outputs": [
    {
     "name": "stdout",
     "output_type": "stream",
     "text": [
      "Read in 327 galaxies\n",
      "Generating deflection distribution: a = 1.9\n",
      "Step 0\n",
      "Generating deflection distribution: a = 1.965115\n",
      "Step 0\n",
      "Generating deflection distribution: a = 2.1\n",
      "Step 0\n",
      "Writing to files with basename Files/Abell_member-def\n",
      "(3, 71, 2)\n"
     ]
    }
   ],
   "source": [
    "ret = getStats(100, rnnprob, True)\n",
    "print(ret[0].shape)"
   ]
  }
 ],
 "metadata": {
  "kernelspec": {
   "display_name": "Python 3",
   "language": "python",
   "name": "python3"
  },
  "language_info": {
   "codemirror_mode": {
    "name": "ipython",
    "version": 3
   },
   "file_extension": ".py",
   "mimetype": "text/x-python",
   "name": "python",
   "nbconvert_exporter": "python",
   "pygments_lexer": "ipython3",
   "version": "3.8.8"
  }
 },
 "nbformat": 4,
 "nbformat_minor": 5
}
